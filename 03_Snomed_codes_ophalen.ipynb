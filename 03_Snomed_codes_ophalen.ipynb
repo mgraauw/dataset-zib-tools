{
 "cells": [
  {
   "cell_type": "code",
   "execution_count": 3,
   "metadata": {},
   "outputs": [],
   "source": [
    "import pandas as pd\n",
    "import requests\n",
    "\n",
    "baseUrl = 'https://browser.ihtsdotools.org/snowstorm/snomed-ct/'\n",
    "edition = 'MAIN'\n",
    "version = '2019-07-31'\n",
    "uri = baseUrl + 'browser/' + edition + '/' + version + '/concepts/'\n",
    "def getConcept(sctid):\n",
    "    resp = requests.get(uri + str(sctid))\n",
    "    return resp.json()"
   ]
  },
  {
   "cell_type": "code",
   "execution_count": 6,
   "metadata": {},
   "outputs": [
    {
     "data": {
      "text/plain": [
       "{'term': 'Arterial cord blood specimen (specimen)', 'lang': 'en'}"
      ]
     },
     "execution_count": 6,
     "metadata": {},
     "output_type": "execute_result"
    }
   ],
   "source": [
    "sctid = '703430008'\n",
    "concept = getConcept(sctid)\n",
    "concept['fsn']"
   ]
  },
  {
   "cell_type": "code",
   "execution_count": 15,
   "metadata": {},
   "outputs": [
    {
     "data": {
      "application/json": {
       "active": true,
       "classAxioms": [
        {
         "active": true,
         "axiomId": "4d5fa866-f0f6-48e5-896c-65ef334b075b",
         "definitionStatus": "PRIMITIVE",
         "definitionStatusId": "900000000000074008",
         "effectiveTime": 20190731,
         "id": "4d5fa866-f0f6-48e5-896c-65ef334b075b",
         "moduleId": "900000000000207008",
         "relationships": [
          {
           "active": true,
           "characteristicType": "STATED_RELATIONSHIP",
           "destinationId": "122556008",
           "groupId": 0,
           "modifier": "EXISTENTIAL",
           "moduleId": "900000000000207008",
           "released": false,
           "sourceId": "703430008",
           "target": {
            "conceptId": "122556008",
            "definitionStatus": "FULLY_DEFINED",
            "fsn": {
             "lang": "en",
             "term": "Cord blood specimen (specimen)"
            },
            "id": "122556008",
            "pt": {
             "lang": "en",
             "term": "Cord blood specimen"
            }
           },
           "type": {
            "conceptId": "116680003",
            "definitionStatus": "PRIMITIVE",
            "fsn": {
             "lang": "en",
             "term": "Is a (attribute)"
            },
            "id": "116680003",
            "pt": {
             "lang": "en",
             "term": "Is a"
            }
           },
           "typeId": "116680003"
          },
          {
           "active": true,
           "characteristicType": "STATED_RELATIONSHIP",
           "destinationId": "408728001",
           "groupId": 1,
           "modifier": "EXISTENTIAL",
           "moduleId": "900000000000207008",
           "released": false,
           "sourceId": "703430008",
           "target": {
            "conceptId": "408728001",
            "definitionStatus": "PRIMITIVE",
            "fsn": {
             "lang": "en",
             "term": "Structure of umbilical blood vessel (body structure)"
            },
            "id": "408728001",
            "pt": {
             "lang": "en",
             "term": "Structure of umbilical blood vessel"
            }
           },
           "type": {
            "conceptId": "118169006",
            "definitionStatus": "PRIMITIVE",
            "fsn": {
             "lang": "en",
             "term": "Specimen source topography (attribute)"
            },
            "id": "118169006",
            "pt": {
             "lang": "en",
             "term": "Specimen source topography"
            }
           },
           "typeId": "118169006"
          },
          {
           "active": true,
           "characteristicType": "STATED_RELATIONSHIP",
           "destinationId": "12499000",
           "groupId": 1,
           "modifier": "EXISTENTIAL",
           "moduleId": "900000000000207008",
           "released": false,
           "sourceId": "703430008",
           "target": {
            "conceptId": "12499000",
            "definitionStatus": "PRIMITIVE",
            "fsn": {
             "lang": "en",
             "term": "Cord blood (substance)"
            },
            "id": "12499000",
            "pt": {
             "lang": "en",
             "term": "Cord blood"
            }
           },
           "type": {
            "conceptId": "370133003",
            "definitionStatus": "PRIMITIVE",
            "fsn": {
             "lang": "en",
             "term": "Specimen substance (attribute)"
            },
            "id": "370133003",
            "pt": {
             "lang": "en",
             "term": "Specimen substance"
            }
           },
           "typeId": "370133003"
          }
         ],
         "released": true
        }
       ],
       "conceptId": "703430008",
       "definitionStatus": "PRIMITIVE",
       "descriptions": [
        {
         "acceptabilityMap": {
          "900000000000508004": "PREFERRED",
          "900000000000509007": "PREFERRED"
         },
         "active": true,
         "caseSignificance": "CASE_INSENSITIVE",
         "conceptId": "703430008",
         "descriptionId": "3008693016",
         "effectiveTime": "20170731",
         "lang": "en",
         "moduleId": "900000000000207008",
         "released": true,
         "releasedEffectiveTime": 20170731,
         "term": "Arterial cord blood specimen (specimen)",
         "type": "FSN",
         "typeId": "900000000000003001"
        },
        {
         "acceptabilityMap": {
          "900000000000508004": "PREFERRED",
          "900000000000509007": "PREFERRED"
         },
         "active": true,
         "caseSignificance": "CASE_INSENSITIVE",
         "conceptId": "703430008",
         "descriptionId": "3008670010",
         "effectiveTime": "20170731",
         "lang": "en",
         "moduleId": "900000000000207008",
         "released": true,
         "releasedEffectiveTime": 20170731,
         "term": "Arterial cord blood specimen",
         "type": "SYNONYM",
         "typeId": "900000000000013009"
        }
       ],
       "effectiveTime": "20140731",
       "fsn": {
        "lang": "en",
        "term": "Arterial cord blood specimen (specimen)"
       },
       "gciAxioms": [],
       "moduleId": "900000000000207008",
       "pt": {
        "lang": "en",
        "term": "Arterial cord blood specimen"
       },
       "relationships": [
        {
         "active": true,
         "characteristicType": "INFERRED_RELATIONSHIP",
         "destinationId": "122556008",
         "effectiveTime": "20140731",
         "groupId": 0,
         "id": "5042304028",
         "modifier": "EXISTENTIAL",
         "moduleId": "900000000000207008",
         "relationshipId": "5042304028",
         "released": true,
         "releasedEffectiveTime": 20140731,
         "sourceId": "703430008",
         "target": {
          "conceptId": "122556008",
          "definitionStatus": "FULLY_DEFINED",
          "fsn": {
           "lang": "en",
           "term": "Cord blood specimen (specimen)"
          },
          "id": "122556008",
          "pt": {
           "lang": "en",
           "term": "Cord blood specimen"
          }
         },
         "type": {
          "conceptId": "116680003",
          "definitionStatus": "PRIMITIVE",
          "fsn": {
           "lang": "en",
           "term": "Is a (attribute)"
          },
          "id": "116680003",
          "pt": {
           "lang": "en",
           "term": "Is a"
          }
         },
         "typeId": "116680003"
        },
        {
         "active": true,
         "characteristicType": "INFERRED_RELATIONSHIP",
         "destinationId": "408728001",
         "effectiveTime": "20140731",
         "groupId": 1,
         "id": "5042305027",
         "modifier": "EXISTENTIAL",
         "moduleId": "900000000000207008",
         "relationshipId": "5042305027",
         "released": true,
         "releasedEffectiveTime": 20140731,
         "sourceId": "703430008",
         "target": {
          "conceptId": "408728001",
          "definitionStatus": "PRIMITIVE",
          "fsn": {
           "lang": "en",
           "term": "Structure of umbilical blood vessel (body structure)"
          },
          "id": "408728001",
          "pt": {
           "lang": "en",
           "term": "Structure of umbilical blood vessel"
          }
         },
         "type": {
          "conceptId": "118169006",
          "definitionStatus": "PRIMITIVE",
          "fsn": {
           "lang": "en",
           "term": "Specimen source topography (attribute)"
          },
          "id": "118169006",
          "pt": {
           "lang": "en",
           "term": "Specimen source topography"
          }
         },
         "typeId": "118169006"
        },
        {
         "active": true,
         "characteristicType": "INFERRED_RELATIONSHIP",
         "destinationId": "12499000",
         "effectiveTime": "20140731",
         "groupId": 1,
         "id": "5042306026",
         "modifier": "EXISTENTIAL",
         "moduleId": "900000000000207008",
         "relationshipId": "5042306026",
         "released": true,
         "releasedEffectiveTime": 20140731,
         "sourceId": "703430008",
         "target": {
          "conceptId": "12499000",
          "definitionStatus": "PRIMITIVE",
          "fsn": {
           "lang": "en",
           "term": "Cord blood (substance)"
          },
          "id": "12499000",
          "pt": {
           "lang": "en",
           "term": "Cord blood"
          }
         },
         "type": {
          "conceptId": "370133003",
          "definitionStatus": "PRIMITIVE",
          "fsn": {
           "lang": "en",
           "term": "Specimen substance (attribute)"
          },
          "id": "370133003",
          "pt": {
           "lang": "en",
           "term": "Specimen substance"
          }
         },
         "typeId": "370133003"
        },
        {
         "active": false,
         "characteristicType": "STATED_RELATIONSHIP",
         "destinationId": "122556008",
         "effectiveTime": "20190731",
         "groupId": 0,
         "id": "5042473023",
         "modifier": "EXISTENTIAL",
         "moduleId": "900000000000207008",
         "relationshipId": "5042473023",
         "released": true,
         "releasedEffectiveTime": 20190731,
         "sourceId": "703430008",
         "target": {
          "conceptId": "122556008",
          "definitionStatus": "FULLY_DEFINED",
          "fsn": {
           "lang": "en",
           "term": "Cord blood specimen (specimen)"
          },
          "id": "122556008",
          "pt": {
           "lang": "en",
           "term": "Cord blood specimen"
          }
         },
         "type": {
          "conceptId": "116680003",
          "definitionStatus": "PRIMITIVE",
          "fsn": {
           "lang": "en",
           "term": "Is a (attribute)"
          },
          "id": "116680003",
          "pt": {
           "lang": "en",
           "term": "Is a"
          }
         },
         "typeId": "116680003"
        },
        {
         "active": false,
         "characteristicType": "STATED_RELATIONSHIP",
         "destinationId": "408728001",
         "effectiveTime": "20190731",
         "groupId": 1,
         "id": "5042457028",
         "modifier": "EXISTENTIAL",
         "moduleId": "900000000000207008",
         "relationshipId": "5042457028",
         "released": true,
         "releasedEffectiveTime": 20190731,
         "sourceId": "703430008",
         "target": {
          "conceptId": "408728001",
          "definitionStatus": "PRIMITIVE",
          "fsn": {
           "lang": "en",
           "term": "Structure of umbilical blood vessel (body structure)"
          },
          "id": "408728001",
          "pt": {
           "lang": "en",
           "term": "Structure of umbilical blood vessel"
          }
         },
         "type": {
          "conceptId": "118169006",
          "definitionStatus": "PRIMITIVE",
          "fsn": {
           "lang": "en",
           "term": "Specimen source topography (attribute)"
          },
          "id": "118169006",
          "pt": {
           "lang": "en",
           "term": "Specimen source topography"
          }
         },
         "typeId": "118169006"
        },
        {
         "active": false,
         "characteristicType": "STATED_RELATIONSHIP",
         "destinationId": "12499000",
         "effectiveTime": "20190731",
         "groupId": 1,
         "id": "5042437027",
         "modifier": "EXISTENTIAL",
         "moduleId": "900000000000207008",
         "relationshipId": "5042437027",
         "released": true,
         "releasedEffectiveTime": 20190731,
         "sourceId": "703430008",
         "target": {
          "conceptId": "12499000",
          "definitionStatus": "PRIMITIVE",
          "fsn": {
           "lang": "en",
           "term": "Cord blood (substance)"
          },
          "id": "12499000",
          "pt": {
           "lang": "en",
           "term": "Cord blood"
          }
         },
         "type": {
          "conceptId": "370133003",
          "definitionStatus": "PRIMITIVE",
          "fsn": {
           "lang": "en",
           "term": "Specimen substance (attribute)"
          },
          "id": "370133003",
          "pt": {
           "lang": "en",
           "term": "Specimen substance"
          }
         },
         "typeId": "370133003"
        }
       ],
       "released": true,
       "releasedEffectiveTime": 20140731
      },
      "text/plain": [
       "<IPython.core.display.JSON object>"
      ]
     },
     "execution_count": 15,
     "metadata": {
      "application/json": {
       "expanded": false,
       "root": "root"
      }
     },
     "output_type": "execute_result"
    }
   ],
   "source": [
    "from IPython.display import JSON\n",
    "JSON(concept)"
   ]
  },
  {
   "cell_type": "code",
   "execution_count": 16,
   "metadata": {},
   "outputs": [
    {
     "data": {
      "text/plain": [
       "'Arterial cord blood specimen (specimen)'"
      ]
     },
     "execution_count": 16,
     "metadata": {},
     "output_type": "execute_result"
    }
   ],
   "source": [
    "def getFSN(concept):\n",
    "    return(concept['fsn']['term'])\n",
    "getFSN(concept)"
   ]
  },
  {
   "cell_type": "code",
   "execution_count": 17,
   "metadata": {},
   "outputs": [
    {
     "name": "stdout",
     "output_type": "stream",
     "text": [
      "0 Arterial cord blood specimen (specimen) Is a (attribute) Cord blood specimen (specimen) INFERRED_RELATIONSHIP\n",
      "1 Arterial cord blood specimen (specimen) Specimen source topography (attribute) Structure of umbilical blood vessel (body structure) INFERRED_RELATIONSHIP\n",
      "1 Arterial cord blood specimen (specimen) Specimen substance (attribute) Cord blood (substance) INFERRED_RELATIONSHIP\n",
      "0 Arterial cord blood specimen (specimen) Is a (attribute) Cord blood specimen (specimen) STATED_RELATIONSHIP\n",
      "1 Arterial cord blood specimen (specimen) Specimen source topography (attribute) Structure of umbilical blood vessel (body structure) STATED_RELATIONSHIP\n",
      "1 Arterial cord blood specimen (specimen) Specimen substance (attribute) Cord blood (substance) STATED_RELATIONSHIP\n"
     ]
    }
   ],
   "source": [
    "for rel in concept['relationships']:\n",
    "    print(rel['groupId'], getFSN(concept), getFSN(rel['type']), getFSN(rel['target']), rel['characteristicType'])"
   ]
  },
  {
   "cell_type": "code",
   "execution_count": 18,
   "metadata": {},
   "outputs": [
    {
     "name": "stderr",
     "output_type": "stream",
     "text": [
      "C:\\Programs\\Anaconda3\\lib\\site-packages\\ipykernel_launcher.py:8: UserWarning: Boolean Series key will be reindexed to match DataFrame index.\n",
      "  \n"
     ]
    },
    {
     "data": {
      "text/html": [
       "<div>\n",
       "<style scoped>\n",
       "    .dataframe tbody tr th:only-of-type {\n",
       "        vertical-align: middle;\n",
       "    }\n",
       "\n",
       "    .dataframe tbody tr th {\n",
       "        vertical-align: top;\n",
       "    }\n",
       "\n",
       "    .dataframe thead th {\n",
       "        text-align: right;\n",
       "    }\n",
       "</style>\n",
       "<table border=\"1\" class=\"dataframe\">\n",
       "  <thead>\n",
       "    <tr style=\"text-align: right;\">\n",
       "      <th></th>\n",
       "      <th>active</th>\n",
       "      <th>destinationId</th>\n",
       "      <th>typeId</th>\n",
       "      <th>groupId</th>\n",
       "      <th>modifier</th>\n",
       "      <th>characteristicType</th>\n",
       "      <th>typeName</th>\n",
       "      <th>targetName</th>\n",
       "    </tr>\n",
       "  </thead>\n",
       "  <tbody>\n",
       "    <tr>\n",
       "      <th>0</th>\n",
       "      <td>True</td>\n",
       "      <td>122556008</td>\n",
       "      <td>116680003</td>\n",
       "      <td>0</td>\n",
       "      <td>EXISTENTIAL</td>\n",
       "      <td>INFERRED_RELATIONSHIP</td>\n",
       "      <td>Is a (attribute)</td>\n",
       "      <td>Cord blood specimen (specimen)</td>\n",
       "    </tr>\n",
       "    <tr>\n",
       "      <th>1</th>\n",
       "      <td>True</td>\n",
       "      <td>408728001</td>\n",
       "      <td>118169006</td>\n",
       "      <td>1</td>\n",
       "      <td>EXISTENTIAL</td>\n",
       "      <td>INFERRED_RELATIONSHIP</td>\n",
       "      <td>Specimen source topography (attribute)</td>\n",
       "      <td>Structure of umbilical blood vessel (body stru...</td>\n",
       "    </tr>\n",
       "    <tr>\n",
       "      <th>2</th>\n",
       "      <td>True</td>\n",
       "      <td>12499000</td>\n",
       "      <td>370133003</td>\n",
       "      <td>1</td>\n",
       "      <td>EXISTENTIAL</td>\n",
       "      <td>INFERRED_RELATIONSHIP</td>\n",
       "      <td>Specimen substance (attribute)</td>\n",
       "      <td>Cord blood (substance)</td>\n",
       "    </tr>\n",
       "  </tbody>\n",
       "</table>\n",
       "</div>"
      ],
      "text/plain": [
       "   active destinationId     typeId  groupId     modifier  \\\n",
       "0    True     122556008  116680003        0  EXISTENTIAL   \n",
       "1    True     408728001  118169006        1  EXISTENTIAL   \n",
       "2    True      12499000  370133003        1  EXISTENTIAL   \n",
       "\n",
       "      characteristicType                                typeName  \\\n",
       "0  INFERRED_RELATIONSHIP                        Is a (attribute)   \n",
       "1  INFERRED_RELATIONSHIP  Specimen source topography (attribute)   \n",
       "2  INFERRED_RELATIONSHIP          Specimen substance (attribute)   \n",
       "\n",
       "                                          targetName  \n",
       "0                     Cord blood specimen (specimen)  \n",
       "1  Structure of umbilical blood vessel (body stru...  \n",
       "2                             Cord blood (substance)  "
      ]
     },
     "execution_count": 18,
     "metadata": {},
     "output_type": "execute_result"
    }
   ],
   "source": [
    "df = pd.DataFrame(concept['relationships'])\n",
    "df[df['active'] == True][['active', 'destinationId', 'typeId', 'type', 'target',\n",
    "       'groupId', 'modifier', 'characteristicType']]\n",
    "df['typeName'] = df.apply(lambda row: row['type']['fsn']['term'], axis=1)\n",
    "df['targetName'] = df.apply(lambda row: row['target']['fsn']['term'], axis=1)\n",
    "df.drop(columns=['released', 'releasedEffectiveTime', 'relationshipId',\n",
    "       'type', 'target', 'moduleId', 'sourceId', 'effectiveTime', 'id'], inplace=True, errors='ignore')\n",
    "df[df['characteristicType'] == 'INFERRED_RELATIONSHIP'][df['active'] == True]"
   ]
  },
  {
   "cell_type": "code",
   "execution_count": null,
   "metadata": {},
   "outputs": [],
   "source": []
  }
 ],
 "metadata": {
  "kernelspec": {
   "display_name": "Python 3",
   "language": "python",
   "name": "python3"
  },
  "language_info": {
   "codemirror_mode": {
    "name": "ipython",
    "version": 3
   },
   "file_extension": ".py",
   "mimetype": "text/x-python",
   "name": "python",
   "nbconvert_exporter": "python",
   "pygments_lexer": "ipython3",
   "version": "3.7.7"
  }
 },
 "nbformat": 4,
 "nbformat_minor": 4
}
