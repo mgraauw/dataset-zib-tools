{
 "cells": [
  {
   "cell_type": "code",
   "execution_count": 1,
   "metadata": {},
   "outputs": [],
   "source": [
    "import pandas as pd\n",
    "import xlsxwriter\n",
    "import json\n",
    "import requests\n",
    "import datetime\n",
    "from IPython.display import JSON"
   ]
  },
  {
   "cell_type": "code",
   "execution_count": 2,
   "metadata": {},
   "outputs": [
    {
     "data": {
      "text/plain": [
       "'https://browser.ihtsdotools.org/snowstorm/snomed-ct/browser/MAIN/SNOMEDCT-NL/2019-09-30/concepts/'"
      ]
     },
     "execution_count": 2,
     "metadata": {},
     "output_type": "execute_result"
    }
   ],
   "source": [
    "edition = {'en': 'MAIN/2019-07-31',\n",
    "           'es': 'MAIN/SNOMEDCT-ES/2019-10-31',\n",
    "           'nl': 'MAIN/SNOMEDCT-NL/2019-09-30',\n",
    "           'fr': 'MAIN/SNOMEDCT-BE/2020-03-15',\n",
    "           'da': 'MAIN/SNOMEDCT-DK/2020-03-31'}\n",
    "\n",
    "def getUri(lang):\n",
    "    return 'https://browser.ihtsdotools.org/snowstorm/snomed-ct/browser/' + edition[lang] + '/concepts/'\n",
    "\n",
    "def getConcept(sctid, lang):\n",
    "    uri = getUri(lang)\n",
    "    resp = requests.get(uri + str(sctid))\n",
    "    return resp.json()\n",
    "getUri('nl')"
   ]
  },
  {
   "cell_type": "code",
   "execution_count": 18,
   "metadata": {},
   "outputs": [
    {
     "data": {
      "application/json": {
       "active": true,
       "classAxioms": [
        {
         "active": true,
         "axiomId": "9deb2e98-8a2e-4f38-ae0f-4857d1d641dc",
         "definitionStatus": "PRIMITIVE",
         "definitionStatusId": "900000000000074008",
         "effectiveTime": 20190731,
         "id": "9deb2e98-8a2e-4f38-ae0f-4857d1d641dc",
         "moduleId": "900000000000207008",
         "relationships": [
          {
           "active": true,
           "characteristicType": "STATED_RELATIONSHIP",
           "destinationId": "362969004",
           "groupId": 0,
           "modifier": "EXISTENTIAL",
           "moduleId": "900000000000207008",
           "released": false,
           "sourceId": "73211009",
           "target": {
            "conceptId": "362969004",
            "definitionStatus": "FULLY_DEFINED",
            "fsn": {
             "lang": "en",
             "term": "Disorder of endocrine system (disorder)"
            },
            "id": "362969004",
            "moduleId": "900000000000207008",
            "pt": {
             "lang": "en",
             "term": "Disorder of endocrine system"
            }
           },
           "type": {
            "conceptId": "116680003",
            "definitionStatus": "PRIMITIVE",
            "fsn": {
             "lang": "en",
             "term": "Is a (attribute)"
            },
            "id": "116680003",
            "moduleId": "900000000000012004",
            "pt": {
             "lang": "en",
             "term": "Is a"
            }
           },
           "typeId": "116680003"
          },
          {
           "active": true,
           "characteristicType": "STATED_RELATIONSHIP",
           "destinationId": "126877002",
           "groupId": 0,
           "modifier": "EXISTENTIAL",
           "moduleId": "900000000000207008",
           "released": false,
           "sourceId": "73211009",
           "target": {
            "conceptId": "126877002",
            "definitionStatus": "PRIMITIVE",
            "fsn": {
             "lang": "en",
             "term": "Disorder of glucose metabolism (disorder)"
            },
            "id": "126877002",
            "moduleId": "900000000000207008",
            "pt": {
             "lang": "en",
             "term": "Disorder of glucose metabolism"
            }
           },
           "type": {
            "conceptId": "116680003",
            "definitionStatus": "PRIMITIVE",
            "fsn": {
             "lang": "en",
             "term": "Is a (attribute)"
            },
            "id": "116680003",
            "moduleId": "900000000000012004",
            "pt": {
             "lang": "en",
             "term": "Is a"
            }
           },
           "typeId": "116680003"
          },
          {
           "active": true,
           "characteristicType": "STATED_RELATIONSHIP",
           "destinationId": "113331007",
           "groupId": 1,
           "modifier": "EXISTENTIAL",
           "moduleId": "900000000000207008",
           "released": false,
           "sourceId": "73211009",
           "target": {
            "conceptId": "113331007",
            "definitionStatus": "PRIMITIVE",
            "fsn": {
             "lang": "en",
             "term": "Structure of endocrine system (body structure)"
            },
            "id": "113331007",
            "moduleId": "900000000000207008",
            "pt": {
             "lang": "en",
             "term": "Structure of endocrine system"
            }
           },
           "type": {
            "conceptId": "363698007",
            "definitionStatus": "PRIMITIVE",
            "fsn": {
             "lang": "en",
             "term": "Finding site (attribute)"
            },
            "id": "363698007",
            "moduleId": "900000000000012004",
            "pt": {
             "lang": "en",
             "term": "Finding site"
            }
           },
           "typeId": "363698007"
          }
         ],
         "released": true
        }
       ],
       "conceptId": "73211009",
       "definitionStatus": "PRIMITIVE",
       "descriptions": [
        {
         "acceptabilityMap": {
          "31000146106": "PREFERRED"
         },
         "active": true,
         "caseSignificance": "INITIAL_CHARACTER_CASE_INSENSITIVE",
         "conceptId": "73211009",
         "descriptionId": "70341000146112",
         "effectiveTime": "20160307",
         "lang": "nl",
         "moduleId": "11000146104",
         "released": true,
         "releasedEffectiveTime": 20160307,
         "term": "diabetes mellitus",
         "type": "SYNONYM",
         "typeId": "900000000000013009"
        },
        {
         "acceptabilityMap": {},
         "active": false,
         "caseSignificance": "INITIAL_CHARACTER_CASE_INSENSITIVE",
         "conceptId": "73211009",
         "descriptionId": "121590018",
         "effectiveTime": "20020131",
         "lang": "en",
         "moduleId": "900000000000207008",
         "released": true,
         "releasedEffectiveTime": 20020131,
         "term": "Diabetes mellitus, NOS",
         "type": "SYNONYM",
         "typeId": "900000000000013009"
        },
        {
         "acceptabilityMap": {
          "31000146106": "PREFERRED"
         },
         "active": true,
         "caseSignificance": "INITIAL_CHARACTER_CASE_INSENSITIVE",
         "conceptId": "73211009",
         "descriptionId": "941061000146111",
         "effectiveTime": "20180331",
         "lang": "nl",
         "moduleId": "11000146104",
         "released": true,
         "releasedEffectiveTime": 20180331,
         "term": "diabetes mellitus (aandoening)",
         "type": "FSN",
         "typeId": "900000000000003001"
        },
        {
         "acceptabilityMap": {
          "15551000146102": "PREFERRED"
         },
         "active": true,
         "caseSignificance": "INITIAL_CHARACTER_CASE_INSENSITIVE",
         "conceptId": "73211009",
         "descriptionId": "127411000146112",
         "effectiveTime": "20170331",
         "lang": "nl",
         "moduleId": "15561000146104",
         "released": true,
         "releasedEffectiveTime": 20170331,
         "term": "diabetes",
         "type": "SYNONYM",
         "typeId": "900000000000013009"
        },
        {
         "acceptabilityMap": {
          "15551000146102": "PREFERRED",
          "900000000000508004": "PREFERRED",
          "900000000000509007": "PREFERRED"
         },
         "active": true,
         "caseSignificance": "CASE_INSENSITIVE",
         "conceptId": "73211009",
         "descriptionId": "813575016",
         "effectiveTime": "20170731",
         "lang": "en",
         "moduleId": "900000000000207008",
         "released": true,
         "releasedEffectiveTime": 20170731,
         "term": "Diabetes mellitus (disorder)",
         "type": "FSN",
         "typeId": "900000000000003001"
        },
        {
         "acceptabilityMap": {
          "900000000000508004": "PREFERRED",
          "900000000000509007": "PREFERRED"
         },
         "active": true,
         "caseSignificance": "CASE_INSENSITIVE",
         "conceptId": "73211009",
         "descriptionId": "121589010",
         "effectiveTime": "20170731",
         "lang": "en",
         "moduleId": "900000000000207008",
         "released": true,
         "releasedEffectiveTime": 20170731,
         "term": "Diabetes mellitus",
         "type": "SYNONYM",
         "typeId": "900000000000013009"
        },
        {
         "acceptabilityMap": {
          "900000000000508004": "ACCEPTABLE",
          "900000000000509007": "ACCEPTABLE"
         },
         "active": true,
         "caseSignificance": "ENTIRE_TERM_CASE_SENSITIVE",
         "conceptId": "73211009",
         "descriptionId": "502372015",
         "effectiveTime": "20020131",
         "lang": "en",
         "moduleId": "900000000000207008",
         "released": true,
         "releasedEffectiveTime": 20020131,
         "term": "DM - Diabetes mellitus",
         "type": "SYNONYM",
         "typeId": "900000000000013009"
        },
        {
         "acceptabilityMap": {
          "15551000146102": "ACCEPTABLE"
         },
         "active": true,
         "caseSignificance": "INITIAL_CHARACTER_CASE_INSENSITIVE",
         "conceptId": "73211009",
         "descriptionId": "131831000146110",
         "effectiveTime": "20170331",
         "lang": "nl",
         "moduleId": "15561000146104",
         "released": true,
         "releasedEffectiveTime": 20170331,
         "term": "suikerziekte",
         "type": "SYNONYM",
         "typeId": "900000000000013009"
        }
       ],
       "effectiveTime": "20020131",
       "fsn": {
        "lang": "en",
        "term": "Diabetes mellitus (disorder)"
       },
       "gciAxioms": [],
       "moduleId": "900000000000207008",
       "pt": {
        "lang": "en",
        "term": "Diabetes mellitus"
       },
       "relationships": [
        {
         "active": true,
         "characteristicType": "INFERRED_RELATIONSHIP",
         "destinationId": "362969004",
         "effectiveTime": "20120131",
         "groupId": 0,
         "id": "4601709020",
         "modifier": "EXISTENTIAL",
         "moduleId": "900000000000207008",
         "relationshipId": "4601709020",
         "released": true,
         "releasedEffectiveTime": 20120131,
         "sourceId": "73211009",
         "target": {
          "conceptId": "362969004",
          "definitionStatus": "FULLY_DEFINED",
          "fsn": {
           "lang": "en",
           "term": "Disorder of endocrine system (disorder)"
          },
          "id": "362969004",
          "moduleId": "900000000000207008",
          "pt": {
           "lang": "en",
           "term": "Disorder of endocrine system"
          }
         },
         "type": {
          "conceptId": "116680003",
          "definitionStatus": "PRIMITIVE",
          "fsn": {
           "lang": "en",
           "term": "Is a (attribute)"
          },
          "id": "116680003",
          "moduleId": "900000000000012004",
          "pt": {
           "lang": "en",
           "term": "Is a"
          }
         },
         "typeId": "116680003"
        },
        {
         "active": true,
         "characteristicType": "INFERRED_RELATIONSHIP",
         "destinationId": "126877002",
         "effectiveTime": "20020131",
         "groupId": 0,
         "id": "267149027",
         "modifier": "EXISTENTIAL",
         "moduleId": "900000000000207008",
         "relationshipId": "267149027",
         "released": true,
         "releasedEffectiveTime": 20020131,
         "sourceId": "73211009",
         "target": {
          "conceptId": "126877002",
          "definitionStatus": "PRIMITIVE",
          "fsn": {
           "lang": "en",
           "term": "Disorder of glucose metabolism (disorder)"
          },
          "id": "126877002",
          "moduleId": "900000000000207008",
          "pt": {
           "lang": "en",
           "term": "Disorder of glucose metabolism"
          }
         },
         "type": {
          "conceptId": "116680003",
          "definitionStatus": "PRIMITIVE",
          "fsn": {
           "lang": "en",
           "term": "Is a (attribute)"
          },
          "id": "116680003",
          "moduleId": "900000000000012004",
          "pt": {
           "lang": "en",
           "term": "Is a"
          }
         },
         "typeId": "116680003"
        },
        {
         "active": true,
         "characteristicType": "INFERRED_RELATIONSHIP",
         "destinationId": "113331007",
         "effectiveTime": "20190731",
         "groupId": 1,
         "id": "4601710026",
         "modifier": "EXISTENTIAL",
         "moduleId": "900000000000207008",
         "relationshipId": "4601710026",
         "released": true,
         "releasedEffectiveTime": 20190731,
         "sourceId": "73211009",
         "target": {
          "conceptId": "113331007",
          "definitionStatus": "PRIMITIVE",
          "fsn": {
           "lang": "en",
           "term": "Structure of endocrine system (body structure)"
          },
          "id": "113331007",
          "moduleId": "900000000000207008",
          "pt": {
           "lang": "en",
           "term": "Structure of endocrine system"
          }
         },
         "type": {
          "conceptId": "363698007",
          "definitionStatus": "PRIMITIVE",
          "fsn": {
           "lang": "en",
           "term": "Finding site (attribute)"
          },
          "id": "363698007",
          "moduleId": "900000000000012004",
          "pt": {
           "lang": "en",
           "term": "Finding site"
          }
         },
         "typeId": "363698007"
        },
        {
         "active": false,
         "characteristicType": "INFERRED_RELATIONSHIP",
         "destinationId": "17346000",
         "effectiveTime": "20120131",
         "groupId": 0,
         "id": "267150027",
         "modifier": "EXISTENTIAL",
         "moduleId": "900000000000207008",
         "relationshipId": "267150027",
         "released": true,
         "releasedEffectiveTime": 20120131,
         "sourceId": "73211009",
         "target": {
          "conceptId": "17346000",
          "definitionStatus": "FULLY_DEFINED",
          "fsn": {
           "lang": "en",
           "term": "Disorder of endocrine pancreas (disorder)"
          },
          "id": "17346000",
          "moduleId": "900000000000207008",
          "pt": {
           "lang": "en",
           "term": "Disorder of endocrine pancreas"
          }
         },
         "type": {
          "conceptId": "116680003",
          "definitionStatus": "PRIMITIVE",
          "fsn": {
           "lang": "en",
           "term": "Is a (attribute)"
          },
          "id": "116680003",
          "moduleId": "900000000000012004",
          "pt": {
           "lang": "en",
           "term": "Is a"
          }
         },
         "typeId": "116680003"
        },
        {
         "active": false,
         "characteristicType": "STATED_RELATIONSHIP",
         "destinationId": "17346000",
         "effectiveTime": "20120131",
         "groupId": 0,
         "id": "4060485020",
         "modifier": "EXISTENTIAL",
         "moduleId": "900000000000207008",
         "relationshipId": "4060485020",
         "released": true,
         "releasedEffectiveTime": 20120131,
         "sourceId": "73211009",
         "target": {
          "conceptId": "17346000",
          "definitionStatus": "FULLY_DEFINED",
          "fsn": {
           "lang": "en",
           "term": "Disorder of endocrine pancreas (disorder)"
          },
          "id": "17346000",
          "moduleId": "900000000000207008",
          "pt": {
           "lang": "en",
           "term": "Disorder of endocrine pancreas"
          }
         },
         "type": {
          "conceptId": "116680003",
          "definitionStatus": "PRIMITIVE",
          "fsn": {
           "lang": "en",
           "term": "Is a (attribute)"
          },
          "id": "116680003",
          "moduleId": "900000000000012004",
          "pt": {
           "lang": "en",
           "term": "Is a"
          }
         },
         "typeId": "116680003"
        },
        {
         "active": false,
         "characteristicType": "STATED_RELATIONSHIP",
         "destinationId": "362969004",
         "effectiveTime": "20190731",
         "groupId": 0,
         "id": "4596292020",
         "modifier": "EXISTENTIAL",
         "moduleId": "900000000000207008",
         "relationshipId": "4596292020",
         "released": true,
         "releasedEffectiveTime": 20190731,
         "sourceId": "73211009",
         "target": {
          "conceptId": "362969004",
          "definitionStatus": "FULLY_DEFINED",
          "fsn": {
           "lang": "en",
           "term": "Disorder of endocrine system (disorder)"
          },
          "id": "362969004",
          "moduleId": "900000000000207008",
          "pt": {
           "lang": "en",
           "term": "Disorder of endocrine system"
          }
         },
         "type": {
          "conceptId": "116680003",
          "definitionStatus": "PRIMITIVE",
          "fsn": {
           "lang": "en",
           "term": "Is a (attribute)"
          },
          "id": "116680003",
          "moduleId": "900000000000012004",
          "pt": {
           "lang": "en",
           "term": "Is a"
          }
         },
         "typeId": "116680003"
        },
        {
         "active": false,
         "characteristicType": "STATED_RELATIONSHIP",
         "destinationId": "126877002",
         "effectiveTime": "20190731",
         "groupId": 0,
         "id": "4060484024",
         "modifier": "EXISTENTIAL",
         "moduleId": "900000000000207008",
         "relationshipId": "4060484024",
         "released": true,
         "releasedEffectiveTime": 20190731,
         "sourceId": "73211009",
         "target": {
          "conceptId": "126877002",
          "definitionStatus": "PRIMITIVE",
          "fsn": {
           "lang": "en",
           "term": "Disorder of glucose metabolism (disorder)"
          },
          "id": "126877002",
          "moduleId": "900000000000207008",
          "pt": {
           "lang": "en",
           "term": "Disorder of glucose metabolism"
          }
         },
         "type": {
          "conceptId": "116680003",
          "definitionStatus": "PRIMITIVE",
          "fsn": {
           "lang": "en",
           "term": "Is a (attribute)"
          },
          "id": "116680003",
          "moduleId": "900000000000012004",
          "pt": {
           "lang": "en",
           "term": "Is a"
          }
         },
         "typeId": "116680003"
        },
        {
         "active": false,
         "characteristicType": "INFERRED_RELATIONSHIP",
         "destinationId": "237597000",
         "effectiveTime": "20090131",
         "groupId": 0,
         "id": "2041345022",
         "modifier": "EXISTENTIAL",
         "moduleId": "900000000000207008",
         "relationshipId": "2041345022",
         "released": true,
         "releasedEffectiveTime": 20090131,
         "sourceId": "73211009",
         "target": {
          "conceptId": "237597000",
          "definitionStatus": "PRIMITIVE",
          "fsn": {
           "lang": "en",
           "term": "Disorder of glucose regulation (disorder)"
          },
          "id": "237597000",
          "moduleId": "900000000000207008",
          "pt": {
           "lang": "en",
           "term": "Disorder of glucose regulation"
          }
         },
         "type": {
          "conceptId": "116680003",
          "definitionStatus": "PRIMITIVE",
          "fsn": {
           "lang": "en",
           "term": "Is a (attribute)"
          },
          "id": "116680003",
          "moduleId": "900000000000012004",
          "pt": {
           "lang": "en",
           "term": "Is a"
          }
         },
         "typeId": "116680003"
        },
        {
         "active": false,
         "characteristicType": "INFERRED_RELATIONSHIP",
         "destinationId": "237598005",
         "effectiveTime": "20020731",
         "groupId": 0,
         "id": "267148024",
         "modifier": "EXISTENTIAL",
         "moduleId": "900000000000207008",
         "relationshipId": "267148024",
         "released": true,
         "releasedEffectiveTime": 20020731,
         "sourceId": "73211009",
         "target": {
          "conceptId": "237598005",
          "definitionStatus": "PRIMITIVE",
          "fsn": {
           "lang": "en",
           "term": "Hyperglycemic disorder (disorder)"
          },
          "id": "237598005",
          "moduleId": "900000000000207008",
          "pt": {
           "lang": "en",
           "term": "Hyperglycemic disorder"
          }
         },
         "type": {
          "conceptId": "116680003",
          "definitionStatus": "PRIMITIVE",
          "fsn": {
           "lang": "en",
           "term": "Is a (attribute)"
          },
          "id": "116680003",
          "moduleId": "900000000000012004",
          "pt": {
           "lang": "en",
           "term": "Is a"
          }
         },
         "typeId": "116680003"
        },
        {
         "active": false,
         "characteristicType": "STATED_RELATIONSHIP",
         "destinationId": "78696007",
         "effectiveTime": "20120131",
         "groupId": 0,
         "id": "4371945028",
         "modifier": "EXISTENTIAL",
         "moduleId": "900000000000207008",
         "relationshipId": "4371945028",
         "released": true,
         "releasedEffectiveTime": 20120131,
         "sourceId": "73211009",
         "target": {
          "conceptId": "78696007",
          "definitionStatus": "PRIMITIVE",
          "fsn": {
           "lang": "en",
           "term": "Endocrine pancreatic structure (body structure)"
          },
          "id": "78696007",
          "moduleId": "900000000000207008",
          "pt": {
           "lang": "en",
           "term": "Endocrine pancreatic structure"
          }
         },
         "type": {
          "conceptId": "363698007",
          "definitionStatus": "PRIMITIVE",
          "fsn": {
           "lang": "en",
           "term": "Finding site (attribute)"
          },
          "id": "363698007",
          "moduleId": "900000000000012004",
          "pt": {
           "lang": "en",
           "term": "Finding site"
          }
         },
         "typeId": "363698007"
        },
        {
         "active": false,
         "characteristicType": "INFERRED_RELATIONSHIP",
         "destinationId": "78696007",
         "effectiveTime": "20120131",
         "groupId": 0,
         "id": "856436026",
         "modifier": "EXISTENTIAL",
         "moduleId": "900000000000207008",
         "relationshipId": "856436026",
         "released": true,
         "releasedEffectiveTime": 20120131,
         "sourceId": "73211009",
         "target": {
          "conceptId": "78696007",
          "definitionStatus": "PRIMITIVE",
          "fsn": {
           "lang": "en",
           "term": "Endocrine pancreatic structure (body structure)"
          },
          "id": "78696007",
          "moduleId": "900000000000207008",
          "pt": {
           "lang": "en",
           "term": "Endocrine pancreatic structure"
          }
         },
         "type": {
          "conceptId": "363698007",
          "definitionStatus": "PRIMITIVE",
          "fsn": {
           "lang": "en",
           "term": "Finding site (attribute)"
          },
          "id": "363698007",
          "moduleId": "900000000000012004",
          "pt": {
           "lang": "en",
           "term": "Finding site"
          }
         },
         "typeId": "363698007"
        },
        {
         "active": false,
         "characteristicType": "INFERRED_RELATIONSHIP",
         "destinationId": "127944005",
         "effectiveTime": "20020731",
         "groupId": 0,
         "id": "856435027",
         "modifier": "EXISTENTIAL",
         "moduleId": "900000000000207008",
         "relationshipId": "856435027",
         "released": true,
         "releasedEffectiveTime": 20020731,
         "sourceId": "73211009",
         "target": {
          "conceptId": "127944005",
          "definitionStatus": "PRIMITIVE",
          "fsn": {
           "lang": "en",
           "term": "Entire endocrine gonad (body structure)"
          },
          "id": "127944005",
          "moduleId": "900000000000207008",
          "pt": {
           "lang": "en",
           "term": "Entire endocrine gonad"
          }
         },
         "type": {
          "conceptId": "363698007",
          "definitionStatus": "PRIMITIVE",
          "fsn": {
           "lang": "en",
           "term": "Finding site (attribute)"
          },
          "id": "363698007",
          "moduleId": "900000000000012004",
          "pt": {
           "lang": "en",
           "term": "Finding site"
          }
         },
         "typeId": "363698007"
        },
        {
         "active": false,
         "characteristicType": "INFERRED_RELATIONSHIP",
         "destinationId": "86762007",
         "effectiveTime": "20090731",
         "groupId": 0,
         "id": "3353318024",
         "modifier": "EXISTENTIAL",
         "moduleId": "900000000000207008",
         "relationshipId": "3353318024",
         "released": true,
         "releasedEffectiveTime": 20090731,
         "sourceId": "73211009",
         "target": {
          "conceptId": "86762007",
          "definitionStatus": "PRIMITIVE",
          "fsn": {
           "lang": "en",
           "term": "Structure of digestive system (body structure)"
          },
          "id": "86762007",
          "moduleId": "900000000000207008",
          "pt": {
           "lang": "en",
           "term": "Structure of digestive system"
          }
         },
         "type": {
          "conceptId": "363698007",
          "definitionStatus": "PRIMITIVE",
          "fsn": {
           "lang": "en",
           "term": "Finding site (attribute)"
          },
          "id": "363698007",
          "moduleId": "900000000000012004",
          "pt": {
           "lang": "en",
           "term": "Finding site"
          }
         },
         "typeId": "363698007"
        }
       ],
       "released": true,
       "releasedEffectiveTime": 20020131
      },
      "text/plain": [
       "<IPython.core.display.JSON object>"
      ]
     },
     "execution_count": 18,
     "metadata": {
      "application/json": {
       "expanded": false,
       "root": "root"
      }
     },
     "output_type": "execute_result"
    }
   ],
   "source": [
    "concept = getConcept('73211009', 'nl')\n",
    "JSON(concept)"
   ]
  },
  {
   "cell_type": "code",
   "execution_count": 19,
   "metadata": {},
   "outputs": [
    {
     "data": {
      "text/plain": [
       "[('PREFERRED', 'diabetes mellitus'),\n",
       " ('FSN', 'diabetes mellitus (aandoening)'),\n",
       " ('PREFERRED', 'diabetes'),\n",
       " ('ACCEPTABLE', 'suikerziekte')]"
      ]
     },
     "execution_count": 19,
     "metadata": {},
     "output_type": "execute_result"
    }
   ],
   "source": [
    "[('FSN' if desc['type'] == 'FSN' else list(desc['acceptabilityMap'].values())[0], desc['term']) for desc in concept['descriptions'] if (desc['active'] == True and desc['lang'] == 'nl')]"
   ]
  },
  {
   "cell_type": "code",
   "execution_count": 17,
   "metadata": {},
   "outputs": [
    {
     "data": {
      "text/plain": [
       "'bloedgroep A (bevinding)'"
      ]
     },
     "execution_count": 17,
     "metadata": {},
     "output_type": "execute_result"
    }
   ],
   "source": [
    "# Select active descriptions of language, returh FSN if there is one, otherwise PREFERRED, else a SYNONYM\n",
    "def getName(sctid, lang):\n",
    "    concept = getConcept(sctid, lang)\n",
    "    descs = [desc for desc in concept['descriptions'] if (desc['active'] == True and desc['lang'] == lang)]\n",
    "    term = ''\n",
    "    for desc in descs:\n",
    "        if desc['type'] == 'FSN':\n",
    "            return desc['term']\n",
    "        # This ignores multiple map items which happens with en-US and en-GB, to solve this we'd need to include the lang refset id\n",
    "        elif list(desc['acceptabilityMap'].values())[0] == 'PREFERRED':\n",
    "            term = desc['term']\n",
    "        elif term == '':\n",
    "            term = desc['term']\n",
    "    return term\n",
    "\n",
    "getName('112144000', 'nl')"
   ]
  },
  {
   "cell_type": "code",
   "execution_count": 93,
   "metadata": {},
   "outputs": [
    {
     "data": {
      "text/plain": [
       "200"
      ]
     },
     "execution_count": 93,
     "metadata": {},
     "output_type": "execute_result"
    }
   ],
   "source": [
    "# prio1 vorig\n",
    "dsuri = 'https://decor.nictiz.nl/decor/services/RetrieveTransaction?id=2.16.840.1.113883.2.4.3.11.60.90.77.4.2499&effectiveDate=2020-01-08T13:47:27&language=nl-NL&format=json'\n",
    "#prio 1 huidig\n",
    "# dsuri = 'https://decor.nictiz.nl/decor/services/RetrieveTransaction?id=2.16.840.1.113883.2.4.3.11.60.90.77.4.2493&effectiveDate=2020-01-08T13:13:15&language=nl-NL&format=json'\n",
    "resp = requests.get(dsuri)\n",
    "resp.status_code"
   ]
  },
  {
   "cell_type": "code",
   "execution_count": 94,
   "metadata": {},
   "outputs": [
    {
     "data": {
      "application/json": {
       "concept": [
        {
         "community": [
          {
           "data": [
            {
             "content": "Deze rubriek bevat voor PRN aanlevering relevante data elementen. Er is geen rechtstreekse mapping van de rubriek naar een PRN data element. ",
             "datatype": "text",
             "label": "PRN dataset 1.3 info",
             "type": "prn13info"
            }
           ],
           "name": "prn"
          }
         ],
         "concept": [
          {
           "community": [
            {
             "data": [
              {
               "content": "Deze rubriek is voor PRN relevant. Er is geen expliciete mapping naar dit data element. ",
               "datatype": "text",
               "label": "PRN dataset 1.3 info",
               "type": "prn13info"
              }
             ],
             "name": "prn"
            }
           ],
           "concept": [
            {
             "community": [
              {
               "data": [
                {
                 "content": "Dit data element is voor PRN van belang om de instelling te herkennen bij de berichten / aanlevering. Het is niet een apart item in de PRN registratie. ",
                 "datatype": "text",
                 "label": "PRN dataset 1.3 info",
                 "type": "prn13info"
                }
               ],
               "name": "prn"
              }
             ],
             "conformance": "R",
             "desc": [
              {
               "content": "Identificatie van de instelling met behulp van een unieke root-OID (Object Identificatie).  Dit gegeven wordt ingesteld in de software van de zorginstelling en dan automatisch meegegeven bij informatie-uitwisseling (met andere woorden: het is géén invulveld voor een zorgverlener). ",
               "language": "nl-NL"
              }
             ],
             "effectiveDate": "2016-09-08T00:00:00",
             "id": "2.16.840.1.113883.2.4.3.11.60.90.77.2.6.10021",
             "iddisplay": "peri23-dataelement-10021",
             "implementation": [
              {
               "shortName": "zorginstelling_oid"
              }
             ],
             "inherit": [
              {
               "datasetEffectiveDate": "2013-09-10T00:00:00",
               "datasetId": "2.16.840.1.113883.2.4.3.11.60.90.77.1.5",
               "datasetStatusCode": "final",
               "effectiveDate": "2013-09-10T00:00:00",
               "iEffectiveDate": "2013-09-10T00:00:00",
               "iStatusCode": "final",
               "iType": "item",
               "prefix": "peri20-",
               "ref": "2.16.840.1.113883.2.4.3.11.60.90.77.2.5.10021",
               "refdisplay": "peri22-dataelement-10021"
              }
             ],
             "isMandatory": "false",
             "maximumMultiplicity": "1",
             "minimumMultiplicity": "0",
             "name": [
              {
               "content": "Zorginstelling OID",
               "language": "nl-NL"
              }
             ],
             "relationship": [
              {
               "datasetEffectiveDate": "2012-08-06T00:00:00",
               "datasetId": "2.16.840.1.113883.2.4.3.11.60.90.77.1.4",
               "datasetStatusCode": "final",
               "flexibility": "2012-08-06T00:00:00",
               "iEffectiveDate": "2012-08-06T00:00:00",
               "iStatusCode": "final",
               "iType": "item",
               "name": [
                {
                 "content": "Zorginstelling OID",
                 "language": "nl-NL"
                }
               ],
               "prefix": "peri20-",
               "ref": "2.16.840.1.113883.2.4.3.11.60.90.77.2.4.10021",
               "refdisplay": "peri21-dataelement-10021",
               "type": "SPEC"
              }
             ],
             "shortName": "zorginstelling_oid",
             "statusCode": "final",
             "type": "item",
             "valueDomain": [
              {
               "type": "identifier"
              }
             ]
            },
            {
             "community": [
              {
               "data": [
                {
                 "content": "Dit item is voor PRN van belang ter identificatie van de aanleverende instelling. Het is geen eigen item in de registratie. ",
                 "datatype": "text",
                 "label": "PRN dataset 1.3 info",
                 "type": "prn13info"
                }
               ],
               "name": "prn"
              }
             ],
             "conformance": "R",
             "desc": [
              {
               "content": "Unieke AGB-ID van de instelling",
               "language": "nl-NL"
              }
             ],
             "effectiveDate": "2016-09-08T00:00:00",
             "id": "2.16.840.1.113883.2.4.3.11.60.90.77.2.6.10022",
             "iddisplay": "peri23-dataelement-10022",
             "implementation": [
              {
               "shortName": "zorginstelling_agbid"
              }
             ],
             "inherit": [
              {
               "datasetEffectiveDate": "2012-08-06T00:00:00",
               "datasetId": "2.16.840.1.113883.2.4.3.11.60.90.77.1.4",
               "datasetStatusCode": "final",
               "effectiveDate": "2012-08-06T00:00:00",
               "iEffectiveDate": "2012-08-06T00:00:00",
               "iStatusCode": "final",
               "iType": "item",
               "prefix": "peri20-",
               "ref": "2.16.840.1.113883.2.4.3.11.60.90.77.2.4.10022",
               "refdisplay": "peri21-dataelement-10022"
              }
             ],
             "isMandatory": "false",
             "maximumMultiplicity": "1",
             "minimumMultiplicity": "0",
             "name": [
              {
               "content": "Zorginstelling AGB-ID",
               "language": "nl-NL"
              }
             ],
             "operationalization": [
              {
               "content": "Vektis AGB-codelijst",
               "language": "nl-NL"
              }
             ],
             "shortName": "zorginstelling_agbid",
             "statusCode": "final",
             "type": "item",
             "valueDomain": [
              {
               "property": [
                {
                 "maxLength": "8",
                 "minLength": "8"
                }
               ],
               "type": "identifier"
              }
             ]
            },
            {
             "community": [
              {
               "data": [
                {
                 "content": "1.1.03",
                 "datatype": "text",
                 "label": "PRN dataset 1.3 mapping",
                 "type": "prn13mapping"
                },
                {
                 "content": "Zorgverlener, praktijknummer Kernitem PRN",
                 "datatype": "text",
                 "label": "PRN dataset 1.3 info",
                 "type": "prn13info"
                },
                {
                 "content": "Dit item heet nu 'lvr1-id'. Het geldt echter niet alleen voor LVR1 (en dus verloskundigen), maar ook voor gynaecologen, huisartsen en kinderartsen/neonatologen.",
                 "datatype": "text",
                 "label": "PRN dataset 1.3 bijzonderheden",
                 "type": "prn13bijzonderheden"
                }
               ],
               "name": "prn"
              }
             ],
             "conformance": "R",
             "desc": [
              {
               "content": "Unieke LVR-identificatie van de zorginstelling. ",
               "language": "nl-NL"
              }
             ],
             "effectiveDate": "2016-09-08T00:00:00",
             "id": "2.16.840.1.113883.2.4.3.11.60.90.77.2.6.10023",
             "iddisplay": "peri23-dataelement-10023",
             "implementation": [
              {
               "shortName": "zorginstelling_lvrid"
              }
             ],
             "inherit": [
              {
               "datasetEffectiveDate": "2013-09-10T00:00:00",
               "datasetId": "2.16.840.1.113883.2.4.3.11.60.90.77.1.5",
               "datasetStatusCode": "final",
               "effectiveDate": "2013-09-10T00:00:00",
               "iEffectiveDate": "2013-09-10T00:00:00",
               "iStatusCode": "final",
               "iType": "item",
               "prefix": "peri20-",
               "ref": "2.16.840.1.113883.2.4.3.11.60.90.77.2.5.10023",
               "refdisplay": "peri22-dataelement-10023"
              }
             ],
             "isMandatory": "false",
             "maximumMultiplicity": "1",
             "minimumMultiplicity": "0",
             "name": [
              {
               "content": "Zorginstelling LVR-ID",
               "language": "nl-NL"
              }
             ],
             "shortName": "zorginstelling_lvrid",
             "statusCode": "final",
             "type": "item",
             "valueDomain": [
              {
               "property": [
                {
                 "maxLength": "5",
                 "minLength": "4"
                }
               ],
               "type": "identifier"
              }
             ]
            },
            {
             "community": [
              {
               "data": [
                {
                 "content": "Unieke UZI-register abonneenummer van de instelling die de zorg levert. N.B. Als de zorginstelling (praktijk) een URA heeft die gelijk is aan die van een (of meer) andere zorginstellingen, dan moet ook tevens een andere uniek identificerende id worden meegestuurd.",
                 "datatype": "text",
                 "label": "PRN dataset 1.3 info",
                 "type": "prn13info"
                }
               ],
               "name": "prn"
              }
             ],
             "conformance": "R",
             "desc": [
              {
               "content": "Unieke UZI-register abonneenummer van de instelling",
               "language": "nl-NL"
              }
             ],
             "effectiveDate": "2016-09-08T00:00:00",
             "id": "2.16.840.1.113883.2.4.3.11.60.90.77.2.6.10024",
             "iddisplay": "peri23-dataelement-10024",
             "implementation": [
              {
               "shortName": "zorginstelling_ura"
              }
             ],
             "inherit": [
              {
               "datasetEffectiveDate": "2012-08-06T00:00:00",
               "datasetId": "2.16.840.1.113883.2.4.3.11.60.90.77.1.4",
               "datasetStatusCode": "final",
               "effectiveDate": "2012-08-06T00:00:00",
               "iEffectiveDate": "2012-08-06T00:00:00",
               "iStatusCode": "final",
               "iType": "item",
               "prefix": "peri20-",
               "ref": "2.16.840.1.113883.2.4.3.11.60.90.77.2.4.10024",
               "refdisplay": "peri21-dataelement-10024"
              }
             ],
             "isMandatory": "false",
             "maximumMultiplicity": "1",
             "minimumMultiplicity": "0",
             "name": [
              {
               "content": "Zorginstelling URA",
               "language": "nl-NL"
              }
             ],
             "operationalization": [
              {
               "content": "UZI-register abonneenummer",
               "language": "nl-NL"
              }
             ],
             "shortName": "zorginstelling_ura",
             "statusCode": "final",
             "type": "item",
             "valueDomain": [
              {
               "property": [
                {
                 "maxLength": "8",
                 "minLength": "8"
                }
               ],
               "type": "identifier"
              }
             ]
            },
            {
             "conformance": "R",
             "desc": [
              {
               "content": "Naam van de instelling",
               "language": "nl-NL"
              }
             ],
             "effectiveDate": "2016-09-08T00:00:00",
             "id": "2.16.840.1.113883.2.4.3.11.60.90.77.2.6.10026",
             "iddisplay": "peri23-dataelement-10026",
             "implementation": [
              {
               "shortName": "naam_zorginstelling"
              }
             ],
             "inherit": [
              {
               "datasetEffectiveDate": "2012-08-06T00:00:00",
               "datasetId": "2.16.840.1.113883.2.4.3.11.60.90.77.1.4",
               "datasetStatusCode": "final",
               "effectiveDate": "2012-08-06T00:00:00",
               "iEffectiveDate": "2012-08-06T00:00:00",
               "iStatusCode": "final",
               "iType": "item",
               "prefix": "peri20-",
               "ref": "2.16.840.1.113883.2.4.3.11.60.90.77.2.4.10026",
               "refdisplay": "peri21-dataelement-10026"
              }
             ],
             "isMandatory": "false",
             "maximumMultiplicity": "1",
             "minimumMultiplicity": "0",
             "name": [
              {
               "content": "Naam zorginstelling",
               "language": "nl-NL"
              }
             ],
             "shortName": "naam_zorginstelling",
             "statusCode": "final",
             "type": "item",
             "valueDomain": [
              {
               "type": "complex"
              }
             ]
            },
            {
             "concept": [
              {
               "conformance": "R",
               "desc": [
                {
                 "content": "Straatnaam (zonder nummer) van het adres",
                 "language": "nl-NL"
                }
               ],
               "effectiveDate": "2016-09-08T00:00:00",
               "id": "2.16.840.1.113883.2.4.3.11.60.90.77.2.6.10032",
               "iddisplay": "peri23-dataelement-10032",
               "implementation": [
                {
                 "shortName": "straatnaam"
                }
               ],
               "inherit": [
                {
                 "datasetEffectiveDate": "2012-08-06T00:00:00",
                 "datasetId": "2.16.840.1.113883.2.4.3.11.60.90.77.1.4",
                 "datasetStatusCode": "final",
                 "effectiveDate": "2012-08-06T00:00:00",
                 "iEffectiveDate": "2012-08-06T00:00:00",
                 "iStatusCode": "final",
                 "iType": "item",
                 "prefix": "peri20-",
                 "ref": "2.16.840.1.113883.2.4.3.11.60.90.77.2.4.1205",
                 "refdisplay": "peri21-dataelement-1205"
                }
               ],
               "isMandatory": "false",
               "maximumMultiplicity": "1",
               "minimumMultiplicity": "0",
               "name": [
                {
                 "content": "Straatnaam",
                 "language": "nl-NL"
                }
               ],
               "shortName": "straatnaam",
               "statusCode": "draft",
               "type": "item",
               "valueDomain": [
                {
                 "type": "string"
                }
               ]
              },
              {
               "conformance": "R",
               "desc": [
                {
                 "content": "Huisnummer van het adres. Het is verplicht indien de straatnaam ook wordt doorgegeven.",
                 "language": "nl-NL"
                }
               ],
               "effectiveDate": "2016-09-08T00:00:00",
               "id": "2.16.840.1.113883.2.4.3.11.60.90.77.2.6.10033",
               "iddisplay": "peri23-dataelement-10033",
               "implementation": [
                {
                 "shortName": "huisnummer"
                }
               ],
               "inherit": [
                {
                 "datasetEffectiveDate": "2012-08-06T00:00:00",
                 "datasetId": "2.16.840.1.113883.2.4.3.11.60.90.77.1.4",
                 "datasetStatusCode": "final",
                 "effectiveDate": "2012-08-06T00:00:00",
                 "iEffectiveDate": "2012-08-06T00:00:00",
                 "iStatusCode": "final",
                 "iType": "item",
                 "prefix": "peri20-",
                 "ref": "2.16.840.1.113883.2.4.3.11.60.90.77.2.4.1210",
                 "refdisplay": "peri21-dataelement-1210"
                }
               ],
               "isMandatory": "false",
               "maximumMultiplicity": "1",
               "minimumMultiplicity": "0",
               "name": [
                {
                 "content": "Huisnummer",
                 "language": "nl-NL"
                }
               ],
               "shortName": "huisnummer",
               "statusCode": "draft",
               "type": "item",
               "valueDomain": [
                {
                 "type": "string"
                }
               ]
              },
              {
               "conformance": "R",
               "desc": [
                {
                 "content": "Huisletter/huisnummertoevoeging van het huisnummer",
                 "language": "nl-NL"
                }
               ],
               "effectiveDate": "2016-09-08T00:00:00",
               "id": "2.16.840.1.113883.2.4.3.11.60.90.77.2.6.10034",
               "iddisplay": "peri23-dataelement-10034",
               "implementation": [
                {
                 "shortName": "huisletterhuisnummertoevoeging"
                }
               ],
               "inherit": [
                {
                 "datasetEffectiveDate": "2012-08-06T00:00:00",
                 "datasetId": "2.16.840.1.113883.2.4.3.11.60.90.77.1.4",
                 "datasetStatusCode": "final",
                 "effectiveDate": "2012-08-06T00:00:00",
                 "iEffectiveDate": "2012-08-06T00:00:00",
                 "iStatusCode": "final",
                 "iType": "item",
                 "prefix": "peri20-",
                 "ref": "2.16.840.1.113883.2.4.3.11.60.90.77.2.4.1215",
                 "refdisplay": "peri21-dataelement-1215"
                }
               ],
               "isMandatory": "false",
               "maximumMultiplicity": "1",
               "minimumMultiplicity": "0",
               "name": [
                {
                 "content": "Huisletter/huisnummertoevoeging",
                 "language": "nl-NL"
                }
               ],
               "shortName": "huisletterhuisnummertoevoeging",
               "statusCode": "draft",
               "type": "item",
               "valueDomain": [
                {
                 "type": "string"
                }
               ]
              },
              {
               "conformance": "R",
               "desc": [
                {
                 "content": "Postcode van het adres",
                 "language": "nl-NL"
                }
               ],
               "effectiveDate": "2016-09-08T00:00:00",
               "id": "2.16.840.1.113883.2.4.3.11.60.90.77.2.6.10041",
               "iddisplay": "peri23-dataelement-10041",
               "implementation": [
                {
                 "shortName": "postcode"
                }
               ],
               "inherit": [
                {
                 "datasetEffectiveDate": "2012-08-06T00:00:00",
                 "datasetId": "2.16.840.1.113883.2.4.3.11.60.90.77.1.4",
                 "datasetStatusCode": "final",
                 "effectiveDate": "2012-08-06T00:00:00",
                 "iEffectiveDate": "2012-08-06T00:00:00",
                 "iStatusCode": "final",
                 "iType": "item",
                 "prefix": "peri20-",
                 "ref": "2.16.840.1.113883.2.4.3.11.60.90.77.2.4.1220",
                 "refdisplay": "peri21-dataelement-1220"
                }
               ],
               "isMandatory": "false",
               "maximumMultiplicity": "1",
               "minimumMultiplicity": "0",
               "name": [
                {
                 "content": "Postcode",
                 "language": "nl-NL"
                }
               ],
               "shortName": "postcode",
               "statusCode": "draft",
               "type": "item",
               "valueDomain": [
                {
                 "type": "string"
                }
               ]
              },
              {
               "conformance": "R",
               "desc": [
                {
                 "content": "Plaatsnaam als onderdeel van het adres; De naam van een stad, dorp of ander woongebied of bezorgcentrum. Merk op: dit is de woonplaats, niet de eventuele gemeente waartoe de woonplaats behoort. Voorbeeld: Haren, gemeente Groningen.",
                 "language": "nl-NL"
                }
               ],
               "effectiveDate": "2016-09-08T00:00:00",
               "id": "2.16.840.1.113883.2.4.3.11.60.90.77.2.6.10036",
               "iddisplay": "peri23-dataelement-10036",
               "implementation": [
                {
                 "shortName": "plaatsnaam"
                }
               ],
               "inherit": [
                {
                 "datasetEffectiveDate": "2012-08-06T00:00:00",
                 "datasetId": "2.16.840.1.113883.2.4.3.11.60.90.77.1.4",
                 "datasetStatusCode": "final",
                 "effectiveDate": "2012-08-06T00:00:00",
                 "iEffectiveDate": "2012-08-06T00:00:00",
                 "iStatusCode": "final",
                 "iType": "item",
                 "prefix": "peri20-",
                 "ref": "2.16.840.1.113883.2.4.3.11.60.90.77.2.4.1225",
                 "refdisplay": "peri21-dataelement-1225"
                }
               ],
               "isMandatory": "false",
               "maximumMultiplicity": "1",
               "minimumMultiplicity": "0",
               "name": [
                {
                 "content": "Plaatsnaam",
                 "language": "nl-NL"
                }
               ],
               "shortName": "plaatsnaam",
               "statusCode": "draft",
               "type": "item",
               "valueDomain": [
                {
                 "type": "string"
                }
               ]
              },
              {
               "conformance": "R",
               "desc": [
                {
                 "content": "Gemeentenaam als onderdeel van het adres; In Nederland wordt dit element gebruikt om de gemeente door te geven (in andere landen kan een ander type administratieve eenheid binnen een staat/provincie gebruikt worden). De gemeente kan, maar hoeft niet, overeen te komen met de stad. Sommige gemeenten, bijvoorbeeld \"Waterland\", hebben een naam die geheel afwijkt van de steden die erin gelegen zijn. ",
                 "language": "nl-NL"
                }
               ],
               "effectiveDate": "2016-09-08T00:00:00",
               "id": "2.16.840.1.113883.2.4.3.11.60.90.77.2.6.10037",
               "iddisplay": "peri23-dataelement-10037",
               "implementation": [
                {
                 "shortName": "gemeentenaam"
                }
               ],
               "inherit": [
                {
                 "datasetEffectiveDate": "2012-08-06T00:00:00",
                 "datasetId": "2.16.840.1.113883.2.4.3.11.60.90.77.1.4",
                 "datasetStatusCode": "final",
                 "effectiveDate": "2012-08-06T00:00:00",
                 "iEffectiveDate": "2012-08-06T00:00:00",
                 "iStatusCode": "final",
                 "iType": "item",
                 "prefix": "peri20-",
                 "ref": "2.16.840.1.113883.2.4.3.11.60.90.77.2.4.1230",
                 "refdisplay": "peri21-dataelement-1230"
                }
               ],
               "isMandatory": "false",
               "maximumMultiplicity": "1",
               "minimumMultiplicity": "0",
               "name": [
                {
                 "content": "Gemeentenaam",
                 "language": "nl-NL"
                }
               ],
               "shortName": "gemeentenaam",
               "statusCode": "draft",
               "type": "item",
               "valueDomain": [
                {
                 "type": "string"
                }
               ]
              },
              {
               "conformance": "R",
               "desc": [
                {
                 "content": "Land",
                 "language": "nl-NL"
                }
               ],
               "effectiveDate": "2016-09-08T00:00:00",
               "id": "2.16.840.1.113883.2.4.3.11.60.90.77.2.6.10038",
               "iddisplay": "peri23-dataelement-10038",
               "implementation": [
                {
                 "shortName": "land"
                }
               ],
               "inherit": [
                {
                 "datasetEffectiveDate": "2012-08-06T00:00:00",
                 "datasetId": "2.16.840.1.113883.2.4.3.11.60.90.77.1.4",
                 "datasetStatusCode": "final",
                 "effectiveDate": "2012-08-06T00:00:00",
                 "iEffectiveDate": "2012-08-06T00:00:00",
                 "iStatusCode": "final",
                 "iType": "item",
                 "prefix": "peri20-",
                 "ref": "2.16.840.1.113883.2.4.3.11.60.90.77.2.4.1235",
                 "refdisplay": "peri21-dataelement-1235"
                }
               ],
               "isMandatory": "false",
               "maximumMultiplicity": "1",
               "minimumMultiplicity": "0",
               "name": [
                {
                 "content": "Land",
                 "language": "nl-NL"
                }
               ],
               "shortName": "land",
               "statusCode": "draft",
               "type": "item",
               "valueDomain": [
                {
                 "type": "string"
                }
               ]
              },
              {
               "conformance": "R",
               "desc": [
                {
                 "content": "Adrestype",
                 "language": "nl-NL"
                }
               ],
               "effectiveDate": "2016-09-08T00:00:00",
               "id": "2.16.840.1.113883.2.4.3.11.60.90.77.2.6.10039",
               "iddisplay": "peri23-dataelement-10039",
               "implementation": [
                {
                 "shortName": "adrestype"
                }
               ],
               "inherit": [
                {
                 "datasetEffectiveDate": "2012-08-06T00:00:00",
                 "datasetId": "2.16.840.1.113883.2.4.3.11.60.90.77.1.4",
                 "datasetStatusCode": "final",
                 "effectiveDate": "2012-08-06T00:00:00",
                 "iEffectiveDate": "2012-08-06T00:00:00",
                 "iStatusCode": "final",
                 "iType": "item",
                 "prefix": "peri20-",
                 "ref": "2.16.840.1.113883.2.4.3.11.60.90.77.2.4.1240",
                 "refdisplay": "peri21-dataelement-1240"
                }
               ],
               "isMandatory": "false",
               "maximumMultiplicity": "1",
               "minimumMultiplicity": "0",
               "name": [
                {
                 "content": "Adrestype",
                 "language": "nl-NL"
                }
               ],
               "shortName": "adrestype",
               "statusCode": "draft",
               "type": "item",
               "valueDomain": [
                {
                 "conceptList": [
                  {
                   "concept": [
                    {
                     "desc": [
                      {
                       "content": "Het primaire thuisadres",
                       "language": "nl-NL"
                      }
                     ],
                     "id": "2.16.840.1.113883.2.4.3.11.60.90.77.8.4.1240.1",
                     "name": [
                      {
                       "content": "thuisadres",
                       "language": "nl-NL"
                      }
                     ]
                    },
                    {
                     "desc": [
                      {
                       "content": "Het primaire telecommunicatiecontact, om een persoon te bereiken, kan meerdere malen voorkomen",
                       "language": "nl-NL"
                      }
                     ],
                     "id": "2.16.840.1.113883.2.4.3.11.60.90.77.8.4.1240.2",
                     "name": [
                      {
                       "content": "bezoekadres",
                       "language": "nl-NL"
                      }
                     ]
                    },
                    {
                     "desc": [
                      {
                       "content": "Gebruikt om post naar te sturen; voorbeeld: postbusnummer, antwoordnummer, (voor personen) postadres dat anders is dan verblijfsadres",
                       "language": "nl-NL"
                      }
                     ],
                     "id": "2.16.840.1.113883.2.4.3.11.60.90.77.8.4.1240.3",
                     "name": [
                      {
                       "content": "postadres",
                       "language": "nl-NL"
                      }
                     ]
                    },
                    {
                     "desc": [
                      {
                       "content": "Een vakantiehuis, om een persoon te bereiken tijdens de vakantie",
                       "language": "nl-NL"
                      }
                     ],
                     "id": "2.16.840.1.113883.2.4.3.11.60.90.77.8.4.1240.4",
                     "name": [
                      {
                       "content": "vakantie huis",
                       "language": "nl-NL"
                      }
                     ]
                    },
                    {
                     "desc": [
                      {
                       "content": "Een adres dat bezocht kan worden (dus bijvoorbeeld geen postbus",
                       "language": "nl-NL"
                      }
                     ],
                     "id": "2.16.840.1.113883.2.4.3.11.60.90.77.8.4.1240.5",
                     "name": [
                      {
                       "content": "fysiek woonadres",
                       "language": "nl-NL"
                      }
                     ]
                    },
                    {
                     "desc": [
                      {
                       "content": "Een tijdelijk adres",
                       "language": "nl-NL"
                      }
                     ],
                     "id": "2.16.840.1.113883.2.4.3.11.60.90.77.8.4.1240.6",
                     "name": [
                      {
                       "content": "tijdelijk adres",
                       "language": "nl-NL"
                      }
                     ]
                    },
                    {
                     "desc": [
                      {
                       "content": "Een tijdelijk bezoekadres, om bijvoorbeeld materiaal af te nemen zodat hierop uitslagen kunnen worden gegenereerd",
                       "language": "nl-NL"
                      }
                     ],
                     "id": "2.16.840.1.113883.2.4.3.11.60.90.77.8.4.1240.7",
                     "name": [
                      {
                       "content": "tijdelijk fysiek woonadres",
                       "language": "nl-NL"
                      }
                     ]
                    }
                   ],
                   "id": "2.16.840.1.113883.2.4.3.11.60.90.77.8.4.1240.0"
                  }
                 ],
                 "type": "code"
                }
               ],
               "valueSet": [
                {
                 "conceptList": [
                  {
                   "id": "2.16.840.1.113883.2.4.3.11.60.90.77.8.4.1240.0"
                  }
                 ]
                }
               ]
              }
             ],
             "conformance": "R",
             "desc": [
              {
               "content": "Adres van de instelling",
               "language": "nl-NL"
              }
             ],
             "effectiveDate": "2016-09-08T00:00:00",
             "id": "2.16.840.1.113883.2.4.3.11.60.90.77.2.6.10027",
             "iddisplay": "peri23-dataelement-10027",
             "implementation": [
              {
               "shortName": "adres_zorginstelling"
              }
             ],
             "inherit": [
              {
               "datasetEffectiveDate": "2012-08-06T00:00:00",
               "datasetId": "2.16.840.1.113883.2.4.3.11.60.90.77.1.4",
               "datasetStatusCode": "final",
               "effectiveDate": "2012-08-06T00:00:00",
               "iEffectiveDate": "2012-08-06T00:00:00",
               "iStatusCode": "final",
               "iType": "group",
               "prefix": "peri20-",
               "ref": "2.16.840.1.113883.2.4.3.11.60.90.77.2.4.10027",
               "refdisplay": "peri21-dataelement-10027"
              }
             ],
             "isMandatory": "false",
             "maximumMultiplicity": "1",
             "minimumMultiplicity": "0",
             "name": [
              {
               "content": "Adres zorginstelling",
               "language": "nl-NL"
              }
             ],
             "shortName": "adres_zorginstelling",
             "statusCode": "draft",
             "type": "group"
            },
            {
             "conformance": "R",
             "desc": [
              {
               "content": "Aanduiding van het type van de zorginstelling",
               "language": "nl-NL"
              }
             ],
             "effectiveDate": "2016-09-08T00:00:00",
             "id": "2.16.840.1.113883.2.4.3.11.60.90.77.2.6.10029",
             "iddisplay": "peri23-dataelement-10029",
             "implementation": [
              {
               "shortName": "type_zorginstelling"
              }
             ],
             "inherit": [
              {
               "datasetEffectiveDate": "2012-08-06T00:00:00",
               "datasetId": "2.16.840.1.113883.2.4.3.11.60.90.77.1.4",
               "datasetStatusCode": "final",
               "effectiveDate": "2012-08-06T00:00:00",
               "iEffectiveDate": "2012-08-06T00:00:00",
               "iStatusCode": "final",
               "iType": "item",
               "prefix": "peri20-",
               "ref": "2.16.840.1.113883.2.4.3.11.60.90.77.2.4.10029",
               "refdisplay": "peri21-dataelement-10029"
              }
             ],
             "isMandatory": "false",
             "maximumMultiplicity": "1",
             "minimumMultiplicity": "0",
             "name": [
              {
               "content": "Type zorginstelling",
               "language": "nl-NL"
              }
             ],
             "shortName": "type_zorginstelling",
             "statusCode": "draft",
             "terminologyAssociation": [
              {
               "conceptId": "2.16.840.1.113883.2.4.3.11.60.90.77.8.2.10029.0",
               "effectiveDate": "2011-01-28T00:00:00",
               "valueSet": "2.16.840.1.113883.2.4.11.59"
              },
              {
               "code": "Z3",
               "codeSystem": "2.16.840.1.113883.2.4.15.1060",
               "codeSystemName": "RoleCodeNL - zorgaanbiedertype (organisaties)",
               "conceptId": "2.16.840.1.113883.2.4.3.11.60.90.77.8.2.10029.1",
               "displayName": "Huisartsenpraktijk"
              },
              {
               "code": "G3",
               "codeSystem": "2.16.840.1.113883.2.4.15.1060",
               "codeSystemName": "RoleCodeNL - zorgaanbiedertype (organisaties)",
               "conceptId": "2.16.840.1.113883.2.4.3.11.60.90.77.8.2.10029.2",
               "displayName": "Verloskundigenpraktijk"
              },
              {
               "code": "V4",
               "codeSystem": "2.16.840.1.113883.2.4.15.1060",
               "codeSystemName": "RoleCodeNL - zorgaanbiedertype (organisaties)",
               "conceptId": "2.16.840.1.113883.2.4.3.11.60.90.77.8.2.10029.3",
               "displayName": "Ziekenhuis"
              },
              {
               "code": "B2",
               "codeSystem": "2.16.840.1.113883.2.4.15.1060",
               "codeSystemName": "RoleCodeNL - zorgaanbiedertype (organisaties)",
               "conceptId": "2.16.840.1.113883.2.4.3.11.60.90.77.8.2.10029.4",
               "displayName": "Echocentrum"
              },
              {
               "code": "L1",
               "codeSystem": "2.16.840.1.113883.2.4.15.1060",
               "codeSystemName": "RoleCodeNL - zorgaanbiedertype (organisaties)",
               "conceptId": "2.16.840.1.113883.2.4.3.11.60.90.77.8.2.10029.5",
               "displayName": "Laboratorium"
              }
             ],
             "type": "item",
             "valueDomain": [
              {
               "conceptList": [
                {
                 "concept": [
                  {
                   "id": "2.16.840.1.113883.2.4.3.11.60.90.77.8.2.10029.1",
                   "name": [
                    {
                     "content": "Huisartsenpraktijk",
                     "language": "nl-NL"
                    }
                   ]
                  },
                  {
                   "id": "2.16.840.1.113883.2.4.3.11.60.90.77.8.2.10029.2",
                   "name": [
                    {
                     "content": "Verloskundigenpraktijk",
                     "language": "nl-NL"
                    }
                   ]
                  },
                  {
                   "id": "2.16.840.1.113883.2.4.3.11.60.90.77.8.2.10029.3",
                   "name": [
                    {
                     "content": "Ziekenhuis",
                     "language": "nl-NL"
                    }
                   ]
                  },
                  {
                   "id": "2.16.840.1.113883.2.4.3.11.60.90.77.8.2.10029.4",
                   "name": [
                    {
                     "content": "Echocentrum",
                     "language": "nl-NL"
                    }
                   ]
                  },
                  {
                   "id": "2.16.840.1.113883.2.4.3.11.60.90.77.8.2.10029.5",
                   "name": [
                    {
                     "content": "Laboratorium",
                     "language": "nl-NL"
                    }
                   ]
                  }
                 ],
                 "id": "2.16.840.1.113883.2.4.3.11.60.90.77.8.2.10029.0"
                }
               ],
               "type": "code"
              }
             ],
             "valueSet": [
              {
               "conceptList": [
                {
                 "concept": [
                  {
                   "code": "Z3",
                   "codeSystem": "2.16.840.1.113883.2.4.15.1060",
                   "displayName": "Huisartsenpraktijk",
                   "level": "0",
                   "localId": "1",
                   "name": [
                    {
                     "content": "Huisartsenpraktijk",
                     "language": "nl-NL"
                    }
                   ],
                   "type": "L"
                  },
                  {
                   "code": "G3",
                   "codeSystem": "2.16.840.1.113883.2.4.15.1060",
                   "displayName": "Verloskundigenpraktijk",
                   "level": "0",
                   "localId": "2",
                   "name": [
                    {
                     "content": "Verloskundigenpraktijk",
                     "language": "nl-NL"
                    }
                   ],
                   "type": "L"
                  },
                  {
                   "code": "V4",
                   "codeSystem": "2.16.840.1.113883.2.4.15.1060",
                   "displayName": "Ziekenhuis",
                   "level": "0",
                   "localId": "3",
                   "name": [
                    {
                     "content": "Ziekenhuis",
                     "language": "nl-NL"
                    }
                   ],
                   "type": "L"
                  },
                  {
                   "code": "B2",
                   "codeSystem": "2.16.840.1.113883.2.4.15.1060",
                   "displayName": "Echocentrum",
                   "level": "0",
                   "localId": "4",
                   "name": [
                    {
                     "content": "Echocentrum",
                     "language": "nl-NL"
                    }
                   ],
                   "type": "L"
                  },
                  {
                   "code": "L1",
                   "codeSystem": "2.16.840.1.113883.2.4.15.1060",
                   "displayName": "Laboratorium",
                   "level": "0",
                   "localId": "5",
                   "name": [
                    {
                     "content": "Laboratorium",
                     "language": "nl-NL"
                    }
                   ],
                   "type": "L"
                  }
                 ],
                 "id": "2.16.840.1.113883.2.4.3.11.60.90.77.8.2.10029.0"
                }
               ],
               "displayName": "ZorgaanbiederType",
               "effectiveDate": "2011-01-28T00:00:00",
               "id": "2.16.840.1.113883.2.4.11.59",
               "name": "ZorgaanbiederType",
               "publishingAuthority": [
                {
                 "addrLine": [
                  {
                   "content": "Koninklijke Nederlandse Organisatie van Verloskundigen"
                  },
                  {
                   "content": "Mercatorlaan 1200"
                  },
                  {
                   "content": "3528 BL Utrecht"
                  },
                  {
                   "content": "T 030 282 31 00"
                  }
                 ],
                 "name": "KNOV"
                }
               ],
               "sourceCodeSystem": [
                {
                 "canonicalUri": "http://nictiz.nl/fhir/NamingSystem/organization-type",
                 "canonicalUriDSTU2": "http://nictiz.nl/fhir/NamingSystem/organization-type",
                 "canonicalUriR4": "http://nictiz.nl/fhir/NamingSystem/organization-type",
                 "canonicalUriSTU3": "http://nictiz.nl/fhir/NamingSystem/organization-type",
                 "id": "2.16.840.1.113883.2.4.15.1060",
                 "identifierName": "RoleCodeNL&#160;-&#160;zorgaanbiedertype&#160;(organisaties)"
                }
               ],
               "statusCode": "final",
               "terminologyAssociation": [
                {
                 "conceptId": "2.16.840.1.113883.2.4.3.11.60.90.77.8.2.10029.0",
                 "effectiveDate": "2011-01-28T00:00:00",
                 "valueSet": "2.16.840.1.113883.2.4.11.59"
                }
               ]
              }
             ]
            },
            {
             "conformance": "R",
             "desc": [
              {
               "content": "Type zorginstelling bij een verwijzing.",
               "language": "nl-NL"
              }
             ],
             "effectiveDate": "2016-09-08T00:00:00",
             "id": "2.16.840.1.113883.2.4.3.11.60.90.77.2.6.82019",
             "iddisplay": "peri23-dataelement-82019",
             "implementation": [
              {
               "shortName": "type_zorginstelling_bij_verwijzing"
              }
             ],
             "inherit": [
              {
               "datasetEffectiveDate": "2013-09-10T00:00:00",
               "datasetId": "2.16.840.1.113883.2.4.3.11.60.90.77.1.5",
               "datasetStatusCode": "final",
               "effectiveDate": "2013-09-19T15:01:34",
               "iEffectiveDate": "2013-09-19T15:01:34",
               "iStatusCode": "final",
               "iType": "item",
               "iVersionLabel": "22",
               "prefix": "peri20-",
               "ref": "2.16.840.1.113883.2.4.3.11.60.90.77.2.5.82019",
               "refdisplay": "peri22-dataelement-82019"
              }
             ],
             "isMandatory": "false",
             "maximumMultiplicity": "1",
             "minimumMultiplicity": "0",
             "name": [
              {
               "content": "Type zorginstelling (bij verwijzing)",
               "language": "nl-NL"
              }
             ],
             "shortName": "type_zorginstelling_bij_verwijzing",
             "statusCode": "draft",
             "terminologyAssociation": [
              {
               "code": "Z3",
               "codeSystem": "2.16.840.1.113883.2.4.15.1060",
               "codeSystemName": "RoleCodeNL - zorgaanbiedertype (organisaties)",
               "conceptId": "2.16.840.1.113883.2.4.3.11.60.90.77.8.5.82019.1",
               "displayName": "Huisartsenpraktijk"
              },
              {
               "code": "G3",
               "codeSystem": "2.16.840.1.113883.2.4.15.1060",
               "codeSystemName": "RoleCodeNL - zorgaanbiedertype (organisaties)",
               "conceptId": "2.16.840.1.113883.2.4.3.11.60.90.77.8.5.82019.2",
               "displayName": "Verloskundigenpraktijk"
              },
              {
               "code": "V4",
               "codeSystem": "2.16.840.1.113883.2.4.15.1060",
               "codeSystemName": "RoleCodeNL - zorgaanbiedertype (organisaties)",
               "conceptId": "2.16.840.1.113883.2.4.3.11.60.90.77.8.5.82019.3",
               "displayName": "Ziekenhuis"
              }
             ],
             "type": "item",
             "valueDomain": [
              {
               "conceptList": [
                {
                 "concept": [
                  {
                   "id": "2.16.840.1.113883.2.4.3.11.60.90.77.8.5.82019.1",
                   "name": [
                    {
                     "content": "Huisartsenpraktijk",
                     "language": "nl-NL"
                    }
                   ]
                  },
                  {
                   "id": "2.16.840.1.113883.2.4.3.11.60.90.77.8.5.82019.2",
                   "name": [
                    {
                     "content": "Verloskundigenpraktijk",
                     "language": "nl-NL"
                    }
                   ]
                  },
                  {
                   "id": "2.16.840.1.113883.2.4.3.11.60.90.77.8.5.82019.3",
                   "name": [
                    {
                     "content": "Ziekenhuis",
                     "language": "nl-NL"
                    }
                   ]
                  }
                 ],
                 "id": "2.16.840.1.113883.2.4.3.11.60.90.77.8.5.82019.0"
                }
               ],
               "property": [
                {}
               ],
               "type": "code"
              }
             ],
             "valueSet": [
              {
               "conceptList": [
                {
                 "id": "2.16.840.1.113883.2.4.3.11.60.90.77.8.5.82019.0"
                }
               ]
              }
             ]
            }
           ],
           "conformance": "R",
           "desc": [
            {
             "content": "Organisatie (instelling) die de zorg levert / heeft geleverd",
             "language": "nl-NL"
            }
           ],
           "effectiveDate": "2016-09-08T00:00:00",
           "id": "2.16.840.1.113883.2.4.3.11.60.90.77.2.6.10020",
           "iddisplay": "peri23-dataelement-10020",
           "implementation": [
            {
             "shortName": "zorginstelling"
            }
           ],
           "inherit": [
            {
             "datasetEffectiveDate": "2013-09-10T00:00:00",
             "datasetId": "2.16.840.1.113883.2.4.3.11.60.90.77.1.5",
             "datasetStatusCode": "final",
             "effectiveDate": "2013-09-10T00:00:00",
             "iEffectiveDate": "2013-09-10T00:00:00",
             "iStatusCode": "final",
             "iType": "group",
             "iVersionLabel": "22",
             "prefix": "peri20-",
             "ref": "2.16.840.1.113883.2.4.3.11.60.90.77.2.5.10020",
             "refdisplay": "peri22-dataelement-10020"
            }
           ],
           "isMandatory": "false",
           "maximumMultiplicity": "1",
           "minimumMultiplicity": "1",
           "name": [
            {
             "content": "Zorginstelling",
             "language": "nl-NL"
            }
           ],
           "shortName": "zorginstelling",
           "statusCode": "draft",
           "type": "group"
          }
         ],
         "conformance": "R",
         "desc": [
          {
           "content": "Persoon (met bijbehorende instelling) die verantwoordelijk of uitvoerder was voor de zorg van de patiënt en aanleveraar van de gegevens.",
           "language": "nl-NL"
          }
         ],
         "effectiveDate": "2016-09-08T00:00:00",
         "id": "2.16.840.1.113883.2.4.3.11.60.90.77.2.6.1",
         "iddisplay": "peri23-dataelement-1",
         "implementation": [
          {
           "shortName": "zorgverlenerzorginstelling"
          }
         ],
         "inherit": [
          {
           "datasetEffectiveDate": "2012-08-06T00:00:00",
           "datasetId": "2.16.840.1.113883.2.4.3.11.60.90.77.1.4",
           "datasetStatusCode": "final",
           "effectiveDate": "2012-08-06T00:00:00",
           "iEffectiveDate": "2012-08-06T00:00:00",
           "iStatusCode": "final",
           "iType": "group",
           "prefix": "peri20-",
           "ref": "2.16.840.1.113883.2.4.3.11.60.90.77.2.4.1",
           "refdisplay": "peri21-dataelement-1"
          }
         ],
         "isMandatory": "false",
         "maximumMultiplicity": "1",
         "minimumMultiplicity": "1",
         "name": [
          {
           "content": "Zorgverlener/Zorginstelling",
           "language": "nl-NL"
          }
         ],
         "shortName": "zorgverlenerzorginstelling",
         "statusCode": "draft",
         "type": "group"
        },
        {
         "community": [
          {
           "data": [
            {
             "content": "Deze rubriek bevat voor PRN aanlevering essentiele data elementen. Er is geen rechtstreekse mapping van de rubriek naar een PRN data element. ",
             "datatype": "text",
             "label": "PRN dataset 1.3 info",
             "type": "prn13info"
            }
           ],
           "name": "prn"
          },
          {
           "data": [
            {
             "content": "bc-Woman",
             "datatype": "enum",
             "label": "FHIR profile",
             "type": "baseprofile"
            }
           ],
           "name": "fhirmapping"
          }
         ],
         "concept": [
          {
           "comment": [
            {
             "content": "Modulo 11-proef",
             "language": "nl-NL"
            },
            {
             "content": "Modulo 11-proef",
             "language": "nl-NL"
            }
           ],
           "community": [
            {
             "data": [
              {
               "content": " 1.2.07.01",
               "datatype": "text",
               "label": "PRN dataset 1.3 mapping",
               "type": "prn13mapping"
              },
              {
               "content": "Vrouw, Burger Service Nummer HL7v3: Item 10030 en 10040 zijn altijd van de vrouw, dit is uit de context van de HL7 CMET person/patient af te leiden die over de vrouw gaat. Het kind krijgt een eigen CMET voor deze gegevens.",
               "datatype": "text",
               "label": "PRN dataset 1.3 info",
               "type": "prn13info"
              }
             ],
             "name": "prn"
            }
           ],
           "conformance": "R",
           "desc": [
            {
             "content": "Het burgerservicenummer (BSN) is een uniek en persoonsgebonden identificerend nummer. Dit nummer wordt automatisch toegekend bij geboorte en wanneer iemand zich inschrijft bij de Basisregistratie personen (BRP). ",
             "language": "nl-NL"
            }
           ],
           "effectiveDate": "2016-09-08T00:00:00",
           "id": "2.16.840.1.113883.2.4.3.11.60.90.77.2.6.10030",
           "iddisplay": "peri23-dataelement-10030",
           "implementation": [
            {
             "shortName": "burgerservicenummer"
            }
           ],
           "isMandatory": "false",
           "maximumMultiplicity": "1",
           "minimumMultiplicity": "1",
           "name": [
            {
             "content": "Burgerservicenummer",
             "language": "nl-NL"
            }
           ],
           "relationship": [
            {
             "datasetEffectiveDate": "2009-10-01T00:00:00",
             "datasetId": "2.16.840.1.113883.2.4.3.11.60.90.77.1.1",
             "datasetStatusCode": "deprecated",
             "flexibility": "2009-10-01T00:00:00",
             "iEffectiveDate": "2009-10-01T00:00:00",
             "iStatusCode": "final",
             "iType": "item",
             "name": [
              {
               "content": "Burgerservicenummer",
               "language": "nl-NL"
              }
             ],
             "prefix": "peri20-",
             "ref": "2.16.840.1.113883.2.4.3.11.60.90.77.2.1.10030",
             "refdisplay": "spirit1a-dataelement-10030",
             "type": "SPEC"
            }
           ],
           "shortName": "burgerservicenummer",
           "statusCode": "final",
           "type": "item",
           "valueDomain": [
            {
             "property": [
              {
               "maxLength": "9",
               "minLength": "9"
              }
             ],
             "type": "identifier"
            }
           ]
          },
          {
           "community": [
            {
             "data": [
              {
               "content": " 1.2.02.01 t/m 1.2.02.05",
               "datatype": "text",
               "label": "PRN dataset 1.3 mapping",
               "type": "prn13mapping"
              }
             ],
             "name": "prn"
            }
           ],
           "concept": [
            {
             "community": [
              {
               "data": [
                {
                 "content": "1.2.02.01",
                 "datatype": "text",
                 "label": "PRN dataset 1.3 mapping",
                 "type": "prn13mapping"
                },
                {
                 "content": "Vrouw, voorletters",
                 "datatype": "text",
                 "label": "PRN dataset 1.3 info",
                 "type": "prn13info"
                },
                {
                 "content": "PRN is alleen geïnteresseerd in de voorletters van de vrouw, niet in de hele voornaam.",
                 "datatype": "text",
                 "label": "PRN dataset 1.3 bijzonderheden",
                 "type": "prn13bijzonderheden"
                }
               ],
               "name": "prn"
              }
             ],
             "conformance": "R",
             "desc": [
              {
               "content": "De verzameling officiële voornamen die bij de geboorte zijn vastgelegd.",
               "language": "nl-NL"
              }
             ],
             "effectiveDate": "2016-09-08T00:00:00",
             "id": "2.16.840.1.113883.2.4.3.11.60.90.77.2.6.10042",
             "iddisplay": "peri23-dataelement-10042",
             "implementation": [
              {
               "shortName": "voornamen"
              }
             ],
             "inherit": [
              {
               "datasetEffectiveDate": "2013-03-25T14:13:00",
               "datasetId": "2.16.840.1.113883.2.4.3.11.60.101.1.1",
               "datasetStatusCode": "final",
               "effectiveDate": "2013-03-25T21:46:30",
               "iEffectiveDate": "2013-03-25T21:46:30",
               "iStatusCode": "final",
               "iType": "item",
               "prefix": "naw-",
               "ref": "2.16.840.1.113883.2.4.3.11.60.101.2.1.10020",
               "refdisplay": "naw-dataelement-10020"
              }
             ],
             "isMandatory": "false",
             "maximumMultiplicity": "1",
             "minimumMultiplicity": "0",
             "name": [
              {
               "content": "Voornamen",
               "language": "nl-NL"
              }
             ],
             "shortName": "voornamen",
             "statusCode": "final",
             "type": "item",
             "valueDomain": [
              {
               "example": [
                {
                 "content": "Johanna Henriette Maria"
                }
               ],
               "type": "string"
              }
             ]
            },
            {
             "conformance": "R",
             "desc": [
              {
               "content": "Voorletters gebaseerd op de voornamen van de persoon.",
               "language": "nl-NL"
              }
             ],
             "effectiveDate": "2016-09-08T00:00:00",
             "id": "2.16.840.1.113883.2.4.3.11.60.90.77.2.6.82359",
             "iddisplay": "peri23-dataelement-82359",
             "implementation": [
              {
               "shortName": "initialen"
              }
             ],
             "inherit": [
              {
               "datasetEffectiveDate": "2013-03-25T14:13:00",
               "datasetId": "2.16.840.1.113883.2.4.3.11.60.101.1.1",
               "datasetStatusCode": "final",
               "effectiveDate": "2013-03-25T21:46:30",
               "iEffectiveDate": "2013-03-25T21:46:30",
               "iStatusCode": "final",
               "iType": "item",
               "prefix": "naw-",
               "ref": "2.16.840.1.113883.2.4.3.11.60.101.2.1.10030",
               "refdisplay": "naw-dataelement-10030"
              }
             ],
             "isMandatory": "false",
             "maximumMultiplicity": "1",
             "minimumMultiplicity": "0",
             "name": [
              {
               "content": "Initialen",
               "language": "nl-NL"
              }
             ],
             "shortName": "initialen",
             "statusCode": "draft",
             "type": "item",
             "valueDomain": [
              {
               "example": [
                {
                 "content": "J.H.M."
                }
               ],
               "type": "string"
              }
             ]
            },
            {
             "conformance": "R",
             "desc": [
              {
               "content": "Naam, die de persoon voert en die niet de officiële naam is.",
               "language": "nl-NL"
              }
             ],
             "effectiveDate": "2016-09-08T00:00:00",
             "id": "2.16.840.1.113883.2.4.3.11.60.90.77.2.6.82360",
             "iddisplay": "peri23-dataelement-82360",
             "implementation": [
              {
               "shortName": "roepnaam"
              }
             ],
             "inherit": [
              {
               "datasetEffectiveDate": "2013-03-25T14:13:00",
               "datasetId": "2.16.840.1.113883.2.4.3.11.60.101.1.1",
               "datasetStatusCode": "final",
               "effectiveDate": "2013-03-25T21:46:30",
               "iEffectiveDate": "2013-03-25T21:46:30",
               "iStatusCode": "final",
               "iType": "item",
               "prefix": "naw-",
               "ref": "2.16.840.1.113883.2.4.3.11.60.101.2.1.10040",
               "refdisplay": "naw-dataelement-10040"
              }
             ],
             "isMandatory": "false",
             "maximumMultiplicity": "1",
             "minimumMultiplicity": "0",
             "name": [
              {
               "content": "Roepnaam",
               "language": "nl-NL"
              }
             ],
             "shortName": "roepnaam",
             "statusCode": "draft",
             "type": "item",
             "valueDomain": [
              {
               "example": [
                {
                 "content": "Jet"
                }
               ],
               "type": "string"
              }
             ]
            },
            {
             "concept": [
              {
               "conformance": "R",
               "desc": [
                {
                 "content": "Aanduiding die aangeeft welke functie de naam heeft.",
                 "language": "nl-NL"
                }
               ],
               "effectiveDate": "2016-09-08T00:00:00",
               "id": "2.16.840.1.113883.2.4.3.11.60.90.77.2.6.82362",
               "iddisplay": "peri23-dataelement-82362",
               "implementation": [
                {
                 "shortName": "soort_naam"
                }
               ],
               "inherit": [
                {
                 "datasetEffectiveDate": "2013-03-25T14:13:00",
                 "datasetId": "2.16.840.1.113883.2.4.3.11.60.101.1.1",
                 "datasetStatusCode": "final",
                 "effectiveDate": "2013-03-25T21:46:30",
                 "iEffectiveDate": "2013-03-25T21:46:30",
                 "iStatusCode": "final",
                 "iType": "item",
                 "prefix": "naw-",
                 "ref": "2.16.840.1.113883.2.4.3.11.60.101.2.1.10060",
                 "refdisplay": "naw-dataelement-10060"
                }
               ],
               "isMandatory": "false",
               "maximumMultiplicity": "1",
               "minimumMultiplicity": "0",
               "name": [
                {
                 "content": "Soort naam",
                 "language": "nl-NL"
                }
               ],
               "shortName": "soort_naam",
               "statusCode": "final",
               "terminologyAssociation": [
                {
                 "conceptId": "2.16.840.1.113883.2.4.3.11.60.101.2.1.10060.0",
                 "valueSet": "2.16.840.1.113883.2.4.3.11.60.101.11.9"
                }
               ],
               "type": "item",
               "valueDomain": [
                {
                 "conceptList": [
                  {
                   "id": "2.16.840.1.113883.2.4.3.11.60.101.2.1.10060.0"
                  }
                 ],
                 "example": [
                  {
                   "content": "Geboortenaam partner"
                  }
                 ],
                 "type": "code"
                }
               ],
               "valueSet": [
                {
                 "conceptList": [
                  {
                   "concept": [
                    {
                     "code": "BR",
                     "codeSystem": "2.16.840.1.113883.5.43",
                     "desc": [
                      {
                       "content": "Geslachtsnaam",
                       "language": "nl-NL"
                      }
                     ],
                     "displayName": "Geslachtsnaam",
                     "level": "0",
                     "localId": "1",
                     "name": [
                      {
                       "content": "Geslachtsnaam",
                       "language": "nl-NL"
                      }
                     ],
                     "type": "L"
                    },
                    {
                     "code": "SP",
                     "codeSystem": "2.16.840.1.113883.5.43",
                     "desc": [
                      {
                       "content": "Geslachtsnaam partner",
                       "language": "nl-NL"
                      }
                     ],
                     "displayName": "Geslachtsnaam partner",
                     "level": "0",
                     "localId": "2",
                     "name": [
                      {
                       "content": "Geslachtsnaam partner",
                       "language": "nl-NL"
                      }
                     ],
                     "type": "L"
                    }
                   ],
                   "id": "2.16.840.1.113883.2.4.3.11.60.101.2.1.10060.0"
                  }
                 ],
                 "displayName": "Achternaam soort",
                 "effectiveDate": "2013-03-25T14:13:00",
                 "id": "2.16.840.1.113883.2.4.3.11.60.101.11.9",
                 "name": "AchternaamSoort",
                 "publishingAuthority": [
                  {
                   "addrLine": [
                    {
                     "content": "Koninklijke Nederlandse Organisatie van Verloskundigen"
                    },
                    {
                     "content": "Mercatorlaan 1200"
                    },
                    {
                     "content": "3528 BL Utrecht"
                    },
                    {
                     "content": "T 030 282 31 00"
                    }
                   ],
                   "name": "KNOV"
                  }
                 ],
                 "sourceCodeSystem": [
                  {
                   "canonicalUri": "urn:oid:2.16.840.1.113883.5.43",
                   "canonicalUriDSTU2": "urn:oid:2.16.840.1.113883.5.43",
                   "canonicalUriR4": "urn:oid:2.16.840.1.113883.5.43",
                   "canonicalUriSTU3": "urn:oid:2.16.840.1.113883.5.43",
                   "id": "2.16.840.1.113883.5.43",
                   "identifierName": "Entity&#160;Name&#160;Part&#160;Qualifier"
                  }
                 ],
                 "statusCode": "final",
                 "terminologyAssociation": [
                  {
                   "conceptId": "2.16.840.1.113883.2.4.3.11.60.101.2.1.10060.0",
                   "valueSet": "2.16.840.1.113883.2.4.3.11.60.101.11.9"
                  }
                 ]
                }
               ]
              },
              {
               "comment": [
                {
                 "content": "GBA tabel 36 is een opsomming van te gebruiken voorvoegsels zonder bijbehorende code. Het gebruik wordt aanbevolen, maar is niet verplicht. Bij vulling via de SBV-Z zullen de voorzetsels overeenkomen met tabel 36.",
                 "language": "nl-NL"
                }
               ],
               "conformance": "R",
               "desc": [
                {
                 "content": "Deel van de achternaam dat het voorvoegsel bevat.",
                 "language": "nl-NL"
                }
               ],
               "effectiveDate": "2016-09-08T00:00:00",
               "id": "2.16.840.1.113883.2.4.3.11.60.90.77.2.6.82363",
               "iddisplay": "peri23-dataelement-82363",
               "implementation": [
                {
                 "shortName": "voorvoegsel"
                }
               ],
               "inherit": [
                {
                 "datasetEffectiveDate": "2013-03-25T14:13:00",
                 "datasetId": "2.16.840.1.113883.2.4.3.11.60.101.1.1",
                 "datasetStatusCode": "final",
                 "effectiveDate": "2013-03-25T21:46:30",
                 "iEffectiveDate": "2013-03-25T21:46:30",
                 "iStatusCode": "final",
                 "iType": "item",
                 "prefix": "naw-",
                 "ref": "2.16.840.1.113883.2.4.3.11.60.101.2.1.10070",
                 "refdisplay": "naw-dataelement-10070"
                }
               ],
               "isMandatory": "false",
               "maximumMultiplicity": "1",
               "minimumMultiplicity": "0",
               "name": [
                {
                 "content": "Voorvoegsel",
                 "language": "nl-NL"
                }
               ],
               "operationalization": [
                {
                 "content": "GBA tabel 36",
                 "language": "nl-NL"
                }
               ],
               "shortName": "voorvoegsel",
               "statusCode": "final",
               "type": "item",
               "valueDomain": [
                {
                 "example": [
                  {
                   "content": "van"
                  }
                 ],
                 "type": "string"
                }
               ]
              },
              {
               "community": [
                {
                 "data": [
                  {
                   "content": "1.2.02.02, 1.2.02.03, 1.2.02.04 en 1.2.02.05",
                   "datatype": "text",
                   "label": "PRN dataset 1.3 mapping",
                   "type": "prn13mapping"
                  },
                  {
                   "content": "Vrouw, meisjesachternaam Vrouw, tussenvoegsel meisjesachternaam Vrouw, naam partner/huwelijksnaam Vrouw, tussenvoegsel naam partner/huwelijksnaam PRN verwacht de gehele uitwerking uit de persoonsgegevens conform HL7 CMET.",
                   "datatype": "text",
                   "label": "PRN dataset 1.3 info",
                   "type": "prn13info"
                  }
                 ],
                 "name": "prn"
                }
               ],
               "conformance": "R",
               "desc": [
                {
                 "content": "De achternaam van een persoon die bij de geboorte is vastgelegd. Afhankeljk van de soort naam is dit de geboortenaam van de persoon of van de partner",
                 "language": "nl-NL"
                }
               ],
               "effectiveDate": "2016-09-08T00:00:00",
               "id": "2.16.840.1.113883.2.4.3.11.60.90.77.2.6.10043",
               "iddisplay": "peri23-dataelement-10043",
               "implementation": [
                {
                 "shortName": "achternaam"
                }
               ],
               "inherit": [
                {
                 "datasetEffectiveDate": "2013-03-25T14:13:00",
                 "datasetId": "2.16.840.1.113883.2.4.3.11.60.101.1.1",
                 "datasetStatusCode": "final",
                 "effectiveDate": "2013-03-25T21:46:30",
                 "iEffectiveDate": "2013-03-25T21:46:30",
                 "iStatusCode": "final",
                 "iType": "item",
                 "prefix": "naw-",
                 "ref": "2.16.840.1.113883.2.4.3.11.60.101.2.1.10080",
                 "refdisplay": "naw-dataelement-10080"
                }
               ],
               "isMandatory": "false",
               "maximumMultiplicity": "1",
               "minimumMultiplicity": "1",
               "name": [
                {
                 "content": "Achternaam",
                 "language": "nl-NL"
                }
               ],
               "shortName": "achternaam",
               "statusCode": "final",
               "type": "item",
               "valueDomain": [
                {
                 "example": [
                  {
                   "content": "Putten"
                  }
                 ],
                 "type": "string"
                }
               ]
              }
             ],
             "conformance": "R",
             "desc": [
              {
               "language": "nl-NL"
              }
             ],
             "effectiveDate": "2016-09-08T00:00:00",
             "id": "2.16.840.1.113883.2.4.3.11.60.90.77.2.6.82361",
             "iddisplay": "peri23-dataelement-82361",
             "implementation": [
              {
               "shortName": "achternaam"
              }
             ],
             "inherit": [
              {
               "datasetEffectiveDate": "2013-03-25T14:13:00",
               "datasetId": "2.16.840.1.113883.2.4.3.11.60.101.1.1",
               "datasetStatusCode": "final",
               "effectiveDate": "2013-03-25T21:46:30",
               "iEffectiveDate": "2013-03-25T21:46:30",
               "iStatusCode": "final",
               "iType": "group",
               "prefix": "naw-",
               "ref": "2.16.840.1.113883.2.4.3.11.60.101.2.1.10050",
               "refdisplay": "naw-dataelement-10050"
              }
             ],
             "isMandatory": "false",
             "maximumMultiplicity": "1",
             "minimumMultiplicity": "1",
             "name": [
              {
               "content": "Achternaam",
               "language": "nl-NL"
              }
             ],
             "shortName": "achternaam",
             "statusCode": "final",
             "type": "group"
            }
           ],
           "conformance": "R",
           "desc": [
            {
             "content": "Naamgegevens van de vrouw.",
             "language": "nl-NL"
            }
           ],
           "effectiveDate": "2016-09-08T00:00:00",
           "id": "2.16.840.1.113883.2.4.3.11.60.90.77.2.6.10035",
           "iddisplay": "peri23-dataelement-10035",
           "implementation": [
            {
             "shortName": "naamgegevens"
            }
           ],
           "inherit": [
            {
             "datasetEffectiveDate": "2013-09-10T00:00:00",
             "datasetId": "2.16.840.1.113883.2.4.3.11.60.90.77.1.5",
             "datasetStatusCode": "final",
             "effectiveDate": "2013-09-10T00:00:00",
             "iEffectiveDate": "2013-09-10T00:00:00",
             "iStatusCode": "final",
             "iType": "group",
             "iVersionLabel": "22",
             "prefix": "peri20-",
             "ref": "2.16.840.1.113883.2.4.3.11.60.90.77.2.5.10035",
             "refdisplay": "peri22-dataelement-10035"
            }
           ],
           "isMandatory": "false",
           "maximumMultiplicity": "1",
           "minimumMultiplicity": "0",
           "name": [
            {
             "content": "Naamgegevens",
             "language": "nl-NL"
            }
           ],
           "shortName": "naamgegevens",
           "statusCode": "draft",
           "type": "group"
          }
         ],
         "conformance": "R",
         "desc": [
          {
           "content": "Vrouw die obstetrische zorgdiensten afneemt / heeft afgenomen.",
           "language": "nl-NL"
          }
         ],
         "effectiveDate": "2016-09-08T00:00:00",
         "id": "2.16.840.1.113883.2.4.3.11.60.90.77.2.6.2",
         "iddisplay": "peri23-dataelement-2",
         "implementation": [
          {
           "shortName": "vrouw"
          }
         ],
         "isMandatory": "false",
         "maximumMultiplicity": "1",
         "minimumMultiplicity": "1",
         "name": [
          {
           "content": "Vrouw",
           "language": "nl-NL"
          }
         ],
         "relationship": [
          {
           "datasetEffectiveDate": "2013-09-10T00:00:00",
           "datasetId": "2.16.840.1.113883.2.4.3.11.60.90.77.1.5",
           "datasetStatusCode": "final",
           "flexibility": "2013-09-10T00:00:00",
           "iEffectiveDate": "2013-09-10T00:00:00",
           "iStatusCode": "final",
           "iType": "group",
           "iVersionLabel": "22",
           "name": [
            {
             "content": "Vrouw",
             "language": "nl-NL"
            }
           ],
           "prefix": "peri20-",
           "ref": "2.16.840.1.113883.2.4.3.11.60.90.77.2.5.2",
           "refdisplay": "peri22-dataelement-2",
           "type": "SPEC"
          }
         ],
         "shortName": "vrouw",
         "statusCode": "draft",
         "type": "group"
        },
        {
         "community": [
          {
           "data": [
            {
             "content": "Deze rubriek bevat voor PRN aanlevering relevante data elementen. Er is geen rechtstreekse mapping van de rubriek naar een PRN data element. ",
             "datatype": "text",
             "label": "PRN dataset 1.3 info",
             "type": "prn13info"
            }
           ],
           "name": "prn"
          },
          {
           "data": [
            {
             "content": "zib-Pregnancy",
             "datatype": "enum",
             "label": "FHIR profile",
             "type": "baseprofile"
            }
           ],
           "name": "fhirmapping"
          }
         ],
         "concept": [
          {
           "comment": [
            {
             "content": "1 - 75",
             "language": "nl-NL"
            }
           ],
           "community": [
            {
             "data": [
              {
               "content": "PRN data element 3.2.01",
               "datatype": "text",
               "label": "PRN dataset 1.3 mapping",
               "type": "prn13mapping"
              },
              {
               "content": "I: Het aantal doorgemaakte zwangerschappen (inclusief deze).",
               "datatype": "text",
               "label": "PRN dataset 1.3 info",
               "type": "prn13info"
              },
              {
               "content": "Er lijkt nog verschil in omschrijving.  PRN dataset 1.35:&#160; Op verzoek van PRN is onbekend toegestaan. ART-DECOR: Onbekend niet, of indien toch, dan anders vastleggen!  Niet verplicht voor neonatologen ?",
               "datatype": "text",
               "label": "PRN dataset 1.3 bijzonderheden",
               "type": "prn13bijzonderheden"
              },
              {
               "content": "Behoort tot PRN kernset",
               "datatype": "text",
               "label": "PRN kernset info",
               "type": "prnKSinfo"
              }
             ],
             "name": "prn"
            }
           ],
           "conformance": "R",
           "desc": [
            {
             "content": "Het aantal keren dat de vrouw zwanger is geworden (inclusief deze).",
             "language": "nl-NL"
            }
           ],
           "effectiveDate": "2016-09-08T00:00:00",
           "id": "2.16.840.1.113883.2.4.3.11.60.90.77.2.6.20010",
           "iddisplay": "peri23-dataelement-20010",
           "implementation": [
            {
             "shortName": "graviditeit"
            }
           ],
           "inherit": [
            {
             "datasetEffectiveDate": "2009-10-01T00:00:00",
             "datasetId": "2.16.840.1.113883.2.4.3.11.60.90.77.1.1",
             "datasetStatusCode": "deprecated",
             "effectiveDate": "2009-10-01T00:00:00",
             "iEffectiveDate": "2009-10-01T00:00:00",
             "iStatusCode": "final",
             "iType": "item",
             "prefix": "peri20-",
             "ref": "2.16.840.1.113883.2.4.3.11.60.90.77.2.1.20010",
             "refdisplay": "spirit1a-dataelement-20010"
            }
           ],
           "isMandatory": "false",
           "maximumMultiplicity": "1",
           "minimumMultiplicity": "0",
           "name": [
            {
             "content": "Graviditeit",
             "language": "nl-NL"
            }
           ],
           "shortName": "graviditeit",
           "statusCode": "final",
           "terminologyAssociation": [
            {
             "code": "Gravidity",
             "codeSystem": "2.16.840.1.113883.2.4.4.13",
             "codeSystemName": "Perinatologische observatiecodes",
             "conceptId": "2.16.840.1.113883.2.4.3.11.60.90.77.2.1.20010",
             "displayName": "Graviditeit"
            }
           ],
           "type": "item",
           "valueDomain": [
            {
             "property": [
              {
               "maxInclude": "75",
               "minInclude": "1"
              }
             ],
             "type": "count"
            }
           ]
          },
          {
           "community": [
            {
             "data": [
              {
               "content": " 3.2.02",
               "datatype": "text",
               "label": "PRN dataset 1.3 mapping",
               "type": "prn13mapping"
              },
              {
               "content": "I: Het aantal doorgemaakte zwangerschappen (inclusief deze). Operationalisatie: aanpassen naar pariteit moet altijd minimaal 1 minder zijn dan graviditeit.",
               "datatype": "text",
               "label": "PRN dataset 1.3 bijzonderheden",
               "type": "prn13bijzonderheden"
              },
              {
               "content": "Behoort tot PRN Kernset",
               "datatype": "text",
               "label": "PRN kernset info",
               "type": "prnKSinfo"
              }
             ],
             "name": "prn"
            }
           ],
           "conformance": "R",
           "desc": [
            {
             "content": "Aantal voorafgaande zwangerschappen vóór deze zwangerschap die eindigden met een partus (&gt;= 16w 0d / 112 dagen). De waarde van dit item is minimaal 1 minder dan graviditeit. ",
             "language": "nl-NL"
            }
           ],
           "effectiveDate": "2016-09-08T00:00:00",
           "id": "2.16.840.1.113883.2.4.3.11.60.90.77.2.6.20150",
           "iddisplay": "peri23-dataelement-20150",
           "implementation": [
            {
             "shortName": "pariteit_voor_deze_zwangerschap"
            }
           ],
           "inherit": [
            {
             "datasetEffectiveDate": "2013-09-10T00:00:00",
             "datasetId": "2.16.840.1.113883.2.4.3.11.60.90.77.1.5",
             "datasetStatusCode": "final",
             "effectiveDate": "2013-09-10T00:00:00",
             "iEffectiveDate": "2013-09-10T00:00:00",
             "iStatusCode": "final",
             "iType": "item",
             "prefix": "peri20-",
             "ref": "2.16.840.1.113883.2.4.3.11.60.90.77.2.5.20150",
             "refdisplay": "peri22-dataelement-20150"
            }
           ],
           "isMandatory": "false",
           "maximumMultiplicity": "1",
           "minimumMultiplicity": "0",
           "name": [
            {
             "content": "Pariteit (vóór deze zwangerschap)",
             "language": "nl-NL"
            }
           ],
           "shortName": "pariteit_voor_deze_zwangerschap",
           "statusCode": "final",
           "terminologyAssociation": [
            {
             "code": "Parturit",
             "codeSystem": "2.16.840.1.113883.2.4.4.13",
             "codeSystemName": "Perinatologische observatiecodes",
             "conceptId": "2.16.840.1.113883.2.4.3.11.60.90.77.2.5.20150",
             "displayName": "Pariteit (vóór deze zwangerschap)",
             "effectiveDate": "2014-10-20T17:15:53"
            }
           ],
           "type": "item",
           "valueDomain": [
            {
             "property": [
              {
               "maxInclude": "30",
               "minInclude": "0"
              }
             ],
             "type": "count"
            }
           ]
          },
          {
           "community": [
            {
             "data": [
              {
               "content": "8.1.03",
               "datatype": "text",
               "label": "PRN dataset 1.3 mapping",
               "type": "prn13mapping"
              },
              {
               "content": "Onderdeel van kernset",
               "datatype": "text",
               "label": "PRN dataset 1.3 info",
               "type": "prn13info"
              },
              {
               "content": "8.1.03",
               "datatype": "text",
               "label": "PRN kernset mapping",
               "type": "prnKSmapping"
              }
             ],
             "name": "prn"
            },
            {
             "data": [
              {
               "content": "yes",
               "datatype": "enum",
               "label": "Generate profile?",
               "type": "generate-profile"
              },
              {
               "content": "bc-Pregnancy-EndType",
               "datatype": "string",
               "label": "FHIR profile name",
               "type": "translation"
              },
              {
               "content": "zib-Pregnancy",
               "datatype": "enum",
               "label": "Focus of Observation",
               "type": "observation-focus"
              }
             ],
             "name": "fhirmapping"
            }
           ],
           "conformance": "R",
           "desc": [
            {
             "content": "De wijze waarop de zwangerschap geëindigd is. TOP (Termination of Pregnancy) is zwangerschapsafbreking na 16+0 weken (16w0d). Bij TOP wordt hier 'Partus' geregistreerd, zodat dit meegenomen wordt als pariteit. Dit in tegenstelling tot APLA, waarmee een zwangerschapsafbreking (abortus) van minder dan 16 weken wordt bedoeld.",
             "language": "nl-NL"
            }
           ],
           "effectiveDate": "2016-09-08T00:00:00",
           "id": "2.16.840.1.113883.2.4.3.11.60.90.77.2.6.80625",
           "iddisplay": "peri23-dataelement-80625",
           "implementation": [
            {
             "shortName": "wijze_einde_zwangerschap"
            }
           ],
           "inherit": [
            {
             "datasetEffectiveDate": "2012-08-06T00:00:00",
             "datasetId": "2.16.840.1.113883.2.4.3.11.60.90.77.1.4",
             "datasetStatusCode": "final",
             "effectiveDate": "2013-02-18T16:16:04",
             "iEffectiveDate": "2013-02-18T16:16:04",
             "iStatusCode": "final",
             "iType": "item",
             "prefix": "peri20-",
             "ref": "2.16.840.1.113883.2.4.3.11.60.90.77.2.4.80623",
             "refdisplay": "peri21-dataelement-80623"
            }
           ],
           "isMandatory": "false",
           "maximumMultiplicity": "1",
           "minimumMultiplicity": "0",
           "name": [
            {
             "content": "Wijze einde zwangerschap",
             "language": "nl-NL"
            }
           ],
           "shortName": "wijze_einde_zwangerschap",
           "statusCode": "final",
           "terminologyAssociation": [
            {
             "conceptId": "2.16.840.1.113883.2.4.3.11.60.90.77.8.4.80623.0",
             "effectiveDate": "2013-04-04T16:17:49",
             "flexibility": "2013-03-20T00:00:00",
             "valueSet": "2.16.840.1.113883.2.4.11.171"
            },
            {
             "code": "EindeZw",
             "codeSystem": "2.16.840.1.113883.2.4.4.13",
             "codeSystemName": "Perinatologische observatiecodes",
             "conceptId": "2.16.840.1.113883.2.4.3.11.60.90.77.2.4.80623",
             "displayName": "Wijze einde zwangerschap",
             "effectiveDate": "2014-10-20T18:57:02"
            },
            {
             "code": "5",
             "codeSystem": "2.16.840.1.113883.2.4.4.13.46",
             "codeSystemName": "WijzeEindeZwangerschap",
             "conceptId": "2.16.840.1.113883.2.4.3.11.60.90.77.8.4.80623.10",
             "displayName": "(partiële) Mola - behandeld"
            },
            {
             "code": "4",
             "codeSystem": "2.16.840.1.113883.2.4.4.13.46",
             "codeSystemName": "WijzeEindeZwangerschap",
             "conceptId": "2.16.840.1.113883.2.4.3.11.60.90.77.8.4.80623.9",
             "displayName": "EUG - behandeld"
            },
            {
             "code": "32",
             "codeSystem": "2.16.840.1.113883.2.4.4.13.46",
             "codeSystemName": "WijzeEindeZwangerschap",
             "conceptId": "2.16.840.1.113883.2.4.3.11.60.90.77.8.4.80623.8",
             "displayName": "Instrumenteel"
            },
            {
             "code": "31",
             "codeSystem": "2.16.840.1.113883.2.4.4.13.46",
             "codeSystemName": "WijzeEindeZwangerschap",
             "conceptId": "2.16.840.1.113883.2.4.3.11.60.90.77.8.4.80623.7",
             "displayName": "Medicamenteus"
            },
            {
             "code": "3",
             "codeSystem": "2.16.840.1.113883.2.4.4.13.46",
             "codeSystemName": "WijzeEindeZwangerschap",
             "conceptId": "2.16.840.1.113883.2.4.3.11.60.90.77.8.4.80623.6",
             "displayName": "APLA"
            },
            {
             "code": "23",
             "codeSystem": "2.16.840.1.113883.2.4.4.13.46",
             "codeSystemName": "WijzeEindeZwangerschap",
             "conceptId": "2.16.840.1.113883.2.4.3.11.60.90.77.8.4.80623.5",
             "displayName": "Instrumenteel"
            },
            {
             "code": "22",
             "codeSystem": "2.16.840.1.113883.2.4.4.13.46",
             "codeSystemName": "WijzeEindeZwangerschap",
             "conceptId": "2.16.840.1.113883.2.4.3.11.60.90.77.8.4.80623.4",
             "displayName": "Medicamenteus"
            },
            {
             "code": "21",
             "codeSystem": "2.16.840.1.113883.2.4.4.13.46",
             "codeSystemName": "WijzeEindeZwangerschap",
             "conceptId": "2.16.840.1.113883.2.4.3.11.60.90.77.8.4.80623.3",
             "displayName": "Spontaan"
            },
            {
             "code": "2",
             "codeSystem": "2.16.840.1.113883.2.4.4.13.46",
             "codeSystemName": "WijzeEindeZwangerschap",
             "conceptId": "2.16.840.1.113883.2.4.3.11.60.90.77.8.4.80623.2",
             "displayName": "Miskraam"
            },
            {
             "code": "1",
             "codeSystem": "2.16.840.1.113883.2.4.4.13.46",
             "codeSystemName": "WijzeEindeZwangerschap",
             "conceptId": "2.16.840.1.113883.2.4.3.11.60.90.77.8.4.80623.1",
             "displayName": "Partus"
            }
           ],
           "type": "item",
           "valueDomain": [
            {
             "conceptList": [
              {
               "concept": [
                {
                 "desc": [
                  {
                   "language": "nl-NL"
                  }
                 ],
                 "id": "2.16.840.1.113883.2.4.3.11.60.90.77.8.4.80623.1",
                 "name": [
                  {
                   "content": "Partus",
                   "language": "nl-NL"
                  }
                 ]
                },
                {
                 "desc": [
                  {
                   "language": "nl-NL"
                  }
                 ],
                 "id": "2.16.840.1.113883.2.4.3.11.60.90.77.8.4.80623.2",
                 "name": [
                  {
                   "content": "Miskraam",
                   "language": "nl-NL"
                  }
                 ]
                },
                {
                 "id": "2.16.840.1.113883.2.4.3.11.60.90.77.8.4.80623.3",
                 "name": [
                  {
                   "content": "Miskraam - Spontaan",
                   "language": "nl-NL"
                  }
                 ]
                },
                {
                 "id": "2.16.840.1.113883.2.4.3.11.60.90.77.8.4.80623.4",
                 "name": [
                  {
                   "content": "Miskraam - Medicamenteus",
                   "language": "nl-NL"
                  }
                 ]
                },
                {
                 "id": "2.16.840.1.113883.2.4.3.11.60.90.77.8.4.80623.5",
                 "name": [
                  {
                   "content": "Miskraam - Instrumenteel",
                   "language": "nl-NL"
                  }
                 ]
                },
                {
                 "desc": [
                  {
                   "content": "Zwangerschapsafbreking vóór 16 weken",
                   "language": "nl-NL"
                  }
                 ],
                 "id": "2.16.840.1.113883.2.4.3.11.60.90.77.8.4.80623.6",
                 "name": [
                  {
                   "content": "APLA",
                   "language": "nl-NL"
                  }
                 ]
                },
                {
                 "id": "2.16.840.1.113883.2.4.3.11.60.90.77.8.4.80623.7",
                 "name": [
                  {
                   "content": "APLA - Medicamenteus",
                   "language": "nl-NL"
                  }
                 ]
                },
                {
                 "id": "2.16.840.1.113883.2.4.3.11.60.90.77.8.4.80623.8",
                 "name": [
                  {
                   "content": "APLA - Instrumenteel",
                   "language": "nl-NL"
                  }
                 ]
                },
                {
                 "desc": [
                  {
                   "content": "Het gaat hier om een behandelde EUG - de behandeling wordt niet nader gespecificeerd",
                   "language": "nl-NL"
                  }
                 ],
                 "id": "2.16.840.1.113883.2.4.3.11.60.90.77.8.4.80623.9",
                 "name": [
                  {
                   "content": "EUG",
                   "language": "nl-NL"
                  }
                 ]
                },
                {
                 "desc": [
                  {
                   "content": "Het gaat hier om een behandelde (Partiële) Mola - de behandeling wordt niet nader gespecificeerd",
                   "language": "nl-NL"
                  }
                 ],
                 "id": "2.16.840.1.113883.2.4.3.11.60.90.77.8.4.80623.10",
                 "name": [
                  {
                   "content": "(Partiële) Mola",
                   "language": "nl-NL"
                  }
                 ]
                }
               ],
               "id": "2.16.840.1.113883.2.4.3.11.60.90.77.8.4.80623.0"
              }
             ],
             "property": [
              {}
             ],
             "type": "code"
            }
           ],
           "valueSet": [
            {
             "conceptList": [
              {
               "concept": [
                {
                 "code": "1",
                 "codeSystem": "2.16.840.1.113883.2.4.4.13.46",
                 "displayName": "Partus",
                 "level": "0",
                 "localId": "1",
                 "name": [
                  {
                   "content": "Partus",
                   "language": "nl-NL"
                  }
                 ],
                 "type": "L"
                },
                {
                 "code": "2",
                 "codeSystem": "2.16.840.1.113883.2.4.4.13.46",
                 "displayName": "Miskraam",
                 "level": "0",
                 "localId": "2",
                 "name": [
                  {
                   "content": "Miskraam",
                   "language": "nl-NL"
                  }
                 ],
                 "type": "L"
                },
                {
                 "code": "21",
                 "codeSystem": "2.16.840.1.113883.2.4.4.13.46",
                 "displayName": "Miskraam - Spontaan",
                 "level": "1",
                 "localId": "3",
                 "name": [
                  {
                   "content": "Miskraam - Spontaan",
                   "language": "nl-NL"
                  }
                 ],
                 "type": "L"
                },
                {
                 "code": "22",
                 "codeSystem": "2.16.840.1.113883.2.4.4.13.46",
                 "displayName": "Miskraam - Medicamenteus",
                 "level": "1",
                 "localId": "4",
                 "name": [
                  {
                   "content": "Miskraam - Medicamenteus",
                   "language": "nl-NL"
                  }
                 ],
                 "type": "L"
                },
                {
                 "code": "23",
                 "codeSystem": "2.16.840.1.113883.2.4.4.13.46",
                 "displayName": "Miskraam - Instrumenteel",
                 "level": "1",
                 "localId": "5",
                 "name": [
                  {
                   "content": "Miskraam - Instrumenteel",
                   "language": "nl-NL"
                  }
                 ],
                 "type": "L"
                },
                {
                 "code": "3",
                 "codeSystem": "2.16.840.1.113883.2.4.4.13.46",
                 "displayName": "APLA",
                 "level": "0",
                 "localId": "6",
                 "name": [
                  {
                   "content": "APLA",
                   "language": "nl-NL"
                  }
                 ],
                 "type": "L"
                },
                {
                 "code": "31",
                 "codeSystem": "2.16.840.1.113883.2.4.4.13.46",
                 "displayName": "APLA - Medicamenteus",
                 "level": "1",
                 "localId": "7",
                 "name": [
                  {
                   "content": "APLA - Medicamenteus",
                   "language": "nl-NL"
                  }
                 ],
                 "type": "L"
                },
                {
                 "code": "32",
                 "codeSystem": "2.16.840.1.113883.2.4.4.13.46",
                 "displayName": "APLA - Instrumenteel",
                 "level": "1",
                 "localId": "8",
                 "name": [
                  {
                   "content": "APLA - Instrumenteel",
                   "language": "nl-NL"
                  }
                 ],
                 "type": "L"
                },
                {
                 "code": "4",
                 "codeSystem": "2.16.840.1.113883.2.4.4.13.46",
                 "displayName": "EUG - behandeld",
                 "level": "0",
                 "localId": "9",
                 "name": [
                  {
                   "content": "EUG",
                   "language": "nl-NL"
                  }
                 ],
                 "type": "L"
                },
                {
                 "code": "5",
                 "codeSystem": "2.16.840.1.113883.2.4.4.13.46",
                 "displayName": "(partiële) Mola - behandeld",
                 "level": "0",
                 "localId": "10",
                 "name": [
                  {
                   "content": "(Partiële) Mola",
                   "language": "nl-NL"
                  }
                 ],
                 "type": "L"
                }
               ],
               "exception": [
                {
                 "code": "NI",
                 "codeSystem": "2.16.840.1.113883.5.1008",
                 "displayName": "geen informatie",
                 "level": "0",
                 "localId": "11",
                 "name": [
                  {
                   "content": "geen informatie",
                   "language": "nl-NL"
                  }
                 ],
                 "type": "L"
                }
               ],
               "id": "2.16.840.1.113883.2.4.3.11.60.90.77.8.4.80623.0"
              }
             ],
             "displayName": "WijzeEindeZwangerschap",
             "effectiveDate": "2013-03-20T00:00:00",
             "id": "2.16.840.1.113883.2.4.11.171",
             "name": "WijzeEindeZwangerschap",
             "publishingAuthority": [
              {
               "addrLine": [
                {
                 "content": "Koninklijke Nederlandse Organisatie van Verloskundigen"
                },
                {
                 "content": "Mercatorlaan 1200"
                },
                {
                 "content": "3528 BL Utrecht"
                },
                {
                 "content": "T 030 282 31 00"
                }
               ],
               "name": "KNOV"
              }
             ],
             "sourceCodeSystem": [
              {
               "canonicalUri": "urn:oid:2.16.840.1.113883.2.4.4.13.46",
               "canonicalUriDSTU2": "urn:oid:2.16.840.1.113883.2.4.4.13.46",
               "canonicalUriR4": "urn:oid:2.16.840.1.113883.2.4.4.13.46",
               "canonicalUriSTU3": "urn:oid:2.16.840.1.113883.2.4.4.13.46",
               "id": "2.16.840.1.113883.2.4.4.13.46",
               "identifierName": "WijzeEindeZwangerschap"
              },
              {
               "canonicalUri": "urn:oid:2.16.840.1.113883.5.1008",
               "canonicalUriDSTU2": "urn:oid:2.16.840.1.113883.5.1008",
               "canonicalUriR4": "urn:oid:2.16.840.1.113883.5.1008",
               "canonicalUriSTU3": "urn:oid:2.16.840.1.113883.5.1008",
               "id": "2.16.840.1.113883.5.1008",
               "identifierName": "NullFlavor"
              }
             ],
             "statusCode": "final",
             "terminologyAssociation": [
              {
               "conceptId": "2.16.840.1.113883.2.4.3.11.60.90.77.8.4.80623.0",
               "effectiveDate": "2013-04-04T16:17:49",
               "flexibility": "2013-03-20T00:00:00",
               "valueSet": "2.16.840.1.113883.2.4.11.171"
              }
             ]
            }
           ]
          },
          {
           "comment": [
            {
             "div": [
              {
               "div": [
                {
                 "content": "Dit element is gekoppeld aan het element 'Wijze einde zwangerschap'. Bij de waarde 'partus' wordt op een andere plaats in het dossier geregistreerd: geboortedatum per kind én geboortedatum/tijd van de placenta(e)."
                },
                {
                 "content": "Bij alle andere waarden dient de datum einde zwangerschap ingevuld te zijn."
                }
               ]
              }
             ],
             "language": "nl-NL"
            }
           ],
           "community": [
            {
             "data": [
              {
               "content": "Onderdeel van kernset icm wijze einde zwangerschap kan hieruit partusdatum worden afgeleid.",
               "datatype": "text",
               "label": "PRN dataset 1.3 info",
               "type": "prn13info"
              }
             ],
             "name": "prn"
            },
            {
             "data": [
              {
               "content": "yes",
               "datatype": "enum",
               "label": "Generate profile?",
               "type": "generate-profile"
              },
              {
               "content": "bc-Pregnancy-EndDate",
               "datatype": "string",
               "label": "FHIR profile name",
               "type": "translation"
              },
              {
               "content": "zib-Pregnancy",
               "datatype": "enum",
               "label": "Focus of Observation",
               "type": "observation-focus"
              }
             ],
             "name": "fhirmapping"
            }
           ],
           "conformance": "R",
           "desc": [
            {
             "content": "Moment (datum en tijd) waarop de zwangerschap medisch gezien is geëindigd, met uitzondering van de partus (bij een partus wordt dit item niet ingevuld).",
             "language": "nl-NL"
            }
           ],
           "effectiveDate": "2016-09-08T00:00:00",
           "id": "2.16.840.1.113883.2.4.3.11.60.90.77.2.6.20540",
           "iddisplay": "peri23-dataelement-20540",
           "implementation": [
            {
             "shortName": "datum_einde_zwangerschap"
            }
           ],
           "isMandatory": "false",
           "maximumMultiplicity": "1",
           "minimumMultiplicity": "0",
           "name": [
            {
             "content": "Datum einde zwangerschap",
             "language": "nl-NL"
            }
           ],
           "relationship": [
            {
             "datasetEffectiveDate": "2013-09-10T00:00:00",
             "datasetId": "2.16.840.1.113883.2.4.3.11.60.90.77.1.5",
             "datasetStatusCode": "final",
             "flexibility": "2013-09-10T00:00:00",
             "iEffectiveDate": "2013-09-10T00:00:00",
             "iStatusCode": "final",
             "iType": "item",
             "iVersionLabel": "22",
             "name": [
              {
               "content": "Datum einde zwangerschap",
               "language": "nl-NL"
              }
             ],
             "prefix": "peri20-",
             "ref": "2.16.840.1.113883.2.4.3.11.60.90.77.2.5.20540",
             "refdisplay": "peri22-dataelement-20540",
             "type": "SPEC"
            }
           ],
           "shortName": "datum_einde_zwangerschap",
           "statusCode": "draft",
           "terminologyAssociation": [
            {
             "code": "118951000146109",
             "codeSystem": "2.16.840.1.113883.6.96",
             "codeSystemName": "SNOMED CT",
             "conceptFlexibility": "2016-09-08T00:00:00",
             "conceptId": "2.16.840.1.113883.2.4.3.11.60.90.77.2.6.20540",
             "displayName": "datum van einde van zwangerschap (waarneembare entiteit)",
             "effectiveDate": "2020-03-26T15:55:35"
            }
           ],
           "type": "item",
           "valueDomain": [
            {
             "property": [
              {
               "timeStampPrecision": "YMD"
              }
             ],
             "type": "datetime"
            }
           ]
          }
         ],
         "conformance": "R",
         "desc": [
          {
           "content": "De al dan niet afgesloten zwangerschap waarop de gegevens betrekking hebben.",
           "language": "nl-NL"
          }
         ],
         "effectiveDate": "2016-09-08T00:00:00",
         "id": "2.16.840.1.113883.2.4.3.11.60.90.77.2.6.3",
         "iddisplay": "peri23-dataelement-3",
         "implementation": [
          {
           "shortName": "zwangerschap"
          }
         ],
         "isMandatory": "false",
         "maximumMultiplicity": "1",
         "minimumMultiplicity": "0",
         "name": [
          {
           "content": "Zwangerschap",
           "language": "nl-NL"
          }
         ],
         "relationship": [
          {
           "datasetEffectiveDate": "2013-09-10T00:00:00",
           "datasetId": "2.16.840.1.113883.2.4.3.11.60.90.77.1.5",
           "datasetStatusCode": "final",
           "flexibility": "2013-09-10T00:00:00",
           "iEffectiveDate": "2013-09-10T00:00:00",
           "iStatusCode": "final",
           "iType": "group",
           "iVersionLabel": "22",
           "name": [
            {
             "content": "Zwangerschap",
             "language": "nl-NL"
            }
           ],
           "prefix": "peri20-",
           "ref": "2.16.840.1.113883.2.4.3.11.60.90.77.2.5.3",
           "refdisplay": "peri22-dataelement-3",
           "type": "SPEC"
          }
         ],
         "shortName": "zwangerschap",
         "statusCode": "draft",
         "terminologyAssociation": [
          {
           "code": "118185001",
           "codeSystem": "2.16.840.1.113883.6.96",
           "codeSystemName": "SNOMED CT",
           "conceptFlexibility": "2016-09-08T00:00:00",
           "conceptId": "2.16.840.1.113883.2.4.3.11.60.90.77.2.6.3",
           "displayName": "bevinding betreffende zwangerschap (bevinding)",
           "effectiveDate": "2020-01-06T12:00:59"
          }
         ],
         "type": "group"
        },
        {
         "community": [
          {
           "data": [
            {
             "content": "Deze rubriek bevat voor PRN aanlevering relevante data elementen. Er is geen rechtstreekse mapping van de rubriek naar een PRN data element. ",
             "datatype": "text",
             "label": "PRN dataset 1.3 info",
             "type": "prn13info"
            }
           ],
           "name": "prn"
          }
         ],
         "concept": [
          {
           "community": [
            {
             "data": [
              {
               "content": " 5.2.03.01",
               "datatype": "text",
               "label": "PRN dataset 1.3 mapping",
               "type": "prn13mapping"
              },
              {
               "content": " 5.2.03.02",
               "datatype": "text",
               "label": "PRN dataset 1.3 mapping",
               "type": "prn13mapping"
              }
             ],
             "name": "prn"
            },
            {
             "data": [
              {
               "content": "yes",
               "datatype": "enum",
               "label": "Generate profile?",
               "type": "generate-profile"
              },
              {
               "content": "bc-OnsetOfLaborFirstStage",
               "datatype": "string",
               "label": "FHIR profile name",
               "type": "translation"
              }
             ],
             "name": "fhirmapping"
            }
           ],
           "conformance": "R",
           "desc": [
            {
             "content": "Datum en tijd begin actieve ontsluiting KNOV definitie van actieve ontsluting:",
             "language": "nl-NL"
            }
           ],
           "effectiveDate": "2016-09-08T00:00:00",
           "id": "2.16.840.1.113883.2.4.3.11.60.90.77.2.6.20590",
           "iddisplay": "peri23-dataelement-20590",
           "implementation": [
            {
             "shortName": "tijdstip_begin_actieve_ontsluiting"
            }
           ],
           "inherit": [
            {
             "datasetEffectiveDate": "2013-09-10T00:00:00",
             "datasetId": "2.16.840.1.113883.2.4.3.11.60.90.77.1.5",
             "datasetStatusCode": "final",
             "effectiveDate": "2013-09-10T00:00:00",
             "iEffectiveDate": "2013-09-10T00:00:00",
             "iStatusCode": "final",
             "iType": "item",
             "prefix": "peri20-",
             "ref": "2.16.840.1.113883.2.4.3.11.60.90.77.2.5.20590",
             "refdisplay": "peri22-dataelement-20590"
            }
           ],
           "isMandatory": "false",
           "maximumMultiplicity": "1",
           "minimumMultiplicity": "0",
           "name": [
            {
             "content": "Tijdstip begin actieve ontsluiting",
             "language": "nl-NL"
            }
           ],
           "relationship": [
            {
             "datasetEffectiveDate": "2009-10-01T00:00:00",
             "datasetId": "2.16.840.1.113883.2.4.3.11.60.90.77.1.1",
             "datasetStatusCode": "deprecated",
             "flexibility": "2009-10-01T00:00:00",
             "iEffectiveDate": "2009-10-01T00:00:00",
             "iStatusCode": "final",
             "iType": "item",
             "name": [
              {
               "content": "Tijdstip begin actieve ontsluiting",
               "language": "nl-NL"
              }
             ],
             "prefix": "peri20-",
             "ref": "2.16.840.1.113883.2.4.3.11.60.90.77.2.1.20590",
             "refdisplay": "spirit1a-dataelement-20590",
             "type": "SPEC"
            }
           ],
           "shortName": "tijdstip_begin_actieve_ontsluiting",
           "statusCode": "final",
           "terminologyAssociation": [
            {
             "code": "PRN520301",
             "codeSystem": "2.16.840.1.113883.2.4.3.22.1.1",
             "codeSystemName": "PerinatologyObservationsPRN",
             "conceptId": "2.16.840.1.113883.2.4.3.11.60.90.77.2.5.20590",
             "displayName": "Tijdstip begin actieve ontsluiting",
             "effectiveDate": "2015-10-12T14:22:36"
            },
            {
             "code": "249120008",
             "codeSystem": "2.16.840.1.113883.6.96",
             "codeSystemName": "SNOMED CT",
             "conceptId": "2.16.840.1.113883.2.4.3.11.60.90.77.2.5.20590",
             "displayName": "Onset of labour first stage",
             "effectiveDate": "2015-10-12T14:22:36"
            }
           ],
           "type": "item",
           "valueDomain": [
            {
             "property": [
              {
               "timeStampPrecision": "YMDHM"
              }
             ],
             "type": "datetime"
            }
           ]
          },
          {
           "conformance": "R",
           "desc": [
            {
             "content": "Ontsluitingsduur in uren",
             "language": "nl-NL"
            }
           ],
           "effectiveDate": "2020-01-24T11:34:59",
           "id": "2.16.840.1.113883.2.4.3.11.60.90.77.2.6.82869",
           "iddisplay": "peri23-dataelement-82869",
           "implementation": [
            {
             "shortName": "duur_actieve_ontsluitingsfase_ontsluitingsduur"
            }
           ],
           "inherit": [
            {
             "datasetEffectiveDate": "2013-09-10T00:00:00",
             "datasetId": "2.16.840.1.113883.2.4.3.11.60.90.77.1.5",
             "datasetStatusCode": "final",
             "effectiveDate": "2013-09-10T00:00:00",
             "iEffectiveDate": "2013-09-10T00:00:00",
             "iStatusCode": "final",
             "iType": "item",
             "iVersionLabel": "22",
             "prefix": "peri20-",
             "ref": "2.16.840.1.113883.2.4.3.11.60.90.77.2.5.10601",
             "refdisplay": "peri22-dataelement-10601"
            }
           ],
           "isMandatory": "false",
           "maximumMultiplicity": "1",
           "minimumMultiplicity": "0",
           "name": [
            {
             "content": "Duur actieve ontsluitingsfase (Ontsluitingsduur)",
             "language": "nl-NL"
            }
           ],
           "operationalization": [
            {
             "content": "Berekend veld: duur vanaf ontsluitingsfase baring tot duur actief meepersen.",
             "language": "nl-NL"
            }
           ],
           "shortName": "duur_actieve_ontsluitingsfase_ontsluitingsduur",
           "source": [
            {
             "content": "PRN dataset 1.3 item #5.6.02.02",
             "language": "nl-NL"
            }
           ],
           "statusCode": "draft",
           "type": "item",
           "valueDomain": [
            {
             "property": [
              {
               "minInclude": "0",
               "unit": "h"
              }
             ],
             "type": "quantity"
            }
           ]
          },
          {
           "conformance": "R",
           "desc": [
            {
             "content": "Duur uitdrijving in minuten.",
             "language": "nl-NL"
            }
           ],
           "effectiveDate": "2020-01-24T11:45:27",
           "id": "2.16.840.1.113883.2.4.3.11.60.90.77.2.6.82870",
           "iddisplay": "peri23-dataelement-82870",
           "implementation": [
            {
             "shortName": "duur_uitdrijving_vanaf_actief_meepersen"
            }
           ],
           "inherit": [
            {
             "datasetEffectiveDate": "2013-09-10T00:00:00",
             "datasetId": "2.16.840.1.113883.2.4.3.11.60.90.77.1.5",
             "datasetStatusCode": "final",
             "effectiveDate": "2013-09-10T00:00:00",
             "iEffectiveDate": "2013-09-10T00:00:00",
             "iStatusCode": "final",
             "iType": "item",
             "iVersionLabel": "22",
             "prefix": "peri20-",
             "ref": "2.16.840.1.113883.2.4.3.11.60.90.77.2.5.10602",
             "refdisplay": "peri22-dataelement-10602"
            }
           ],
           "isMandatory": "false",
           "maximumMultiplicity": "1",
           "minimumMultiplicity": "0",
           "name": [
            {
             "content": "Duur uitdrijving vanaf actief meepersen",
             "language": "nl-NL"
            }
           ],
           "operationalization": [
            {
             "content": "Indien bekend in systeem berekend veld: baringsduur vanaf actief meepersen tot en met de geboorte van het kind.",
             "language": "nl-NL"
            }
           ],
           "shortName": "duur_uitdrijving_vanaf_actief_meepersen",
           "statusCode": "draft",
           "type": "item",
           "valueDomain": [
            {
             "property": [
              {
               "minInclude": "0",
               "unit": "min"
              }
             ],
             "type": "quantity"
            }
           ]
          },
          {
           "community": [
            {
             "data": [
              {
               "content": " 5.7.03",
               "datatype": "text",
               "label": "PRN dataset 1.3 mapping",
               "type": "prn13mapping"
              }
             ],
             "name": "prn"
            },
            {
             "data": [
              {
               "content": "yes",
               "datatype": "enum",
               "label": "Generate profile?",
               "type": "generate-profile"
              },
              {
               "content": "bc-BloodLoss",
               "datatype": "string",
               "label": "FHIR profile name",
               "type": "translation"
              },
              {
               "content": "bc-DeliveryProcedure.xml",
               "datatype": "enum",
               "label": "Focus of Observation",
               "type": "observation-focus"
              }
             ],
             "name": "fhirmapping"
            }
           ],
           "conformance": "R",
           "desc": [
            {
             "content": "Hoeveelheid bloedverlies tijdens baring/nageboortetijdperk",
             "language": "nl-NL"
            }
           ],
           "effectiveDate": "2016-09-08T00:00:00",
           "id": "2.16.840.1.113883.2.4.3.11.60.90.77.2.6.20640",
           "iddisplay": "peri23-dataelement-20640",
           "implementation": [
            {
             "shortName": "hoeveelheid_bloedverlies"
            }
           ],
           "inherit": [
            {
             "datasetEffectiveDate": "2013-09-10T00:00:00",
             "datasetId": "2.16.840.1.113883.2.4.3.11.60.90.77.1.5",
             "datasetStatusCode": "final",
             "effectiveDate": "2013-09-10T00:00:00",
             "iEffectiveDate": "2013-09-10T00:00:00",
             "iStatusCode": "final",
             "iType": "item",
             "prefix": "peri20-",
             "ref": "2.16.840.1.113883.2.4.3.11.60.90.77.2.5.20640",
             "refdisplay": "peri22-dataelement-20640"
            }
           ],
           "isMandatory": "false",
           "maximumMultiplicity": "1",
           "minimumMultiplicity": "0",
           "name": [
            {
             "content": "Hoeveelheid bloedverlies",
             "language": "nl-NL"
            }
           ],
           "shortName": "hoeveelheid_bloedverlies",
           "statusCode": "final",
           "terminologyAssociation": [
            {
             "code": "364332008",
             "codeSystem": "2.16.840.1.113883.6.96",
             "codeSystemName": "SNOMED CT",
             "conceptId": "2.16.840.1.113883.2.4.3.11.60.90.77.2.5.20640",
             "displayName": "Blood loss in labour",
             "effectiveDate": "2014-11-17T17:47:34"
            }
           ],
           "type": "item",
           "valueDomain": [
            {
             "property": [
              {
               "fractionDigits": "0!",
               "unit": "ml"
              }
             ],
             "type": "quantity"
            }
           ]
          },
          {
           "community": [
            {
             "data": [
              {
               "content": "5.7.04",
               "datatype": "text",
               "label": "PRN dataset 1.3 mapping",
               "type": "prn13mapping"
              },
              {
               "content": "Waardenset lijkt niet geheel te matchen. Harmonisatie gewenst om te voorkomen dat hier twee items voor ontstaan.  2.16.840.1.113883.2.4.11.27&#160;&#160;&#160; &#160;&#160;&#160; A&#160;&#160;&#160; gaaf 2.16.840.1.113883.2.4.11.27&#160;&#160;&#160; &#160;&#160;&#160; B&#160;&#160;&#160; 1e graads perineumruptuur 2.16.840.1.113883.2.4.11.27&#160;&#160;&#160; &#160;&#160;&#160; C&#160;&#160;&#160; 2e graads perineumruptuur 2.16.840.1.113883.2.4.11.27&#160;&#160;&#160; &#160;&#160;&#160; D&#160;&#160;&#160; 3e graads ruptuur (sfincterlaesie, rectumslijmvlies intact) 2.16.840.1.113883.2.4.11.27&#160;&#160;&#160; &#160;&#160;&#160; E&#160;&#160;&#160; 4e graads ruptuur (sfincterlaesie en rectumslijmvlieslaesie) 2.16.840.1.113883.2.4.11.27&#160;&#160;&#160; &#160;&#160;&#160; F&#160;&#160;&#160; episiotomiewond 2.16.840.1.113883.2.4.11.27&#160;&#160;&#160; &#160;&#160;&#160; G&#160;&#160;&#160; episiotomie anterior ivm vrouwelijke genitale verminking (VGV) 2.16.840.1.113883.2.4.11.27&#160;&#160;&#160; &#160;&#160;&#160; H&#160;&#160;&#160; clitoris en/of labia minora gedeeltelijk of geheel\n                afwezig tgv vrouwelijke genitale verminking (VGV) 2.16.840.1.113883.2.4.11.27&#160;&#160;&#160; &#160;&#160;&#160; OTH&#160;&#160;&#160; anders  2.16.840.1.113883.2.4.11.27&#160;&#160;&#160; &#160;&#160;&#160; UNK&#160;&#160;&#160; onbekend ",
               "datatype": "text",
               "label": "PRN dataset 1.3 bijzonderheden",
               "type": "prn13bijzonderheden"
              },
              {
               "content": "item 30040&#160;  codeCode PRN5704",
               "datatype": "text",
               "label": "PRN dataset 1.3 mapping HL7",
               "type": "prn13HL7"
              }
             ],
             "name": "prn"
            },
            {
             "data": [
              {
               "content": "yes",
               "datatype": "enum",
               "label": "Generate profile?",
               "type": "generate-profile"
              },
              {
               "content": "bc-StatePerineumPostpartum",
               "datatype": "string",
               "label": "FHIR profile name",
               "type": "translation"
              },
              {
               "content": "bc-DeliveryProcedure.xml",
               "datatype": "enum",
               "label": "Focus of Observation",
               "type": "observation-focus"
              }
             ],
             "name": "fhirmapping"
            }
           ],
           "conformance": "R",
           "desc": [
            {
             "content": "Conditie perineum postpartum. Het gaat hier om de conditie aan het einde van de bevalling/partus.",
             "language": "nl-NL"
            }
           ],
           "effectiveDate": "2016-09-08T00:00:00",
           "id": "2.16.840.1.113883.2.4.3.11.60.90.77.2.6.80673",
           "iddisplay": "peri23-dataelement-80673",
           "implementation": [
            {
             "shortName": "conditie_perineum_postpartum"
            }
           ],
           "inherit": [
            {
             "datasetEffectiveDate": "2013-09-10T00:00:00",
             "datasetId": "2.16.840.1.113883.2.4.3.11.60.90.77.1.5",
             "datasetStatusCode": "final",
             "effectiveDate": "2013-09-10T00:00:00",
             "iEffectiveDate": "2013-09-10T00:00:00",
             "iStatusCode": "final",
             "iType": "item",
             "prefix": "peri20-",
             "ref": "2.16.840.1.113883.2.4.3.11.60.90.77.2.5.80673",
             "refdisplay": "peri22-dataelement-80673"
            }
           ],
           "isMandatory": "false",
           "maximumMultiplicity": "1",
           "minimumMultiplicity": "0",
           "name": [
            {
             "content": "Conditie perineum postpartum",
             "language": "nl-NL"
            }
           ],
           "shortName": "conditie_perineum_postpartum",
           "statusCode": "final",
           "terminologyAssociation": [
            {
             "conceptId": "2.16.840.1.113883.2.4.3.11.60.90.77.8.5.80673.0",
             "effectiveDate": "2016-08-30T11:34:38",
             "flexibility": "2014-01-22T11:04:47",
             "valueSet": "2.16.840.1.113883.2.4.11.192"
            },
            {
             "code": "UNK",
             "codeSystem": "2.16.840.1.113883.5.1008",
             "codeSystemName": "NullFlavor",
             "conceptId": "2.16.840.1.113883.2.4.3.11.60.90.77.8.5.80673.8",
             "displayName": "unknown"
            },
            {
             "code": "OTH",
             "codeSystem": "2.16.840.1.113883.5.1008",
             "codeSystemName": "NullFlavor",
             "conceptId": "2.16.840.1.113883.2.4.3.11.60.90.77.8.5.80673.7",
             "displayName": "anders"
            },
            {
             "code": "289854007",
             "codeSystem": "2.16.840.1.113883.6.96",
             "codeSystemName": "SNOMED CT",
             "conceptId": "2.16.840.1.113883.2.4.3.11.60.90.77.8.5.80673.1",
             "displayName": "Perineum intact (finding)"
            },
            {
             "code": "364297003",
             "codeSystem": "2.16.840.1.113883.6.96",
             "codeSystemName": "SNOMED CT",
             "conceptId": "2.16.840.1.113883.2.4.3.11.60.90.77.2.5.80673",
             "displayName": "Female perineum observable (observable entity)",
             "effectiveDate": "2014-10-20T19:18:05"
            },
            {
             "code": "609344008",
             "codeSystem": "2.16.840.1.113883.6.96",
             "codeSystemName": "SNOMED CT",
             "conceptId": "2.16.840.1.113883.2.4.3.11.60.90.77.8.5.80673.6",
             "displayName": "Episiotomy wound (morphologic abnormality)"
            },
            {
             "code": "199934009",
             "codeSystem": "2.16.840.1.113883.6.96",
             "codeSystemName": "SNOMED CT",
             "conceptId": "2.16.840.1.113883.2.4.3.11.60.90.77.8.5.80673.5",
             "displayName": "Fourth degree perineal tear during delivery - delivered (disorder)"
            },
            {
             "code": "449809008",
             "codeSystem": "2.16.840.1.113883.6.96",
             "codeSystemName": "SNOMED CT",
             "conceptId": "2.16.840.1.113883.2.4.3.11.60.90.77.8.5.80673.43",
             "displayName": "Type 3c third degree laceration of perineum (disorder)"
            },
            {
             "code": "449808000",
             "codeSystem": "2.16.840.1.113883.6.96",
             "codeSystemName": "SNOMED CT",
             "conceptId": "2.16.840.1.113883.2.4.3.11.60.90.77.8.5.80673.42",
             "displayName": "Type 3b third degree laceration of perineum (disorder)"
            },
            {
             "code": "449807005",
             "codeSystem": "2.16.840.1.113883.6.96",
             "codeSystemName": "SNOMED CT",
             "conceptId": "2.16.840.1.113883.2.4.3.11.60.90.77.8.5.80673.41",
             "displayName": "Type 3a third degree laceration of perineum (disorder)"
            },
            {
             "code": "199930000",
             "codeSystem": "2.16.840.1.113883.6.96",
             "codeSystemName": "SNOMED CT",
             "conceptId": "2.16.840.1.113883.2.4.3.11.60.90.77.8.5.80673.4",
             "displayName": "Third degree perineal tear during delivery - delivered (disorder)"
            },
            {
             "code": "199925004",
             "codeSystem": "2.16.840.1.113883.6.96",
             "codeSystemName": "SNOMED CT",
             "conceptId": "2.16.840.1.113883.2.4.3.11.60.90.77.8.5.80673.3",
             "displayName": "Second degree perineal tear during delivery - delivered (disorder)"
            },
            {
             "code": "199916005",
             "codeSystem": "2.16.840.1.113883.6.96",
             "codeSystemName": "SNOMED CT",
             "conceptId": "2.16.840.1.113883.2.4.3.11.60.90.77.8.5.80673.2",
             "displayName": "First degree perineal tear during delivery - delivered (disorder)"
            }
           ],
           "type": "item",
           "valueDomain": [
            {
             "conceptList": [
              {
               "concept": [
                {
                 "desc": [
                  {
                   "language": "nl-NL"
                  }
                 ],
                 "exception": "false",
                 "id": "2.16.840.1.113883.2.4.3.11.60.90.77.8.5.80673.1",
                 "name": [
                  {
                   "content": "Gaaf",
                   "language": "nl-NL"
                  }
                 ]
                },
                {
                 "desc": [
                  {
                   "content": "Alleen beschadiging aan de huid.",
                   "language": "nl-NL"
                  }
                 ],
                 "exception": "false",
                 "id": "2.16.840.1.113883.2.4.3.11.60.90.77.8.5.80673.2",
                 "name": [
                  {
                   "content": "1e graads perineumruptuur",
                   "language": "nl-NL"
                  }
                 ]
                },
                {
                 "desc": [
                  {
                   "content": "Beschadiging van het perineum en de perineale spieren, maar niet van de anale sfincter.",
                   "language": "nl-NL"
                  }
                 ],
                 "exception": "false",
                 "id": "2.16.840.1.113883.2.4.3.11.60.90.77.8.5.80673.3",
                 "name": [
                  {
                   "content": "2e graads perineumruptuur",
                   "language": "nl-NL"
                  }
                 ]
                },
                {
                 "desc": [
                  {
                   "content": "Beschadiging van het perineum en van de anale sfincter.",
                   "language": "nl-NL"
                  }
                 ],
                 "exception": "false",
                 "id": "2.16.840.1.113883.2.4.3.11.60.90.77.8.5.80673.4",
                 "name": [
                  {
                   "content": "3e graads ruptuur",
                   "language": "nl-NL"
                  }
                 ]
                },
                {
                 "desc": [
                  {
                   "content": "Minder dan 50% van de externe sfincter diameter is beschadigd.",
                   "language": "nl-NL"
                  }
                 ],
                 "exception": "false",
                 "id": "2.16.840.1.113883.2.4.3.11.60.90.77.8.5.80673.41",
                 "name": [
                  {
                   "content": "3a - sfincterlaesie externum &lt; 50%",
                   "language": "nl-NL"
                  }
                 ]
                },
                {
                 "desc": [
                  {
                   "content": "Meer dan 50% van de externe sfincter diameter is beschadigd.",
                   "language": "nl-NL"
                  }
                 ],
                 "exception": "false",
                 "id": "2.16.840.1.113883.2.4.3.11.60.90.77.8.5.80673.42",
                 "name": [
                  {
                   "content": "3b - sfincterlaesie externum ≥ 50%",
                   "language": "nl-NL"
                  }
                 ]
                },
                {
                 "desc": [
                  {
                   "content": "Naast de externe sfincter is ook de interne sfincter beschadigd.",
                   "language": "nl-NL"
                  }
                 ],
                 "exception": "false",
                 "id": "2.16.840.1.113883.2.4.3.11.60.90.77.8.5.80673.43",
                 "name": [
                  {
                   "content": "3c - sfincterlaesie externum en internum",
                   "language": "nl-NL"
                  }
                 ]
                },
                {
                 "desc": [
                  {
                   "content": "Beschadiging van het perineum, de externe en interne sfincter en het rectum slijmvlies",
                   "language": "nl-NL"
                  }
                 ],
                 "exception": "false",
                 "id": "2.16.840.1.113883.2.4.3.11.60.90.77.8.5.80673.5",
                 "name": [
                  {
                   "content": "4e graads ruptuur",
                   "language": "nl-NL"
                  }
                 ]
                },
                {
                 "desc": [
                  {
                   "language": "nl-NL"
                  }
                 ],
                 "exception": "false",
                 "id": "2.16.840.1.113883.2.4.3.11.60.90.77.8.5.80673.6",
                 "name": [
                  {
                   "content": "Episiotomiewond",
                   "language": "nl-NL"
                  }
                 ]
                },
                {
                 "desc": [
                  {
                   "language": "nl-NL"
                  }
                 ],
                 "exception": "true",
                 "id": "2.16.840.1.113883.2.4.3.11.60.90.77.8.5.80673.7",
                 "name": [
                  {
                   "content": "Anders",
                   "language": "nl-NL"
                  }
                 ]
                },
                {
                 "desc": [
                  {
                   "language": "nl-NL"
                  }
                 ],
                 "exception": "true",
                 "id": "2.16.840.1.113883.2.4.3.11.60.90.77.8.5.80673.8",
                 "name": [
                  {
                   "content": "Onbekend",
                   "language": "nl-NL"
                  }
                 ]
                }
               ],
               "id": "2.16.840.1.113883.2.4.3.11.60.90.77.8.5.80673.0"
              }
             ],
             "type": "code"
            }
           ],
           "valueSet": [
            {
             "conceptList": [
              {
               "concept": [
                {
                 "code": "289854007",
                 "codeSystem": "2.16.840.1.113883.6.96",
                 "displayName": "Perineum intact  (finding)",
                 "level": "0",
                 "localId": "1",
                 "name": [
                  {
                   "content": "Gaaf",
                   "language": "nl-NL"
                  }
                 ],
                 "type": "L"
                },
                {
                 "code": "199916005",
                 "codeSystem": "2.16.840.1.113883.6.96",
                 "displayName": "First degree perineal tear during delivery - delivered (disorder)",
                 "level": "0",
                 "localId": "2",
                 "name": [
                  {
                   "content": "1e graads perineumruptuur",
                   "language": "nl-NL"
                  }
                 ],
                 "type": "L"
                },
                {
                 "code": "199925004",
                 "codeSystem": "2.16.840.1.113883.6.96",
                 "displayName": "Second degree perineal tear during delivery - delivered  (disorder)",
                 "level": "0",
                 "localId": "3",
                 "name": [
                  {
                   "content": "2e graads perineumruptuur",
                   "language": "nl-NL"
                  }
                 ],
                 "type": "L"
                },
                {
                 "code": "199930000",
                 "codeSystem": "2.16.840.1.113883.6.96",
                 "displayName": "Third degree perineal tear during delivery - delivered  (disorder)",
                 "level": "0",
                 "localId": "4",
                 "name": [
                  {
                   "content": "3e graads ruptuur",
                   "language": "nl-NL"
                  }
                 ],
                 "type": "L"
                },
                {
                 "code": "449807005",
                 "codeSystem": "2.16.840.1.113883.6.96",
                 "displayName": "Type 3a third degree laceration of perineum  (disorder)",
                 "level": "1",
                 "localId": "5",
                 "name": [
                  {
                   "content": "3a - sfincterlaesie externum &lt; 50%",
                   "language": "nl-NL"
                  }
                 ],
                 "type": "L"
                },
                {
                 "code": "449808000",
                 "codeSystem": "2.16.840.1.113883.6.96",
                 "displayName": "Type 3b third degree laceration of perineum (disorder)",
                 "level": "1",
                 "localId": "6",
                 "name": [
                  {
                   "content": "3b - sfincterlaesie externum ≥ 50%",
                   "language": "nl-NL"
                  }
                 ],
                 "type": "L"
                },
                {
                 "code": "449809008",
                 "codeSystem": "2.16.840.1.113883.6.96",
                 "displayName": "Type 3c third degree laceration of perineum (disorder)",
                 "level": "1",
                 "localId": "7",
                 "name": [
                  {
                   "content": "3c - sfincterlaesie externum en internum",
                   "language": "nl-NL"
                  }
                 ],
                 "type": "L"
                },
                {
                 "code": "199934009",
                 "codeSystem": "2.16.840.1.113883.6.96",
                 "displayName": "Fourth degree perineal tear during delivery - delivered  (disorder)",
                 "level": "0",
                 "localId": "8",
                 "name": [
                  {
                   "content": "4e graads ruptuur",
                   "language": "nl-NL"
                  }
                 ],
                 "type": "L"
                },
                {
                 "code": "609344008",
                 "codeSystem": "2.16.840.1.113883.6.96",
                 "displayName": "Episiotomy wound  (morphologic abnormality)",
                 "level": "0",
                 "localId": "9",
                 "name": [
                  {
                   "content": "Episiotomiewond",
                   "language": "nl-NL"
                  }
                 ],
                 "type": "L"
                }
               ],
               "exception": [
                {
                 "code": "OTH",
                 "codeSystem": "2.16.840.1.113883.5.1008",
                 "displayName": "Anders",
                 "level": "0",
                 "localId": "10",
                 "name": [
                  {
                   "content": "Anders",
                   "language": "nl-NL"
                  }
                 ],
                 "type": "L"
                },
                {
                 "code": "UNK",
                 "codeSystem": "2.16.840.1.113883.5.1008",
                 "displayName": "Onbekend",
                 "level": "0",
                 "localId": "11",
                 "name": [
                  {
                   "content": "Onbekend",
                   "language": "nl-NL"
                  }
                 ],
                 "type": "L"
                },
                {
                 "code": "NI",
                 "codeSystem": "2.16.840.1.113883.5.1008",
                 "displayName": "Geen informatie",
                 "level": "0",
                 "localId": "12",
                 "name": [
                  {
                   "content": "Geen informatie",
                   "language": "nl-NL"
                  }
                 ],
                 "type": "L"
                }
               ],
               "id": "2.16.840.1.113883.2.4.3.11.60.90.77.8.5.80673.0"
              }
             ],
             "copyright": [
              {
               "content": "This artefact includes content from SNOMED Clinical Terms® (SNOMED CT®) which is copyright of the International Health Terminology Standards Development Organisation (IHTSDO). Implementers of these artefacts must have the appropriate SNOMED CT Affiliate license - for more information contact http://www.snomed.org/snomed-ct/getsnomed-ct or info@snomed.org.",
               "language": "en-US"
              }
             ],
             "displayName": "Conditie perineum (2.2)",
             "effectiveDate": "2014-01-22T11:04:47",
             "id": "2.16.840.1.113883.2.4.11.192",
             "name": "Conditieperineum22",
             "publishingAuthority": [
              {
               "addrLine": [
                {
                 "content": "Koninklijke Nederlandse Organisatie van Verloskundigen"
                },
                {
                 "content": "Mercatorlaan 1200"
                },
                {
                 "content": "3528 BL Utrecht"
                },
                {
                 "content": "T 030 282 31 00"
                }
               ],
               "name": "KNOV"
              }
             ],
             "sourceCodeSystem": [
              {
               "canonicalUri": "urn:oid:2.16.840.1.113883.6.96",
               "canonicalUriDSTU2": "urn:oid:2.16.840.1.113883.6.96",
               "canonicalUriR4": "urn:oid:2.16.840.1.113883.6.96",
               "canonicalUriSTU3": "urn:oid:2.16.840.1.113883.6.96",
               "id": "2.16.840.1.113883.6.96",
               "identifierName": "SNOMED&#160;CT"
              },
              {
               "canonicalUri": "urn:oid:2.16.840.1.113883.5.1008",
               "canonicalUriDSTU2": "urn:oid:2.16.840.1.113883.5.1008",
               "canonicalUriR4": "urn:oid:2.16.840.1.113883.5.1008",
               "canonicalUriSTU3": "urn:oid:2.16.840.1.113883.5.1008",
               "id": "2.16.840.1.113883.5.1008",
               "identifierName": "NullFlavor"
              }
             ],
             "statusCode": "final",
             "terminologyAssociation": [
              {
               "conceptId": "2.16.840.1.113883.2.4.3.11.60.90.77.8.5.80673.0",
               "effectiveDate": "2016-08-30T11:34:38",
               "flexibility": "2014-01-22T11:04:47",
               "valueSet": "2.16.840.1.113883.2.4.11.192"
              }
             ]
            }
           ]
          }
         ],
         "conformance": "R",
         "desc": [
          {
           "content": "Gegevens over de partus",
           "language": "nl-NL"
          }
         ],
         "effectiveDate": "2016-09-08T00:00:00",
         "id": "2.16.840.1.113883.2.4.3.11.60.90.77.2.6.6",
         "iddisplay": "peri23-dataelement-6",
         "implementation": [
          {
           "shortName": "bevalling"
          }
         ],
         "isMandatory": "false",
         "maximumMultiplicity": "1",
         "minimumMultiplicity": "0",
         "name": [
          {
           "content": "Bevalling",
           "language": "nl-NL"
          }
         ],
         "relationship": [
          {
           "datasetEffectiveDate": "2013-09-10T00:00:00",
           "datasetId": "2.16.840.1.113883.2.4.3.11.60.90.77.1.5",
           "datasetStatusCode": "final",
           "flexibility": "2013-09-10T00:00:00",
           "iEffectiveDate": "2013-09-10T00:00:00",
           "iStatusCode": "final",
           "iType": "group",
           "iVersionLabel": "22",
           "name": [
            {
             "content": "Bevalling",
             "language": "nl-NL"
            }
           ],
           "prefix": "peri20-",
           "ref": "2.16.840.1.113883.2.4.3.11.60.90.77.2.5.6",
           "refdisplay": "peri22-dataelement-6",
           "type": "SPEC"
          }
         ],
         "shortName": "bevalling",
         "statusCode": "draft",
         "terminologyAssociation": [
          {
           "code": "236973005",
           "codeSystem": "2.16.840.1.113883.6.96",
           "codeSystemName": "SNOMED CT",
           "conceptId": "2.16.840.1.113883.2.4.3.11.60.90.77.2.6.6",
           "displayName": "Delivery procedure (procedure)",
           "effectiveDate": "2016-11-06T16:07:42"
          }
         ],
         "type": "group"
        },
        {
         "community": [
          {
           "data": [
            {
             "content": "Deze rubriek bevat voor PRN aanlevering relevante data elementen. Er is geen rechtstreekse mapping van de rubriek naar een PRN data element. ",
             "datatype": "text",
             "label": "PRN dataset 1.3 info",
             "type": "prn13info"
            }
           ],
           "name": "prn"
          }
         ],
         "concept": [
          {
           "community": [
            {
             "data": [
              {
               "content": "Was voorheen 30010, zie oplossing bij 20260. Dit is niet naar een specifiek PRN data element te mappen. De gegevens uit deze rubriek zijn wel relevant voor PRN. ",
               "datatype": "text",
               "label": "PRN dataset 1.3 info",
               "type": "prn13info"
              }
             ],
             "name": "prn"
            }
           ],
           "concept": [
            {
             "community": [
              {
               "data": [
                {
                 "content": "Deze rubriek bevat voor PRN aanlevering relevante data elementen. Er is geen rechtstreekse mapping van de rubriek naar een PRN data element. ",
                 "datatype": "text",
                 "label": "PRN dataset 1.3 info",
                 "type": "prn13info"
                }
               ],
               "name": "prn"
              }
             ],
             "concept": [
              {
               "community": [
                {
                 "data": [
                  {
                   "content": "1.3.05 (datum)",
                   "datatype": "text",
                   "label": "PRN dataset 1.3 mapping",
                   "type": "prn13mapping"
                  },
                  {
                   "content": "1.3.06 (tijdstip)",
                   "datatype": "text",
                   "label": "PRN dataset 1.3 mapping",
                   "type": "prn13mapping"
                  },
                  {
                   "content": "I: Geboortedatum kind in HL7 / ISO notatie yyyymmddhhmm",
                   "datatype": "text",
                   "label": "PRN dataset 1.3 info",
                   "type": "prn13info"
                  }
                 ],
                 "name": "prn"
                }
               ],
               "conformance": "R",
               "desc": [
                {
                 "content": "Moment van geboorte. Datum en (zo mogelijk) tijd",
                 "language": "nl-NL"
                }
               ],
               "effectiveDate": "2016-09-08T00:00:00",
               "id": "2.16.840.1.113883.2.4.3.11.60.90.77.2.6.40050",
               "iddisplay": "peri23-dataelement-40050",
               "implementation": [
                {
                 "shortName": "geboortedatum"
                }
               ],
               "inherit": [
                {
                 "datasetEffectiveDate": "2012-08-06T00:00:00",
                 "datasetId": "2.16.840.1.113883.2.4.3.11.60.90.77.1.4",
                 "datasetStatusCode": "final",
                 "effectiveDate": "2012-08-06T00:00:00",
                 "iEffectiveDate": "2012-08-06T00:00:00",
                 "iStatusCode": "final",
                 "iType": "item",
                 "prefix": "peri20-",
                 "ref": "2.16.840.1.113883.2.4.3.11.60.90.77.2.4.18265",
                 "refdisplay": "peri21-dataelement-18265"
                }
               ],
               "isMandatory": "false",
               "maximumMultiplicity": "1",
               "minimumMultiplicity": "0",
               "name": [
                {
                 "content": "Geboortedatum",
                 "language": "nl-NL"
                }
               ],
               "shortName": "geboortedatum",
               "statusCode": "final",
               "terminologyAssociation": [
                {
                 "code": "21112-8",
                 "codeSystem": "2.16.840.1.113883.6.1",
                 "codeSystemName": "LOINC",
                 "conceptFlexibility": "2012-08-06T00:00:00",
                 "conceptId": "2.16.840.1.113883.2.4.3.11.60.90.77.2.4.18265",
                 "displayName": "Birth date",
                 "effectiveDate": "2019-07-12T15:10:11"
                }
               ],
               "type": "item",
               "valueDomain": [
                {
                 "property": [
                  {
                   "timeStampPrecision": "YMD"
                  }
                 ],
                 "type": "datetime"
                }
               ]
              }
             ],
             "conformance": "R",
             "desc": [
              {
               "content": "Demografische gegevens",
               "language": "nl-NL"
              }
             ],
             "effectiveDate": "2016-09-08T00:00:00",
             "id": "2.16.840.1.113883.2.4.3.11.60.90.77.2.6.40006",
             "iddisplay": "peri23-dataelement-40006",
             "implementation": [
              {
               "shortName": "demografische_gegevens"
              }
             ],
             "isMandatory": "false",
             "maximumMultiplicity": "1",
             "minimumMultiplicity": "0",
             "name": [
              {
               "content": "Demografische gegevens",
               "language": "nl-NL"
              }
             ],
             "relationship": [
              {
               "datasetEffectiveDate": "2013-09-10T00:00:00",
               "datasetId": "2.16.840.1.113883.2.4.3.11.60.90.77.1.5",
               "datasetStatusCode": "final",
               "flexibility": "2013-09-10T00:00:00",
               "iEffectiveDate": "2013-09-10T00:00:00",
               "iStatusCode": "final",
               "iType": "group",
               "iVersionLabel": "22",
               "name": [
                {
                 "content": "Demografische gegevens",
                 "language": "nl-NL"
                }
               ],
               "prefix": "peri20-",
               "ref": "2.16.840.1.113883.2.4.3.11.60.90.77.2.5.40006",
               "refdisplay": "peri22-dataelement-40006",
               "type": "SPEC"
              }
             ],
             "shortName": "demografische_gegevens",
             "statusCode": "draft",
             "type": "group"
            },
            {
             "community": [
              {
               "data": [
                {
                 "content": "Deze rubriek bevat voor PRN aanlevering relevante data elementen. Er is geen rechtstreekse mapping van de rubriek naar een PRN data element. ",
                 "datatype": "text",
                 "label": "PRN dataset 1.3 info",
                 "type": "prn13info"
                }
               ],
               "name": "prn"
              }
             ],
             "concept": [
              {
               "community": [
                {
                 "data": [
                  {
                   "content": " 5.3.04.01",
                   "datatype": "text",
                   "label": "PRN dataset 1.3 mapping",
                   "type": "prn13mapping"
                  },
                  {
                   "content": " 5.3.04.02",
                   "datatype": "text",
                   "label": "PRN dataset 1.3 mapping",
                   "type": "prn13mapping"
                  },
                  {
                   "content": "ddmmjjjj en 31-12-1900=n.v.t. (wegens geplande sectio) Uur, minuten en 88,88=n.v.t. (wegens geplande sectio)",
                   "datatype": "text",
                   "label": "PRN dataset 1.3 info",
                   "type": "prn13info"
                  }
                 ],
                 "name": "prn"
                },
                {
                 "data": [
                  {
                   "content": "yes",
                   "datatype": "enum",
                   "label": "Generate profile?",
                   "type": "generate-profile"
                  },
                  {
                   "content": "bc-OnsetOfPushing",
                   "datatype": "string",
                   "label": "FHIR profile name",
                   "type": "translation"
                  }
                 ],
                 "name": "fhirmapping"
                }
               ],
               "conformance": "R",
               "desc": [
                {
                 "content": "Tijdstip actief meepersen",
                 "language": "nl-NL"
                }
               ],
               "effectiveDate": "2016-09-08T00:00:00",
               "id": "2.16.840.1.113883.2.4.3.11.60.90.77.2.6.30030",
               "iddisplay": "peri23-dataelement-30030",
               "implementation": [
                {
                 "shortName": "tijdstip_actief_meepersen"
                }
               ],
               "inherit": [
                {
                 "datasetEffectiveDate": "2012-01-01T00:00:00",
                 "datasetId": "2.16.840.1.113883.2.4.3.11.60.90.77.1.3",
                 "datasetStatusCode": "deprecated",
                 "effectiveDate": "2012-01-01T00:00:00",
                 "iEffectiveDate": "2012-01-01T00:00:00",
                 "iStatusCode": "final",
                 "iType": "item",
                 "prefix": "peri20-",
                 "ref": "2.16.840.1.113883.2.4.3.11.60.90.77.2.3.30030",
                 "refdisplay": "peri20-dataelement-30030"
                }
               ],
               "isMandatory": "false",
               "maximumMultiplicity": "1",
               "minimumMultiplicity": "0",
               "name": [
                {
                 "content": "Tijdstip actief meepersen",
                 "language": "nl-NL"
                }
               ],
               "shortName": "tijdstip_actief_meepersen",
               "statusCode": "final",
               "terminologyAssociation": [
                {
                 "code": "PRN530401",
                 "codeSystem": "2.16.840.1.113883.2.4.3.22.1.1",
                 "codeSystemName": "PerinatologyObservationsPRN",
                 "conceptId": "2.16.840.1.113883.2.4.3.11.60.90.77.2.3.30030",
                 "displayName": "Tijdstip actief meepersen",
                 "effectiveDate": "2014-10-20T19:30:49"
                }
               ],
               "type": "item",
               "valueDomain": [
                {
                 "property": [
                  {
                   "timeStampPrecision": "YMDHM"
                  }
                 ],
                 "type": "datetime"
                }
               ]
              }
             ],
             "conformance": "R",
             "desc": [
              {
               "content": "Kindspecifieke maternale gegevens",
               "language": "nl-NL"
              }
             ],
             "effectiveDate": "2016-09-08T00:00:00",
             "id": "2.16.840.1.113883.2.4.3.11.60.90.77.2.6.71",
             "iddisplay": "peri23-dataelement-71",
             "implementation": [
              {
               "shortName": "kindspecifieke_maternale_gegevens"
              }
             ],
             "isMandatory": "false",
             "maximumMultiplicity": "1",
             "minimumMultiplicity": "0",
             "name": [
              {
               "content": "Kindspecifieke maternale gegevens",
               "language": "nl-NL"
              }
             ],
             "relationship": [
              {
               "datasetEffectiveDate": "2013-09-10T00:00:00",
               "datasetId": "2.16.840.1.113883.2.4.3.11.60.90.77.1.5",
               "datasetStatusCode": "final",
               "flexibility": "2013-09-10T00:00:00",
               "iEffectiveDate": "2013-09-10T00:00:00",
               "iStatusCode": "final",
               "iType": "group",
               "iVersionLabel": "22",
               "name": [
                {
                 "content": "Kindspecifieke maternale gegevens",
                 "language": "nl-NL"
                }
               ],
               "prefix": "peri20-",
               "ref": "2.16.840.1.113883.2.4.3.11.60.90.77.2.5.71",
               "refdisplay": "peri22-dataelement-71",
               "type": "SPEC"
              }
             ],
             "shortName": "kindspecifieke_maternale_gegevens",
             "statusCode": "draft",
             "type": "group"
            },
            {
             "community": [
              {
               "data": [
                {
                 "content": "Deze rubriek bevat voor PRN aanlevering relevante data elementen. Er is geen rechtstreekse mapping van de rubriek naar een PRN data element. ",
                 "datatype": "text",
                 "label": "PRN dataset 1.3 info",
                 "type": "prn13info"
                }
               ],
               "name": "prn"
              }
             ],
             "concept": [
              {
               "community": [
                {
                 "data": [
                  {
                   "content": "yes",
                   "datatype": "enum",
                   "label": "Generate profile?",
                   "type": "generate-profile"
                  },
                  {
                   "content": "bc-ParturitionType",
                   "datatype": "string",
                   "label": "FHIR profile name",
                   "type": "translation"
                  },
                  {
                   "content": "bc-Delivery-StageOfLabor",
                   "datatype": "enum",
                   "label": "Focus of Observation",
                   "type": "observation-focus"
                  },
                  {
                   "content": "yes",
                   "datatype": "enum",
                   "label": "Focus is child?",
                   "type": "focus-child"
                  }
                 ],
                 "name": "fhirmapping"
                }
               ],
               "conformance": "R",
               "desc": [
                {
                 "content": "Type partus. Een primaire sectio is een geplande sectio en wordt óók als zodanig geregistreerd als deze uitgevoerd wordt wanneer de weeën al zijn begonnen, de vliezen zijn gebroken en/of de uitdrijving is begonnen. TOP (Termination of Pregnancy) is zwangerschapsafbreking na 16 weken. Dit in tegenstelling tot APLA, waarmee een zwangerschapsafbreking (abortus) van minder dan 16 weken wordt bedoeld.",
                 "language": "nl-NL"
                }
               ],
               "effectiveDate": "2016-09-08T00:00:00",
               "id": "2.16.840.1.113883.2.4.3.11.60.90.77.2.6.80626",
               "iddisplay": "peri23-dataelement-80626",
               "implementation": [
                {
                 "shortName": "type_partus"
                }
               ],
               "isMandatory": "false",
               "maximumMultiplicity": "1",
               "minimumMultiplicity": "0",
               "name": [
                {
                 "content": "Type partus",
                 "language": "nl-NL"
                }
               ],
               "relationship": [
                {
                 "datasetEffectiveDate": "2013-09-10T00:00:00",
                 "datasetId": "2.16.840.1.113883.2.4.3.11.60.90.77.1.5",
                 "datasetStatusCode": "final",
                 "flexibility": "2013-09-10T00:00:00",
                 "iEffectiveDate": "2013-09-10T00:00:00",
                 "iStatusCode": "final",
                 "iType": "item",
                 "name": [
                  {
                   "content": "Type partus",
                   "language": "nl-NL"
                  }
                 ],
                 "prefix": "peri20-",
                 "ref": "2.16.840.1.113883.2.4.3.11.60.90.77.2.5.80626",
                 "refdisplay": "peri22-dataelement-80626",
                 "type": "SPEC"
                }
               ],
               "shortName": "type_partus",
               "statusCode": "final",
               "terminologyAssociation": [
                {
                 "conceptId": "2.16.840.1.113883.2.4.3.11.60.90.77.2.6.80626.10",
                 "effectiveDate": "2016-11-22T14:11:47",
                 "flexibility": "2016-11-22T14:00:45",
                 "valueSet": "2.16.840.1.113883.2.4.11.182"
                },
                {
                 "code": "10",
                 "codeSystem": "2.16.840.1.113883.2.4.4.14",
                 "codeSystemName": "Perinatologische procedurecodes",
                 "conceptId": "2.16.840.1.113883.2.4.3.11.60.90.77.2.6.80626.6",
                 "displayName": "Termination of Pregnancy (TOP)",
                 "effectiveDate": "2016-11-22T14:20:40"
                },
                {
                 "code": "9",
                 "codeSystem": "2.16.840.1.113883.2.4.4.14.10",
                 "codeSystemName": "TerminationOfPregnancy",
                 "conceptId": "2.16.840.1.113883.2.4.3.11.60.90.77.2.6.80626.13",
                 "displayName": "Overig",
                 "effectiveDate": "2016-11-22T14:10:39"
                },
                {
                 "code": "364336006",
                 "codeSystem": "2.16.840.1.113883.6.96",
                 "codeSystemName": "SNOMED CT",
                 "conceptId": "2.16.840.1.113883.2.4.3.11.60.90.77.2.6.80626",
                 "displayName": "Pattern of delivery (observable entity)",
                 "effectiveDate": "2016-11-22T13:54:36"
                },
                {
                 "code": "447972007",
                 "codeSystem": "2.16.840.1.113883.6.96",
                 "codeSystemName": "SNOMED CT",
                 "conceptId": "2.16.840.1.113883.2.4.3.11.60.90.77.2.6.80626.11",
                 "displayName": "Medical termination of pregnancy using prostaglandin (procedure)",
                 "effectiveDate": "2016-11-22T14:10:24"
                },
                {
                 "code": "236990004",
                 "codeSystem": "2.16.840.1.113883.6.96",
                 "codeSystemName": "SNOMED CT",
                 "conceptId": "2.16.840.1.113883.2.4.3.11.60.90.77.2.6.80626.12",
                 "displayName": "Postmortem cesarean section (procedure)",
                 "effectiveDate": "2016-11-22T14:10:32"
                },
                {
                 "code": "177184002",
                 "codeSystem": "2.16.840.1.113883.6.96",
                 "codeSystemName": "SNOMED CT",
                 "conceptId": "2.16.840.1.113883.2.4.3.11.60.90.77.2.6.80626.1",
                 "displayName": "Normal delivery procedure (procedure)",
                 "effectiveDate": "2016-11-22T14:19:56"
                },
                {
                 "code": "3311000146109",
                 "codeSystem": "2.16.840.1.113883.6.96",
                 "codeSystemName": "SNOMED CT",
                 "conceptId": "2.16.840.1.113883.2.4.3.11.60.90.77.2.6.80626.2",
                 "displayName": "Assisted delivery of fetus (procedure)",
                 "effectiveDate": "2016-11-22T14:20:18"
                },
                {
                 "code": "11466000",
                 "codeSystem": "2.16.840.1.113883.6.96",
                 "codeSystemName": "SNOMED CT",
                 "conceptId": "2.16.840.1.113883.2.4.3.11.60.90.77.2.6.80626.3",
                 "displayName": "Cesarean section (procedure)",
                 "effectiveDate": "2016-11-22T14:20:24"
                },
                {
                 "code": "177141003",
                 "codeSystem": "2.16.840.1.113883.6.96",
                 "codeSystemName": "SNOMED CT",
                 "conceptId": "2.16.840.1.113883.2.4.3.11.60.90.77.2.6.80626.4",
                 "displayName": "Elective cesarian delivery (procedure)",
                 "effectiveDate": "2016-11-22T14:20:28"
                },
                {
                 "code": "274130007",
                 "codeSystem": "2.16.840.1.113883.6.96",
                 "codeSystemName": "SNOMED CT",
                 "conceptId": "2.16.840.1.113883.2.4.3.11.60.90.77.2.6.80626.5",
                 "displayName": "Emergency cesarian section (procedure)",
                 "effectiveDate": "2016-11-22T14:20:33"
                }
               ],
               "type": "item",
               "valueDomain": [
                {
                 "conceptList": [
                  {
                   "concept": [
                    {
                     "id": "2.16.840.1.113883.2.4.3.11.60.90.77.2.6.80626.1",
                     "level": "0",
                     "name": [
                      {
                       "content": "Spontaan",
                       "language": "nl-NL"
                      }
                     ],
                     "type": "L"
                    },
                    {
                     "id": "2.16.840.1.113883.2.4.3.11.60.90.77.2.6.80626.2",
                     "level": "0",
                     "name": [
                      {
                       "content": "Vaginale kunstverlossing",
                       "language": "nl-NL"
                      }
                     ],
                     "type": "L"
                    },
                    {
                     "id": "2.16.840.1.113883.2.4.3.11.60.90.77.2.6.80626.3",
                     "level": "0",
                     "name": [
                      {
                       "content": "Sectio Caesarea",
                       "language": "nl-NL"
                      }
                     ],
                     "type": "S"
                    },
                    {
                     "id": "2.16.840.1.113883.2.4.3.11.60.90.77.2.6.80626.4",
                     "level": "1",
                     "name": [
                      {
                       "content": "Primair",
                       "language": "nl-NL"
                      }
                     ],
                     "synonym": [
                      {
                       "content": "Gepland",
                       "language": "nl-NL"
                      }
                     ],
                     "type": "L"
                    },
                    {
                     "id": "2.16.840.1.113883.2.4.3.11.60.90.77.2.6.80626.5",
                     "level": "1",
                     "name": [
                      {
                       "content": "Secundair",
                       "language": "nl-NL"
                      }
                     ],
                     "type": "L"
                    },
                    {
                     "desc": [
                      {
                       "content": "Zwangerschapsafbreking na 16 weken",
                       "language": "nl-NL"
                      }
                     ],
                     "id": "2.16.840.1.113883.2.4.3.11.60.90.77.2.6.80626.6",
                     "level": "0",
                     "name": [
                      {
                       "content": "Termination Of Pregnancy (TOP)",
                       "language": "nl-NL"
                      }
                     ],
                     "type": "S"
                    },
                    {
                     "id": "2.16.840.1.113883.2.4.3.11.60.90.77.2.6.80626.11",
                     "level": "1",
                     "name": [
                      {
                       "content": "Chemische inleiding",
                       "language": "nl-NL"
                      }
                     ],
                     "type": "L"
                    },
                    {
                     "id": "2.16.840.1.113883.2.4.3.11.60.90.77.2.6.80626.12",
                     "level": "1",
                     "name": [
                      {
                       "content": "Sectio Caesarea",
                       "language": "nl-NL"
                      }
                     ],
                     "type": "L"
                    },
                    {
                     "id": "2.16.840.1.113883.2.4.3.11.60.90.77.2.6.80626.13",
                     "level": "1",
                     "name": [
                      {
                       "content": "Overig",
                       "language": "nl-NL"
                      }
                     ],
                     "type": "L"
                    }
                   ],
                   "id": "2.16.840.1.113883.2.4.3.11.60.90.77.2.6.80626.10"
                  }
                 ],
                 "type": "code"
                }
               ],
               "valueSet": [
                {
                 "conceptList": [
                  {
                   "concept": [
                    {
                     "code": "177184002",
                     "codeSystem": "2.16.840.1.113883.6.96",
                     "displayName": "Normal delivery procedure (procedure)",
                     "level": "0",
                     "localId": "1",
                     "name": [
                      {
                       "content": "Spontaan",
                       "language": "nl-NL"
                      }
                     ],
                     "type": "L"
                    },
                    {
                     "code": "3311000146109",
                     "codeSystem": "2.16.840.1.113883.6.96",
                     "displayName": "Assisted delivery of fetus (procedure)",
                     "level": "0",
                     "localId": "2",
                     "name": [
                      {
                       "content": "Vaginale kunstverlossing",
                       "language": "nl-NL"
                      }
                     ],
                     "type": "L"
                    },
                    {
                     "code": "11466000",
                     "codeSystem": "2.16.840.1.113883.6.96",
                     "displayName": "Cesarean section (procedure)",
                     "level": "0",
                     "localId": "3",
                     "name": [
                      {
                       "content": "Sectio Caesarea",
                       "language": "nl-NL"
                      }
                     ],
                     "type": "S"
                    },
                    {
                     "code": "177141003",
                     "codeSystem": "2.16.840.1.113883.6.96",
                     "designation": [
                      {
                       "displayName": "Gepland",
                       "language": "nl-NL",
                       "type": "synonym"
                      }
                     ],
                     "displayName": "Elective cesarian delivery (procedure)",
                     "level": "1",
                     "localId": "4",
                     "name": [
                      {
                       "content": "Primair",
                       "language": "nl-NL"
                      }
                     ],
                     "type": "L"
                    },
                    {
                     "code": "274130007",
                     "codeSystem": "2.16.840.1.113883.6.96",
                     "displayName": "Emergency cesarian section (procedure)",
                     "level": "1",
                     "localId": "5",
                     "name": [
                      {
                       "content": "Secundair",
                       "language": "nl-NL"
                      }
                     ],
                     "type": "L"
                    },
                    {
                     "code": "10",
                     "codeSystem": "2.16.840.1.113883.2.4.4.14",
                     "displayName": "Termination of Pregnancy (TOP)",
                     "level": "0",
                     "localId": "6",
                     "name": [
                      {
                       "content": "Termination Of Pregnancy (TOP)",
                       "language": "nl-NL"
                      }
                     ],
                     "type": "S"
                    },
                    {
                     "code": "447972007",
                     "codeSystem": "2.16.840.1.113883.6.96",
                     "displayName": "Medical termination of pregnancy using prostaglandin (procedure)",
                     "level": "1",
                     "localId": "7",
                     "name": [
                      {
                       "content": "Chemische inleiding",
                       "language": "nl-NL"
                      }
                     ],
                     "type": "L"
                    },
                    {
                     "code": "236990004",
                     "codeSystem": "2.16.840.1.113883.6.96",
                     "displayName": "Postmortem cesarean section (procedure)",
                     "level": "1",
                     "localId": "8",
                     "name": [
                      {
                       "content": "Sectio Caesarea",
                       "language": "nl-NL"
                      }
                     ],
                     "type": "L"
                    },
                    {
                     "code": "9",
                     "codeSystem": "2.16.840.1.113883.2.4.4.14.10",
                     "desc": [
                      {
                       "content": "Overige TOP (Termination of Pregnancy - zwangerschapsafbreking ná 16 weken)",
                       "language": "nl-NL"
                      }
                     ],
                     "displayName": "Overig",
                     "level": "1",
                     "localId": "9",
                     "name": [
                      {
                       "content": "Overig",
                       "language": "nl-NL"
                      }
                     ],
                     "type": "L"
                    }
                   ],
                   "exception": [
                    {
                     "code": "NI",
                     "codeSystem": "2.16.840.1.113883.5.1008",
                     "displayName": "Geen informatie",
                     "level": "0",
                     "localId": "10",
                     "name": [
                      {
                       "content": "Geen informatie",
                       "language": "nl-NL"
                      }
                     ],
                     "type": "L"
                    }
                   ],
                   "id": "2.16.840.1.113883.2.4.3.11.60.90.77.2.6.80626.10"
                  }
                 ],
                 "copyright": [
                  {
                   "content": "This artefact includes content from SNOMED Clinical Terms® (SNOMED CT®) which is copyright of the International Health Terminology Standards Development Organisation (IHTSDO). Implementers of these artefacts must have the appropriate SNOMED CT Affiliate license - for more information contact http://www.snomed.org/snomed-ct/getsnomed-ct or info@snomed.org.",
                   "language": "en-US"
                  }
                 ],
                 "displayName": "TypePartus",
                 "effectiveDate": "2016-11-22T14:00:45",
                 "id": "2.16.840.1.113883.2.4.11.182",
                 "name": "TypePartus22",
                 "publishingAuthority": [
                  {
                   "addrLine": [
                    {
                     "content": "Koninklijke Nederlandse Organisatie van Verloskundigen"
                    },
                    {
                     "content": "Mercatorlaan 1200"
                    },
                    {
                     "content": "3528 BL Utrecht"
                    },
                    {
                     "content": "T 030 282 31 00"
                    }
                   ],
                   "name": "KNOV"
                  }
                 ],
                 "sourceCodeSystem": [
                  {
                   "canonicalUri": "urn:oid:2.16.840.1.113883.6.96",
                   "canonicalUriDSTU2": "urn:oid:2.16.840.1.113883.6.96",
                   "canonicalUriR4": "urn:oid:2.16.840.1.113883.6.96",
                   "canonicalUriSTU3": "urn:oid:2.16.840.1.113883.6.96",
                   "id": "2.16.840.1.113883.6.96",
                   "identifierName": "SNOMED&#160;CT"
                  },
                  {
                   "canonicalUri": "urn:oid:2.16.840.1.113883.2.4.4.14",
                   "canonicalUriDSTU2": "urn:oid:2.16.840.1.113883.2.4.4.14",
                   "canonicalUriR4": "urn:oid:2.16.840.1.113883.2.4.4.14",
                   "canonicalUriSTU3": "urn:oid:2.16.840.1.113883.2.4.4.14",
                   "id": "2.16.840.1.113883.2.4.4.14",
                   "identifierName": "Perinatologische&#160;procedurecodes"
                  },
                  {
                   "canonicalUri": "urn:oid:2.16.840.1.113883.2.4.4.14.10",
                   "canonicalUriDSTU2": "urn:oid:2.16.840.1.113883.2.4.4.14.10",
                   "canonicalUriR4": "urn:oid:2.16.840.1.113883.2.4.4.14.10",
                   "canonicalUriSTU3": "urn:oid:2.16.840.1.113883.2.4.4.14.10",
                   "id": "2.16.840.1.113883.2.4.4.14.10",
                   "identifierName": "TerminationOfPregnancy"
                  },
                  {
                   "canonicalUri": "urn:oid:2.16.840.1.113883.5.1008",
                   "canonicalUriDSTU2": "urn:oid:2.16.840.1.113883.5.1008",
                   "canonicalUriR4": "urn:oid:2.16.840.1.113883.5.1008",
                   "canonicalUriSTU3": "urn:oid:2.16.840.1.113883.5.1008",
                   "id": "2.16.840.1.113883.5.1008",
                   "identifierName": "NullFlavor"
                  }
                 ],
                 "statusCode": "final",
                 "terminologyAssociation": [
                  {
                   "conceptId": "2.16.840.1.113883.2.4.3.11.60.90.77.2.6.80626.10",
                   "effectiveDate": "2016-11-22T14:11:47",
                   "flexibility": "2016-11-22T14:00:45",
                   "valueSet": "2.16.840.1.113883.2.4.11.182"
                  }
                 ]
                }
               ]
              },
              {
               "community": [
                {
                 "data": [
                  {
                   "content": "5.6.01",
                   "datatype": "text",
                   "label": "PRN dataset 1.3 mapping",
                   "type": "prn13mapping"
                  },
                  {
                   "content": "In weken en in dagen weergeven in dagen vastleggen . PWD: voorgaande zwangerschappen Range 154-308 in geharmoniseerde set Range 112-321 in oude PRN databestand. ",
                   "datatype": "text",
                   "label": "PRN dataset 1.3 info",
                   "type": "prn13info"
                  },
                  {
                   "content": "code effectivetime.width&#160;&#160;&#160; &#160;&#160;&#160; &#160;&#160;&#160; &#160;&#160;&#160; &#160;&#160;&#160; &#160;&#160;&#160; &#160;&#160;&#160; &#160;&#160;&#160; &#160;&#160;&#160; &#160;&#160;&#160; IVL &lt;TS&gt;, unit=d subject.R_RelatedParty(code= MOTH)  codeCode 18185-9 (LOINC 2.16.840.1.113883.6.1). ",
                   "datatype": "text",
                   "label": "PRN dataset 1.3 mapping HL7",
                   "type": "prn13HL7"
                  }
                 ],
                 "name": "prn"
                }
               ],
               "conformance": "R",
               "desc": [
                {
                 "content": "Zwangerschapsduur in dagen bij geboorte kinderen. De dataset definieert de zwangerschapsduur in dagen. Zorgverleners zien de zwangerschapsduur het liefste in weken/dagen. Dus bijvoorbeeld: 36w2d of 40+2.",
                 "language": "nl-NL"
                }
               ],
               "effectiveDate": "2016-09-08T00:00:00",
               "id": "2.16.840.1.113883.2.4.3.11.60.90.77.2.6.20062",
               "iddisplay": "peri23-dataelement-20062",
               "implementation": [
                {
                 "shortName": "zwangerschapsduur"
                }
               ],
               "inherit": [
                {
                 "datasetEffectiveDate": "2013-09-10T00:00:00",
                 "datasetId": "2.16.840.1.113883.2.4.3.11.60.90.77.1.5",
                 "datasetStatusCode": "final",
                 "effectiveDate": "2013-09-10T00:00:00",
                 "iEffectiveDate": "2013-09-10T00:00:00",
                 "iStatusCode": "final",
                 "iType": "item",
                 "iVersionLabel": "22",
                 "prefix": "peri20-",
                 "ref": "2.16.840.1.113883.2.4.3.11.60.90.77.2.5.20062",
                 "refdisplay": "peri22-dataelement-20062"
                }
               ],
               "isMandatory": "false",
               "maximumMultiplicity": "1",
               "minimumMultiplicity": "0",
               "name": [
                {
                 "content": "Zwangerschapsduur",
                 "language": "nl-NL"
                }
               ],
               "operationalization": [
                {
                 "content": "Berekend veld: zwangerschapsduur in dagen bij geboorte kind. Berekend veld ((geboortedatum-atermedatum)+280) geven.",
                 "language": "nl-NL"
                }
               ],
               "relationship": [
                {
                 "datasetEffectiveDate": "2012-08-06T00:00:00",
                 "datasetId": "2.16.840.1.113883.2.4.3.11.60.90.77.1.4",
                 "datasetStatusCode": "final",
                 "flexibility": "2012-08-06T00:00:00",
                 "iEffectiveDate": "2012-08-06T00:00:00",
                 "iStatusCode": "final",
                 "iType": "item",
                 "name": [
                  {
                   "content": "Zwangerschapsduur",
                   "language": "nl-NL"
                  }
                 ],
                 "prefix": "peri20-",
                 "ref": "2.16.840.1.113883.2.4.3.11.60.90.77.2.4.20062",
                 "refdisplay": "peri21-dataelement-20062",
                 "type": "SPEC"
                }
               ],
               "shortName": "zwangerschapsduur",
               "statusCode": "draft",
               "terminologyAssociation": [
                {
                 "code": "412726003",
                 "codeSystem": "2.16.840.1.113883.6.96",
                 "codeSystemName": "SNOMED CT",
                 "conceptId": "2.16.840.1.113883.2.4.3.11.60.90.77.2.5.20062",
                 "displayName": "Length of gestation at birth",
                 "effectiveDate": "2015-09-08T15:23:31"
                }
               ],
               "type": "item",
               "valueDomain": [
                {
                 "property": [
                  {
                   "minInclude": "0",
                   "unit": "d"
                  }
                 ],
                 "type": "quantity"
                }
               ]
              },
              {
               "community": [
                {
                 "data": [
                  {
                   "content": "Deze rubriek bevat voor PRN aanlevering relevante data elementen. Er is geen rechtstreekse mapping van de rubriek naar een PRN data element. ",
                   "datatype": "text",
                   "label": "PRN dataset 1.3 info",
                   "type": "prn13info"
                  }
                 ],
                 "name": "prn"
                }
               ],
               "concept": [
                {
                 "community": [
                  {
                   "data": [
                    {
                     "content": " 5.4.05.02",
                     "datatype": "text",
                     "label": "PRN dataset 1.3 mapping",
                     "type": "prn13mapping"
                    },
                    {
                     "content": "Hier heeft de drang Snomed CT te gebruiken de correctheid van informatie overtroefd. Er missen nu details over uitgang, lage dan wel midden of hoge vacuum en verschil tussen partiele en gehele stuitextractie kan niet meer worden gemaakt. ",
                     "datatype": "text",
                     "label": "PRN dataset 1.3 bijzonderheden",
                     "type": "prn13bijzonderheden"
                    }
                   ],
                   "name": "prn"
                  }
                 ],
                 "conformance": "R",
                 "desc": [
                  {
                   "content": "Vaginale kunstverlossing",
                   "language": "nl-NL"
                  }
                 ],
                 "effectiveDate": "2016-09-08T00:00:00",
                 "id": "2.16.840.1.113883.2.4.3.11.60.90.77.2.6.40190",
                 "iddisplay": "peri23-dataelement-40190",
                 "implementation": [
                  {
                   "shortName": "vaginale_kunstverlossing"
                  }
                 ],
                 "inherit": [
                  {
                   "datasetEffectiveDate": "2013-09-10T00:00:00",
                   "datasetId": "2.16.840.1.113883.2.4.3.11.60.90.77.1.5",
                   "datasetStatusCode": "final",
                   "effectiveDate": "2013-09-10T00:00:00",
                   "iEffectiveDate": "2013-09-10T00:00:00",
                   "iStatusCode": "final",
                   "iType": "item",
                   "prefix": "peri20-",
                   "ref": "2.16.840.1.113883.2.4.3.11.60.90.77.2.5.40190",
                   "refdisplay": "peri22-dataelement-40190"
                  }
                 ],
                 "isMandatory": "false",
                 "maximumMultiplicity": "1",
                 "minimumMultiplicity": "0",
                 "name": [
                  {
                   "content": "Vaginale kunstverlossing",
                   "language": "nl-NL"
                  }
                 ],
                 "shortName": "vaginale_kunstverlossing",
                 "statusCode": "final",
                 "terminologyAssociation": [
                  {
                   "conceptId": "2.16.840.1.113883.2.4.3.11.60.90.77.8.5.40190.0",
                   "effectiveDate": "2016-08-30T12:47:55",
                   "flexibility": "2014-01-02T00:00:00",
                   "valueSet": "2.16.840.1.113883.2.4.11.181"
                  },
                  {
                   "code": "302383004",
                   "codeSystem": "2.16.840.1.113883.6.96",
                   "codeSystemName": "SNOMED CT",
                   "conceptId": "2.16.840.1.113883.2.4.3.11.60.90.77.8.5.40190.1",
                   "displayName": "Forceps delivery (procedure)",
                   "effectiveDate": "2014-03-28T13:14:29"
                  },
                  {
                   "code": "61586001",
                   "codeSystem": "2.16.840.1.113883.6.96",
                   "codeSystemName": "SNOMED CT",
                   "conceptId": "2.16.840.1.113883.2.4.3.11.60.90.77.8.5.40190.2",
                   "displayName": "Delivery by vacuum extraction (procedure)",
                   "effectiveDate": "2014-03-28T13:14:48"
                  },
                  {
                   "code": "699999008",
                   "codeSystem": "2.16.840.1.113883.6.96",
                   "codeSystemName": "SNOMED CT",
                   "conceptId": "2.16.840.1.113883.2.4.3.11.60.90.77.8.5.40190.3",
                   "displayName": "Obstetrical version with extraction (procedure)",
                   "effectiveDate": "2014-03-28T13:15:00"
                  },
                  {
                   "code": "359940006",
                   "codeSystem": "2.16.840.1.113883.6.96",
                   "codeSystemName": "SNOMED CT",
                   "conceptId": "2.16.840.1.113883.2.4.3.11.60.90.77.8.5.40190.4",
                   "displayName": "Partial breech extraction (procedure)",
                   "effectiveDate": "2014-03-28T13:15:11"
                  },
                  {
                   "code": "416055001",
                   "codeSystem": "2.16.840.1.113883.6.96",
                   "codeSystemName": "SNOMED CT",
                   "conceptId": "2.16.840.1.113883.2.4.3.11.60.90.77.2.5.40190.5",
                   "displayName": "Total breech extraction (procedure)",
                   "effectiveDate": "2014-03-28T13:15:20"
                  },
                  {
                   "code": "3311000146109",
                   "codeSystem": "2.16.840.1.113883.6.96",
                   "codeSystemName": "SNOMED CT",
                   "conceptId": "2.16.840.1.113883.2.4.3.11.60.90.77.2.5.40190",
                   "displayName": "Assisted delivery of fetus (procedure)",
                   "effectiveDate": "2015-01-12T17:31:34"
                  }
                 ],
                 "type": "item",
                 "valueDomain": [
                  {
                   "conceptList": [
                    {
                     "concept": [
                      {
                       "id": "2.16.840.1.113883.2.4.3.11.60.90.77.8.5.40190.1",
                       "name": [
                        {
                         "content": "Forceps",
                         "language": "nl-NL"
                        }
                       ]
                      },
                      {
                       "id": "2.16.840.1.113883.2.4.3.11.60.90.77.8.5.40190.2",
                       "name": [
                        {
                         "content": "Vacuüm",
                         "language": "nl-NL"
                        }
                       ]
                      },
                      {
                       "id": "2.16.840.1.113883.2.4.3.11.60.90.77.8.5.40190.3",
                       "name": [
                        {
                         "content": "Versie en extractie",
                         "language": "nl-NL"
                        }
                       ]
                      },
                      {
                       "id": "2.16.840.1.113883.2.4.3.11.60.90.77.8.5.40190.4",
                       "name": [
                        {
                         "content": "Partiële stuitextractie",
                         "language": "nl-NL"
                        }
                       ]
                      },
                      {
                       "desc": [
                        {
                         "language": "nl-NL"
                        }
                       ],
                       "id": "2.16.840.1.113883.2.4.3.11.60.90.77.2.5.40190.5",
                       "name": [
                        {
                         "content": "Stuitextractie",
                         "language": "nl-NL"
                        }
                       ]
                      }
                     ],
                     "id": "2.16.840.1.113883.2.4.3.11.60.90.77.8.5.40190.0"
                    }
                   ],
                   "property": [
                    {}
                   ],
                   "type": "code"
                  }
                 ],
                 "valueSet": [
                  {
                   "conceptList": [
                    {
                     "concept": [
                      {
                       "code": "302383004",
                       "codeSystem": "2.16.840.1.113883.6.96",
                       "displayName": "Forceps delivery (procedure)",
                       "level": "0",
                       "localId": "1",
                       "name": [
                        {
                         "content": "Forceps",
                         "language": "nl-NL"
                        }
                       ],
                       "type": "L"
                      },
                      {
                       "code": "61586001",
                       "codeSystem": "2.16.840.1.113883.6.96",
                       "displayName": "Delivery by vacuum extraction (procedure)",
                       "level": "0",
                       "localId": "2",
                       "name": [
                        {
                         "content": "Vacuüm",
                         "language": "nl-NL"
                        }
                       ],
                       "type": "L"
                      },
                      {
                       "code": "699999008",
                       "codeSystem": "2.16.840.1.113883.6.96",
                       "displayName": "Obstetrical version with extraction (procedure)",
                       "level": "0",
                       "localId": "3",
                       "name": [
                        {
                         "content": "Versie en extractie",
                         "language": "nl-NL"
                        }
                       ],
                       "type": "L"
                      },
                      {
                       "code": "359940006",
                       "codeSystem": "2.16.840.1.113883.6.96",
                       "displayName": "Partial breech extraction (procedure)",
                       "level": "0",
                       "localId": "4",
                       "name": [
                        {
                         "content": "Partiële stuitextractie",
                         "language": "nl-NL"
                        }
                       ],
                       "type": "L"
                      },
                      {
                       "code": "416055001",
                       "codeSystem": "2.16.840.1.113883.6.96",
                       "displayName": "Total breech extraction (procedure)",
                       "level": "0",
                       "localId": "5",
                       "name": [
                        {
                         "content": "Stuitextractie",
                         "language": "nl-NL"
                        }
                       ],
                       "type": "L"
                      }
                     ],
                     "exception": [
                      {
                       "code": "OTH",
                       "codeSystem": "2.16.840.1.113883.5.1008",
                       "displayName": "anders",
                       "level": "0",
                       "localId": "6",
                       "name": [
                        {
                         "content": "anders",
                         "language": "nl-NL"
                        }
                       ],
                       "type": "L"
                      },
                      {
                       "code": "NI",
                       "codeSystem": "2.16.840.1.113883.5.1008",
                       "displayName": "geen informatie",
                       "level": "0",
                       "localId": "7",
                       "name": [
                        {
                         "content": "geen informatie",
                         "language": "nl-NL"
                        }
                       ],
                       "type": "L"
                      }
                     ],
                     "id": "2.16.840.1.113883.2.4.3.11.60.90.77.8.5.40190.0"
                    }
                   ],
                   "copyright": [
                    {
                     "content": "This artefact includes content from SNOMED Clinical Terms® (SNOMED CT®) which is copyright of the International Health Terminology Standards Development Organisation (IHTSDO). Implementers of these artefacts must have the appropriate SNOMED CT Affiliate license - for more information contact http://www.snomed.org/snomed-ct/getsnomed-ct or info@snomed.org.",
                     "language": "en-US"
                    }
                   ],
                   "displayName": "VaginaleKunstverlossing22",
                   "effectiveDate": "2014-01-02T00:00:00",
                   "id": "2.16.840.1.113883.2.4.11.181",
                   "name": "VaginaleKunstverlossing22",
                   "publishingAuthority": [
                    {
                     "addrLine": [
                      {
                       "content": "Koninklijke Nederlandse Organisatie van Verloskundigen"
                      },
                      {
                       "content": "Mercatorlaan 1200"
                      },
                      {
                       "content": "3528 BL Utrecht"
                      },
                      {
                       "content": "T 030 282 31 00"
                      }
                     ],
                     "name": "KNOV"
                    }
                   ],
                   "sourceCodeSystem": [
                    {
                     "canonicalUri": "urn:oid:2.16.840.1.113883.6.96",
                     "canonicalUriDSTU2": "urn:oid:2.16.840.1.113883.6.96",
                     "canonicalUriR4": "urn:oid:2.16.840.1.113883.6.96",
                     "canonicalUriSTU3": "urn:oid:2.16.840.1.113883.6.96",
                     "id": "2.16.840.1.113883.6.96",
                     "identifierName": "SNOMED&#160;CT"
                    },
                    {
                     "canonicalUri": "urn:oid:2.16.840.1.113883.5.1008",
                     "canonicalUriDSTU2": "urn:oid:2.16.840.1.113883.5.1008",
                     "canonicalUriR4": "urn:oid:2.16.840.1.113883.5.1008",
                     "canonicalUriSTU3": "urn:oid:2.16.840.1.113883.5.1008",
                     "id": "2.16.840.1.113883.5.1008",
                     "identifierName": "NullFlavor"
                    }
                   ],
                   "statusCode": "final",
                   "terminologyAssociation": [
                    {
                     "conceptId": "2.16.840.1.113883.2.4.3.11.60.90.77.8.5.40190.0",
                     "effectiveDate": "2016-08-30T12:47:55",
                     "flexibility": "2014-01-02T00:00:00",
                     "valueSet": "2.16.840.1.113883.2.4.11.181"
                    }
                   ]
                  }
                 ]
                }
               ],
               "conformance": "R",
               "desc": [
                {
                 "content": "Vaginale kunstverlossing (groep)",
                 "language": "nl-NL"
                }
               ],
               "effectiveDate": "2016-09-08T00:00:00",
               "id": "2.16.840.1.113883.2.4.3.11.60.90.77.2.6.40189",
               "iddisplay": "peri23-dataelement-40189",
               "implementation": [
                {
                 "shortName": "vaginale_kunstverlossing_groep"
                }
               ],
               "inherit": [
                {
                 "datasetEffectiveDate": "2013-09-10T00:00:00",
                 "datasetId": "2.16.840.1.113883.2.4.3.11.60.90.77.1.5",
                 "datasetStatusCode": "final",
                 "effectiveDate": "2013-09-10T00:00:00",
                 "iEffectiveDate": "2013-09-10T00:00:00",
                 "iStatusCode": "final",
                 "iType": "group",
                 "iVersionLabel": "22",
                 "prefix": "peri20-",
                 "ref": "2.16.840.1.113883.2.4.3.11.60.90.77.2.5.40189",
                 "refdisplay": "peri22-dataelement-40189"
                }
               ],
               "isMandatory": "false",
               "maximumMultiplicity": "1",
               "minimumMultiplicity": "0",
               "name": [
                {
                 "content": "Vaginale kunstverlossing (groep)",
                 "language": "nl-NL"
                }
               ],
               "relationship": [
                {
                 "datasetEffectiveDate": "2012-08-06T00:00:00",
                 "datasetId": "2.16.840.1.113883.2.4.3.11.60.90.77.1.4",
                 "datasetStatusCode": "final",
                 "flexibility": "2012-08-06T00:00:00",
                 "iEffectiveDate": "2012-08-06T00:00:00",
                 "iStatusCode": "final",
                 "iType": "group",
                 "name": [
                  {
                   "content": "Vaginale kunstverlossing (groep)",
                   "language": "nl-NL"
                  }
                 ],
                 "prefix": "peri20-",
                 "ref": "2.16.840.1.113883.2.4.3.11.60.90.77.2.4.40189",
                 "refdisplay": "peri21-dataelement-40189",
                 "type": "SPEC"
                }
               ],
               "shortName": "vaginale_kunstverlossing_groep",
               "statusCode": "draft",
               "type": "group"
              },
              {
               "concept": [
                {
                 "community": [
                  {
                   "data": [
                    {
                     "content": " 5.6.03.02",
                     "datatype": "text",
                     "label": "PRN dataset 1.3 mapping",
                     "type": "prn13mapping"
                    }
                   ],
                   "name": "prn"
                  }
                 ],
                 "conformance": "R",
                 "desc": [
                  {
                   "content": "Apgarscore na 5 min.",
                   "language": "nl-NL"
                  }
                 ],
                 "effectiveDate": "2016-09-08T00:00:00",
                 "id": "2.16.840.1.113883.2.4.3.11.60.90.77.2.6.40071",
                 "iddisplay": "peri23-dataelement-40071",
                 "implementation": [
                  {
                   "shortName": "apgarscore_na_5_min"
                  }
                 ],
                 "inherit": [
                  {
                   "datasetEffectiveDate": "2009-10-01T00:00:00",
                   "datasetId": "2.16.840.1.113883.2.4.3.11.60.90.77.1.1",
                   "datasetStatusCode": "deprecated",
                   "effectiveDate": "2009-10-01T00:00:00",
                   "iEffectiveDate": "2009-10-01T00:00:00",
                   "iStatusCode": "final",
                   "iType": "item",
                   "prefix": "peri20-",
                   "ref": "2.16.840.1.113883.2.4.3.11.60.90.77.2.1.40071",
                   "refdisplay": "spirit1a-dataelement-40071"
                  }
                 ],
                 "isMandatory": "false",
                 "maximumMultiplicity": "1",
                 "minimumMultiplicity": "0",
                 "name": [
                  {
                   "content": "Apgarscore na 5 min.",
                   "language": "nl-NL"
                  }
                 ],
                 "shortName": "apgarscore_na_5_min",
                 "statusCode": "final",
                 "terminologyAssociation": [
                  {
                   "code": "9274-2",
                   "codeSystem": "2.16.840.1.113883.6.1",
                   "codeSystemName": "LOINC",
                   "conceptId": "2.16.840.1.113883.2.4.3.11.60.90.77.2.1.40071",
                   "displayName": "Apgarscore na 5 min."
                  }
                 ],
                 "type": "item",
                 "valueDomain": [
                  {
                   "property": [
                    {
                     "maxInclude": "10",
                     "minInclude": "0"
                    }
                   ],
                   "type": "count"
                  }
                 ]
                },
                {
                 "comment": [
                  {
                   "content": "N.B. De hierbij gebruikte LOINC-code is niet uitsluitend beperkt tot het gebruik voor het concept 'neonataal geboortegewicht', maar kan ook gebruikt worden voor het concept 'maternaal lichaamsgewicht, bij de geboorte'.",
                   "language": "nl-NL"
                  }
                 ],
                 "community": [
                  {
                   "data": [
                    {
                     "content": " 5.6.06.01",
                     "datatype": "text",
                     "label": "PRN dataset 1.3 mapping",
                     "type": "prn13mapping"
                    },
                    {
                     "content": " Onbekend toegestaan",
                     "datatype": "text",
                     "label": "PRN dataset 1.3 bijzonderheden",
                     "type": "prn13bijzonderheden"
                    }
                   ],
                   "name": "prn"
                  }
                 ],
                 "conformance": "R",
                 "desc": [
                  {
                   "content": "Meting van het lichaamsgewicht zo kort mogelijk na de geboorte.",
                   "language": "nl-NL"
                  }
                 ],
                 "effectiveDate": "2016-09-08T00:00:00",
                 "id": "2.16.840.1.113883.2.4.3.11.60.90.77.2.6.40060",
                 "iddisplay": "peri23-dataelement-40060",
                 "implementation": [
                  {
                   "shortName": "geboortegewicht"
                  }
                 ],
                 "inherit": [
                  {
                   "datasetEffectiveDate": "2011-01-28T00:00:00",
                   "datasetId": "2.16.840.1.113883.2.4.3.11.60.90.77.1.2",
                   "datasetStatusCode": "deprecated",
                   "effectiveDate": "2011-01-28T00:00:00",
                   "iEffectiveDate": "2011-01-28T00:00:00",
                   "iStatusCode": "final",
                   "iType": "item",
                   "prefix": "peri20-",
                   "ref": "2.16.840.1.113883.2.4.3.11.60.90.77.2.2.40060",
                   "refdisplay": "spirit1c-dataelement-40060"
                  }
                 ],
                 "isMandatory": "false",
                 "maximumMultiplicity": "1",
                 "minimumMultiplicity": "0",
                 "name": [
                  {
                   "content": "Geboortegewicht",
                   "language": "nl-NL"
                  }
                 ],
                 "shortName": "geboortegewicht",
                 "statusCode": "final",
                 "terminologyAssociation": [
                  {
                   "code": "8339-4",
                   "codeSystem": "2.16.840.1.113883.6.1",
                   "codeSystemName": "LOINC",
                   "conceptId": "2.16.840.1.113883.2.4.3.11.60.90.77.2.2.40060",
                   "displayName": "Geboortegewicht"
                  }
                 ],
                 "type": "item",
                 "valueDomain": [
                  {
                   "property": [
                    {
                     "fractionDigits": "0!",
                     "minInclude": "0",
                     "unit": "gram"
                    }
                   ],
                   "type": "quantity"
                  }
                 ]
                }
               ],
               "conformance": "R",
               "desc": [
                {
                 "content": "Lichamelijk onderzoek pasgeborene direct postpartum ",
                 "language": "nl-NL"
                }
               ],
               "effectiveDate": "2016-09-08T00:00:00",
               "id": "2.16.840.1.113883.2.4.3.11.60.90.77.2.6.80766",
               "iddisplay": "peri23-dataelement-80766",
               "implementation": [
                {
                 "shortName": "lichamelijk_onderzoek_kind"
                }
               ],
               "isMandatory": "false",
               "maximumMultiplicity": "1",
               "minimumMultiplicity": "0",
               "name": [
                {
                 "content": "Lichamelijk onderzoek kind",
                 "language": "nl-NL"
                }
               ],
               "relationship": [
                {
                 "datasetEffectiveDate": "2013-09-10T00:00:00",
                 "datasetId": "2.16.840.1.113883.2.4.3.11.60.90.77.1.5",
                 "datasetStatusCode": "final",
                 "flexibility": "2013-09-10T00:00:00",
                 "iEffectiveDate": "2013-09-10T00:00:00",
                 "iStatusCode": "final",
                 "iType": "group",
                 "iVersionLabel": "22",
                 "name": [
                  {
                   "content": "Lichamelijk onderzoek kind",
                   "language": "nl-NL"
                  }
                 ],
                 "prefix": "peri20-",
                 "ref": "2.16.840.1.113883.2.4.3.11.60.90.77.2.5.80766",
                 "refdisplay": "peri22-dataelement-80766",
                 "type": "SPEC"
                }
               ],
               "shortName": "lichamelijk_onderzoek_kind",
               "source": [
                {
                 "content": "Mede gebaseerd op LESA richtlijn",
                 "language": "nl-NL"
                }
               ],
               "statusCode": "draft",
               "type": "group"
              }
             ],
             "conformance": "R",
             "desc": [
              {
               "content": "Kindspecifieke uitkomstgegevens",
               "language": "nl-NL"
              }
             ],
             "effectiveDate": "2016-09-08T00:00:00",
             "id": "2.16.840.1.113883.2.4.3.11.60.90.77.2.6.72",
             "iddisplay": "peri23-dataelement-72",
             "implementation": [
              {
               "shortName": "kindspecifieke_uitkomstgegevens"
              }
             ],
             "isMandatory": "false",
             "maximumMultiplicity": "1",
             "minimumMultiplicity": "0",
             "name": [
              {
               "content": "Kindspecifieke uitkomstgegevens",
               "language": "nl-NL"
              }
             ],
             "relationship": [
              {
               "datasetEffectiveDate": "2013-09-10T00:00:00",
               "datasetId": "2.16.840.1.113883.2.4.3.11.60.90.77.1.5",
               "datasetStatusCode": "final",
               "flexibility": "2013-09-10T00:00:00",
               "iEffectiveDate": "2013-09-10T00:00:00",
               "iStatusCode": "final",
               "iType": "group",
               "iVersionLabel": "22",
               "name": [
                {
                 "content": "Kindspecifieke uitkomstgegevens",
                 "language": "nl-NL"
                }
               ],
               "prefix": "peri20-",
               "ref": "2.16.840.1.113883.2.4.3.11.60.90.77.2.5.72",
               "refdisplay": "peri22-dataelement-72",
               "type": "SPEC"
              }
             ],
             "shortName": "kindspecifieke_uitkomstgegevens",
             "statusCode": "draft",
             "type": "group"
            }
           ],
           "conformance": "R",
           "desc": [
            {
             "content": "Baring is het geboren laten worden van één uitkomst (kind).",
             "language": "nl-NL"
            }
           ],
           "effectiveDate": "2016-09-08T00:00:00",
           "id": "2.16.840.1.113883.2.4.3.11.60.90.77.2.6.40002",
           "iddisplay": "peri23-dataelement-40002",
           "implementation": [
            {
             "shortName": "baring"
            }
           ],
           "isMandatory": "false",
           "maximumMultiplicity": "1",
           "minimumMultiplicity": "1",
           "name": [
            {
             "content": "Baring",
             "language": "nl-NL"
            }
           ],
           "relationship": [
            {
             "datasetEffectiveDate": "2013-09-10T00:00:00",
             "datasetId": "2.16.840.1.113883.2.4.3.11.60.90.77.1.5",
             "datasetStatusCode": "final",
             "flexibility": "2013-09-10T00:00:00",
             "iEffectiveDate": "2013-09-10T00:00:00",
             "iStatusCode": "final",
             "iType": "group",
             "iVersionLabel": "22",
             "name": [
              {
               "content": "Baring",
               "language": "nl-NL"
              }
             ],
             "prefix": "peri20-",
             "ref": "2.16.840.1.113883.2.4.3.11.60.90.77.2.5.40002",
             "refdisplay": "peri22-dataelement-40002",
             "type": "SPEC"
            }
           ],
           "shortName": "baring",
           "statusCode": "draft",
           "terminologyAssociation": [
            {
             "code": "Baring",
             "codeSystem": "2.16.840.1.113883.2.4.3.22.1.3",
             "codeSystemName": "PerinatologyProceduresPRN",
             "conceptId": "2.16.840.1.113883.2.4.3.11.60.90.77.2.6.40002",
             "displayName": "Baring",
             "effectiveDate": "2016-10-26T22:19:19"
            },
            {
             "code": "3950001",
             "codeSystem": "2.16.840.1.113883.6.96",
             "codeSystemName": "SNOMED CT",
             "conceptFlexibility": "2016-09-08T00:00:00",
             "conceptId": "2.16.840.1.113883.2.4.3.11.60.90.77.2.6.40002",
             "displayName": "geboorte (bevinding)",
             "effectiveDate": "2020-03-23T12:05:14"
            }
           ],
           "type": "group"
          }
         ],
         "conformance": "R",
         "desc": [
          {
           "content": "Groepering om de gegevens van elke uitkomst (kind) samen te vatten.",
           "language": "nl-NL"
          }
         ],
         "effectiveDate": "2016-09-08T00:00:00",
         "id": "2.16.840.1.113883.2.4.3.11.60.90.77.2.6.7",
         "iddisplay": "peri23-dataelement-7",
         "implementation": [
          {
           "shortName": "uitkomst_per_kind"
          }
         ],
         "isMandatory": "false",
         "maximumMultiplicity": "*",
         "minimumMultiplicity": "0",
         "name": [
          {
           "content": "Uitkomst (per kind)",
           "language": "nl-NL"
          }
         ],
         "relationship": [
          {
           "datasetEffectiveDate": "2013-09-10T00:00:00",
           "datasetId": "2.16.840.1.113883.2.4.3.11.60.90.77.1.5",
           "datasetStatusCode": "final",
           "flexibility": "2013-09-10T00:00:00",
           "iEffectiveDate": "2013-09-10T00:00:00",
           "iStatusCode": "final",
           "iType": "group",
           "iVersionLabel": "22",
           "name": [
            {
             "content": "Uitkomst (per kind)",
             "language": "nl-NL"
            }
           ],
           "prefix": "peri20-",
           "ref": "2.16.840.1.113883.2.4.3.11.60.90.77.2.5.7",
           "refdisplay": "peri22-dataelement-7",
           "type": "SPEC"
          }
         ],
         "shortName": "uitkomst_per_kind",
         "statusCode": "draft",
         "type": "group"
        }
       ],
       "desc": [
        {
         "language": "nl-NL"
        }
       ],
       "effectiveDate": "2016-09-08T00:00:00",
       "id": "2.16.840.1.113883.2.4.3.11.60.90.77.1.6",
       "iddisplay": "peri23-dataset-",
       "name": [
        {
         "content": "Prio1 vorige zwangerschap",
         "language": "nl-NL"
        }
       ],
       "prefix": "peri20-",
       "shortName": "prio1_vorige_zwangerschap",
       "statusCode": "draft",
       "transactionEffectiveDate": "2020-01-08T13:47:27",
       "transactionId": "2.16.840.1.113883.2.4.3.11.60.90.77.4.2499",
       "transactionIddisplay": "peri-transaction-2499",
       "transactionStatusCode": "draft",
       "transactionType": "initial"
      },
      "text/plain": [
       "<IPython.core.display.JSON object>"
      ]
     },
     "execution_count": 94,
     "metadata": {
      "application/json": {
       "expanded": false,
       "root": "root"
      }
     },
     "output_type": "execute_result"
    }
   ],
   "source": [
    "data = resp.json()\n",
    "dataset = data[\"dataset\"][0]\n",
    "name = dataset.get('shortName', 'sheet')\n",
    "JSON(dataset)"
   ]
  },
  {
   "cell_type": "code",
   "execution_count": 97,
   "metadata": {},
   "outputs": [],
   "source": [
    "def makeRows(parent, codes):\n",
    "    for concept in parent[\"concept\"]:\n",
    "        if 'valueSet' in concept.keys():\n",
    "            if ('name' in concept['valueSet'][0]):\n",
    "                for code in concept['valueSet'][0]['conceptList'][0]['concept']:\n",
    "                    codes.append(code)\n",
    "        if 'terminologyAssociation' in concept.keys():\n",
    "            for ta in concept['terminologyAssociation']:\n",
    "                codes.append(ta)\n",
    "        if 'concept' in concept.keys():\n",
    "            makeRows(concept, codes)\n",
    "    return\n",
    "\n",
    "codes = []\n",
    "df = makeRows(dataset, codes)\n",
    "df = pd.DataFrame(codes)"
   ]
  },
  {
   "cell_type": "code",
   "execution_count": 98,
   "metadata": {},
   "outputs": [
    {
     "data": {
      "text/html": [
       "<div>\n",
       "<style scoped>\n",
       "    .dataframe tbody tr th:only-of-type {\n",
       "        vertical-align: middle;\n",
       "    }\n",
       "\n",
       "    .dataframe tbody tr th {\n",
       "        vertical-align: top;\n",
       "    }\n",
       "\n",
       "    .dataframe thead th {\n",
       "        text-align: right;\n",
       "    }\n",
       "</style>\n",
       "<table border=\"1\" class=\"dataframe\">\n",
       "  <thead>\n",
       "    <tr style=\"text-align: right;\">\n",
       "      <th></th>\n",
       "      <th>code</th>\n",
       "      <th>codeSystem</th>\n",
       "      <th>displayName</th>\n",
       "    </tr>\n",
       "  </thead>\n",
       "  <tbody>\n",
       "    <tr>\n",
       "      <th>0</th>\n",
       "      <td>Z3</td>\n",
       "      <td>2.16.840.1.113883.2.4.15.1060</td>\n",
       "      <td>Huisartsenpraktijk</td>\n",
       "    </tr>\n",
       "    <tr>\n",
       "      <th>1</th>\n",
       "      <td>G3</td>\n",
       "      <td>2.16.840.1.113883.2.4.15.1060</td>\n",
       "      <td>Verloskundigenpraktijk</td>\n",
       "    </tr>\n",
       "    <tr>\n",
       "      <th>2</th>\n",
       "      <td>V4</td>\n",
       "      <td>2.16.840.1.113883.2.4.15.1060</td>\n",
       "      <td>Ziekenhuis</td>\n",
       "    </tr>\n",
       "    <tr>\n",
       "      <th>3</th>\n",
       "      <td>B2</td>\n",
       "      <td>2.16.840.1.113883.2.4.15.1060</td>\n",
       "      <td>Echocentrum</td>\n",
       "    </tr>\n",
       "    <tr>\n",
       "      <th>4</th>\n",
       "      <td>L1</td>\n",
       "      <td>2.16.840.1.113883.2.4.15.1060</td>\n",
       "      <td>Laboratorium</td>\n",
       "    </tr>\n",
       "    <tr>\n",
       "      <th>5</th>\n",
       "      <td>NaN</td>\n",
       "      <td>NaN</td>\n",
       "      <td>NaN</td>\n",
       "    </tr>\n",
       "    <tr>\n",
       "      <th>6</th>\n",
       "      <td>Z3</td>\n",
       "      <td>2.16.840.1.113883.2.4.15.1060</td>\n",
       "      <td>Huisartsenpraktijk</td>\n",
       "    </tr>\n",
       "    <tr>\n",
       "      <th>7</th>\n",
       "      <td>G3</td>\n",
       "      <td>2.16.840.1.113883.2.4.15.1060</td>\n",
       "      <td>Verloskundigenpraktijk</td>\n",
       "    </tr>\n",
       "    <tr>\n",
       "      <th>8</th>\n",
       "      <td>V4</td>\n",
       "      <td>2.16.840.1.113883.2.4.15.1060</td>\n",
       "      <td>Ziekenhuis</td>\n",
       "    </tr>\n",
       "    <tr>\n",
       "      <th>9</th>\n",
       "      <td>B2</td>\n",
       "      <td>2.16.840.1.113883.2.4.15.1060</td>\n",
       "      <td>Echocentrum</td>\n",
       "    </tr>\n",
       "    <tr>\n",
       "      <th>10</th>\n",
       "      <td>L1</td>\n",
       "      <td>2.16.840.1.113883.2.4.15.1060</td>\n",
       "      <td>Laboratorium</td>\n",
       "    </tr>\n",
       "    <tr>\n",
       "      <th>11</th>\n",
       "      <td>Z3</td>\n",
       "      <td>2.16.840.1.113883.2.4.15.1060</td>\n",
       "      <td>Huisartsenpraktijk</td>\n",
       "    </tr>\n",
       "    <tr>\n",
       "      <th>12</th>\n",
       "      <td>G3</td>\n",
       "      <td>2.16.840.1.113883.2.4.15.1060</td>\n",
       "      <td>Verloskundigenpraktijk</td>\n",
       "    </tr>\n",
       "    <tr>\n",
       "      <th>13</th>\n",
       "      <td>V4</td>\n",
       "      <td>2.16.840.1.113883.2.4.15.1060</td>\n",
       "      <td>Ziekenhuis</td>\n",
       "    </tr>\n",
       "    <tr>\n",
       "      <th>14</th>\n",
       "      <td>BR</td>\n",
       "      <td>2.16.840.1.113883.5.43</td>\n",
       "      <td>Geslachtsnaam</td>\n",
       "    </tr>\n",
       "    <tr>\n",
       "      <th>15</th>\n",
       "      <td>SP</td>\n",
       "      <td>2.16.840.1.113883.5.43</td>\n",
       "      <td>Geslachtsnaam partner</td>\n",
       "    </tr>\n",
       "    <tr>\n",
       "      <th>16</th>\n",
       "      <td>NaN</td>\n",
       "      <td>NaN</td>\n",
       "      <td>NaN</td>\n",
       "    </tr>\n",
       "    <tr>\n",
       "      <th>17</th>\n",
       "      <td>118185001</td>\n",
       "      <td>2.16.840.1.113883.6.96</td>\n",
       "      <td>bevinding betreffende zwangerschap (bevinding)</td>\n",
       "    </tr>\n",
       "    <tr>\n",
       "      <th>18</th>\n",
       "      <td>Gravidity</td>\n",
       "      <td>2.16.840.1.113883.2.4.4.13</td>\n",
       "      <td>Graviditeit</td>\n",
       "    </tr>\n",
       "    <tr>\n",
       "      <th>19</th>\n",
       "      <td>Parturit</td>\n",
       "      <td>2.16.840.1.113883.2.4.4.13</td>\n",
       "      <td>Pariteit (vóór deze zwangerschap)</td>\n",
       "    </tr>\n",
       "  </tbody>\n",
       "</table>\n",
       "</div>"
      ],
      "text/plain": [
       "         code                     codeSystem  \\\n",
       "0          Z3  2.16.840.1.113883.2.4.15.1060   \n",
       "1          G3  2.16.840.1.113883.2.4.15.1060   \n",
       "2          V4  2.16.840.1.113883.2.4.15.1060   \n",
       "3          B2  2.16.840.1.113883.2.4.15.1060   \n",
       "4          L1  2.16.840.1.113883.2.4.15.1060   \n",
       "5         NaN                            NaN   \n",
       "6          Z3  2.16.840.1.113883.2.4.15.1060   \n",
       "7          G3  2.16.840.1.113883.2.4.15.1060   \n",
       "8          V4  2.16.840.1.113883.2.4.15.1060   \n",
       "9          B2  2.16.840.1.113883.2.4.15.1060   \n",
       "10         L1  2.16.840.1.113883.2.4.15.1060   \n",
       "11         Z3  2.16.840.1.113883.2.4.15.1060   \n",
       "12         G3  2.16.840.1.113883.2.4.15.1060   \n",
       "13         V4  2.16.840.1.113883.2.4.15.1060   \n",
       "14         BR         2.16.840.1.113883.5.43   \n",
       "15         SP         2.16.840.1.113883.5.43   \n",
       "16        NaN                            NaN   \n",
       "17  118185001         2.16.840.1.113883.6.96   \n",
       "18  Gravidity     2.16.840.1.113883.2.4.4.13   \n",
       "19   Parturit     2.16.840.1.113883.2.4.4.13   \n",
       "\n",
       "                                       displayName  \n",
       "0                               Huisartsenpraktijk  \n",
       "1                           Verloskundigenpraktijk  \n",
       "2                                       Ziekenhuis  \n",
       "3                                      Echocentrum  \n",
       "4                                     Laboratorium  \n",
       "5                                              NaN  \n",
       "6                               Huisartsenpraktijk  \n",
       "7                           Verloskundigenpraktijk  \n",
       "8                                       Ziekenhuis  \n",
       "9                                      Echocentrum  \n",
       "10                                    Laboratorium  \n",
       "11                              Huisartsenpraktijk  \n",
       "12                          Verloskundigenpraktijk  \n",
       "13                                      Ziekenhuis  \n",
       "14                                   Geslachtsnaam  \n",
       "15                           Geslachtsnaam partner  \n",
       "16                                             NaN  \n",
       "17  bevinding betreffende zwangerschap (bevinding)  \n",
       "18                                     Graviditeit  \n",
       "19               Pariteit (vóór deze zwangerschap)  "
      ]
     },
     "execution_count": 98,
     "metadata": {},
     "output_type": "execute_result"
    }
   ],
   "source": [
    "df = df[['code', 'codeSystem', 'displayName']]\n",
    "df.head(20)"
   ]
  },
  {
   "cell_type": "code",
   "execution_count": 99,
   "metadata": {},
   "outputs": [],
   "source": [
    "def getCode(row, lang):\n",
    "    if (row['codeSystem'] == '2.16.840.1.113883.6.96'):\n",
    "        try:\n",
    "            return getName(row['code'], lang)\n",
    "        except:\n",
    "            pass"
   ]
  },
  {
   "cell_type": "code",
   "execution_count": 100,
   "metadata": {},
   "outputs": [
    {
     "name": "stdout",
     "output_type": "stream",
     "text": [
      "Done:  nl\n",
      "Done:  en\n",
      "Done:  es\n",
      "Done:  fr\n",
      "Done:  da\n"
     ]
    }
   ],
   "source": [
    "for lang in ['nl', 'en', 'es', 'fr', 'da']:\n",
    "    df[lang] = df.apply(lambda row: getCode(row, lang), axis=1)\n",
    "    print('Done: ', lang)"
   ]
  },
  {
   "cell_type": "code",
   "execution_count": 101,
   "metadata": {},
   "outputs": [
    {
     "data": {
      "text/html": [
       "<div>\n",
       "<style scoped>\n",
       "    .dataframe tbody tr th:only-of-type {\n",
       "        vertical-align: middle;\n",
       "    }\n",
       "\n",
       "    .dataframe tbody tr th {\n",
       "        vertical-align: top;\n",
       "    }\n",
       "\n",
       "    .dataframe thead th {\n",
       "        text-align: right;\n",
       "    }\n",
       "</style>\n",
       "<table border=\"1\" class=\"dataframe\">\n",
       "  <thead>\n",
       "    <tr style=\"text-align: right;\">\n",
       "      <th></th>\n",
       "      <th>code</th>\n",
       "      <th>codeSystem</th>\n",
       "      <th>displayName</th>\n",
       "      <th>nl</th>\n",
       "      <th>en</th>\n",
       "      <th>es</th>\n",
       "      <th>fr</th>\n",
       "      <th>da</th>\n",
       "    </tr>\n",
       "  </thead>\n",
       "  <tbody>\n",
       "    <tr>\n",
       "      <th>0</th>\n",
       "      <td>Z3</td>\n",
       "      <td>2.16.840.1.113883.2.4.15.1060</td>\n",
       "      <td>Huisartsenpraktijk</td>\n",
       "      <td>None</td>\n",
       "      <td>None</td>\n",
       "      <td>None</td>\n",
       "      <td>None</td>\n",
       "      <td>None</td>\n",
       "    </tr>\n",
       "    <tr>\n",
       "      <th>1</th>\n",
       "      <td>G3</td>\n",
       "      <td>2.16.840.1.113883.2.4.15.1060</td>\n",
       "      <td>Verloskundigenpraktijk</td>\n",
       "      <td>None</td>\n",
       "      <td>None</td>\n",
       "      <td>None</td>\n",
       "      <td>None</td>\n",
       "      <td>None</td>\n",
       "    </tr>\n",
       "    <tr>\n",
       "      <th>2</th>\n",
       "      <td>V4</td>\n",
       "      <td>2.16.840.1.113883.2.4.15.1060</td>\n",
       "      <td>Ziekenhuis</td>\n",
       "      <td>None</td>\n",
       "      <td>None</td>\n",
       "      <td>None</td>\n",
       "      <td>None</td>\n",
       "      <td>None</td>\n",
       "    </tr>\n",
       "    <tr>\n",
       "      <th>3</th>\n",
       "      <td>B2</td>\n",
       "      <td>2.16.840.1.113883.2.4.15.1060</td>\n",
       "      <td>Echocentrum</td>\n",
       "      <td>None</td>\n",
       "      <td>None</td>\n",
       "      <td>None</td>\n",
       "      <td>None</td>\n",
       "      <td>None</td>\n",
       "    </tr>\n",
       "    <tr>\n",
       "      <th>4</th>\n",
       "      <td>L1</td>\n",
       "      <td>2.16.840.1.113883.2.4.15.1060</td>\n",
       "      <td>Laboratorium</td>\n",
       "      <td>None</td>\n",
       "      <td>None</td>\n",
       "      <td>None</td>\n",
       "      <td>None</td>\n",
       "      <td>None</td>\n",
       "    </tr>\n",
       "    <tr>\n",
       "      <th>...</th>\n",
       "      <td>...</td>\n",
       "      <td>...</td>\n",
       "      <td>...</td>\n",
       "      <td>...</td>\n",
       "      <td>...</td>\n",
       "      <td>...</td>\n",
       "      <td>...</td>\n",
       "      <td>...</td>\n",
       "    </tr>\n",
       "    <tr>\n",
       "      <th>103</th>\n",
       "      <td>359940006</td>\n",
       "      <td>2.16.840.1.113883.6.96</td>\n",
       "      <td>Partial breech extraction (procedure)</td>\n",
       "      <td>extractie van foetus in half volkomen stuitlig...</td>\n",
       "      <td>Partial breech extraction (procedure)</td>\n",
       "      <td>extracción de nalgas parcial (procedimiento)</td>\n",
       "      <td></td>\n",
       "      <td>Partiel sædeekstraktion</td>\n",
       "    </tr>\n",
       "    <tr>\n",
       "      <th>104</th>\n",
       "      <td>416055001</td>\n",
       "      <td>2.16.840.1.113883.6.96</td>\n",
       "      <td>Total breech extraction (procedure)</td>\n",
       "      <td>stuitextractie van foetus in volkomen stuitlig...</td>\n",
       "      <td>Total breech extraction (procedure)</td>\n",
       "      <td>extracción de nalgas total (procedimiento)</td>\n",
       "      <td></td>\n",
       "      <td>fuldstændig sædeekstraktion</td>\n",
       "    </tr>\n",
       "    <tr>\n",
       "      <th>105</th>\n",
       "      <td>3311000146109</td>\n",
       "      <td>2.16.840.1.113883.6.96</td>\n",
       "      <td>Assisted delivery of fetus (procedure)</td>\n",
       "      <td>geassisteerde vaginale verlossing (verrichting)</td>\n",
       "      <td>None</td>\n",
       "      <td>None</td>\n",
       "      <td>None</td>\n",
       "      <td>None</td>\n",
       "    </tr>\n",
       "    <tr>\n",
       "      <th>106</th>\n",
       "      <td>9274-2</td>\n",
       "      <td>2.16.840.1.113883.6.1</td>\n",
       "      <td>Apgarscore na 5 min.</td>\n",
       "      <td>None</td>\n",
       "      <td>None</td>\n",
       "      <td>None</td>\n",
       "      <td>None</td>\n",
       "      <td>None</td>\n",
       "    </tr>\n",
       "    <tr>\n",
       "      <th>107</th>\n",
       "      <td>8339-4</td>\n",
       "      <td>2.16.840.1.113883.6.1</td>\n",
       "      <td>Geboortegewicht</td>\n",
       "      <td>None</td>\n",
       "      <td>None</td>\n",
       "      <td>None</td>\n",
       "      <td>None</td>\n",
       "      <td>None</td>\n",
       "    </tr>\n",
       "  </tbody>\n",
       "</table>\n",
       "<p>108 rows × 8 columns</p>\n",
       "</div>"
      ],
      "text/plain": [
       "              code                     codeSystem  \\\n",
       "0               Z3  2.16.840.1.113883.2.4.15.1060   \n",
       "1               G3  2.16.840.1.113883.2.4.15.1060   \n",
       "2               V4  2.16.840.1.113883.2.4.15.1060   \n",
       "3               B2  2.16.840.1.113883.2.4.15.1060   \n",
       "4               L1  2.16.840.1.113883.2.4.15.1060   \n",
       "..             ...                            ...   \n",
       "103      359940006         2.16.840.1.113883.6.96   \n",
       "104      416055001         2.16.840.1.113883.6.96   \n",
       "105  3311000146109         2.16.840.1.113883.6.96   \n",
       "106         9274-2          2.16.840.1.113883.6.1   \n",
       "107         8339-4          2.16.840.1.113883.6.1   \n",
       "\n",
       "                                displayName  \\\n",
       "0                        Huisartsenpraktijk   \n",
       "1                    Verloskundigenpraktijk   \n",
       "2                                Ziekenhuis   \n",
       "3                               Echocentrum   \n",
       "4                              Laboratorium   \n",
       "..                                      ...   \n",
       "103   Partial breech extraction (procedure)   \n",
       "104     Total breech extraction (procedure)   \n",
       "105  Assisted delivery of fetus (procedure)   \n",
       "106                    Apgarscore na 5 min.   \n",
       "107                         Geboortegewicht   \n",
       "\n",
       "                                                    nl  \\\n",
       "0                                                 None   \n",
       "1                                                 None   \n",
       "2                                                 None   \n",
       "3                                                 None   \n",
       "4                                                 None   \n",
       "..                                                 ...   \n",
       "103  extractie van foetus in half volkomen stuitlig...   \n",
       "104  stuitextractie van foetus in volkomen stuitlig...   \n",
       "105    geassisteerde vaginale verlossing (verrichting)   \n",
       "106                                               None   \n",
       "107                                               None   \n",
       "\n",
       "                                        en  \\\n",
       "0                                     None   \n",
       "1                                     None   \n",
       "2                                     None   \n",
       "3                                     None   \n",
       "4                                     None   \n",
       "..                                     ...   \n",
       "103  Partial breech extraction (procedure)   \n",
       "104    Total breech extraction (procedure)   \n",
       "105                                   None   \n",
       "106                                   None   \n",
       "107                                   None   \n",
       "\n",
       "                                               es    fr  \\\n",
       "0                                            None  None   \n",
       "1                                            None  None   \n",
       "2                                            None  None   \n",
       "3                                            None  None   \n",
       "4                                            None  None   \n",
       "..                                            ...   ...   \n",
       "103  extracción de nalgas parcial (procedimiento)         \n",
       "104    extracción de nalgas total (procedimiento)         \n",
       "105                                          None  None   \n",
       "106                                          None  None   \n",
       "107                                          None  None   \n",
       "\n",
       "                              da  \n",
       "0                           None  \n",
       "1                           None  \n",
       "2                           None  \n",
       "3                           None  \n",
       "4                           None  \n",
       "..                           ...  \n",
       "103      Partiel sædeekstraktion  \n",
       "104  fuldstændig sædeekstraktion  \n",
       "105                         None  \n",
       "106                         None  \n",
       "107                         None  \n",
       "\n",
       "[108 rows x 8 columns]"
      ]
     },
     "execution_count": 101,
     "metadata": {},
     "output_type": "execute_result"
    }
   ],
   "source": [
    "df"
   ]
  },
  {
   "cell_type": "code",
   "execution_count": 103,
   "metadata": {},
   "outputs": [],
   "source": [
    "writer = pd.ExcelWriter('prio1-vorig-trans.xlsx')\n",
    "df.to_excel(writer)\n",
    "writer.save()"
   ]
  },
  {
   "cell_type": "code",
   "execution_count": null,
   "metadata": {},
   "outputs": [],
   "source": []
  }
 ],
 "metadata": {
  "kernelspec": {
   "display_name": "Python 3",
   "language": "python",
   "name": "python3"
  },
  "language_info": {
   "codemirror_mode": {
    "name": "ipython",
    "version": 3
   },
   "file_extension": ".py",
   "mimetype": "text/x-python",
   "name": "python",
   "nbconvert_exporter": "python",
   "pygments_lexer": "ipython3",
   "version": "3.7.10"
  }
 },
 "nbformat": 4,
 "nbformat_minor": 4
}
