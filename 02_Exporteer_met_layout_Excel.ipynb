{
 "cells": [
  {
   "cell_type": "markdown",
   "metadata": {},
   "source": [
    "# Exporteer naar Excel met layout\n",
    "Gebruik van Xslxwriter maakt export naar een Excel file met layout mogelijk.\n",
    "Zie: https://xlsxwriter.readthedocs.io/working_with_pandas.html\n",
    "Hier wordt een DECOR transactie geëxporteerd naar Excel met:\n",
    "* Ieder topniveau uit de dataset op een apart tabblad\n",
    "* Kolommen e.d. naar juiste breedte\n",
    "* Valuesets ieder op een eigen tab\n",
    "\n",
    "Eerst wat overhead: importeren van de nodige libraries."
   ]
  },
  {
   "cell_type": "code",
   "execution_count": 1,
   "metadata": {},
   "outputs": [],
   "source": [
    "import pandas as pd\n",
    "import xlsxwriter\n",
    "import json\n",
    "import requests\n",
    "import datetime\n",
    "from IPython.display import JSON"
   ]
  },
  {
   "cell_type": "markdown",
   "metadata": {},
   "source": [
    "## Ophalen van de DECOR transactie.\n",
    "DECOR datasets en transacties zijn te vinden op: https://decor.nictiz.nl/decor/services/ProjectIndex\n",
    "\n",
    "Kies een transactie met 'format=json'.\n",
    "\n",
    "Na de GET moet status '200' getoond worden (afhankelijk van de gekozen transactie kan het even duren)."
   ]
  },
  {
   "cell_type": "code",
   "execution_count": 2,
   "metadata": {},
   "outputs": [
    {
     "data": {
      "text/plain": [
       "200"
      ]
     },
     "execution_count": 2,
     "metadata": {},
     "output_type": "execute_result"
    }
   ],
   "source": [
    "uri = 'https://decor.nictiz.nl/decor/services/RetrieveTransaction?id=2.16.840.1.113883.3.1937.99.62.3.4.5&effectiveDate=2012-09-05T16:59:35&language=nl-NL&ui=nl-NL&format=json'\n",
    "resp = requests.get(uri)\n",
    "resp.status_code"
   ]
  },
  {
   "cell_type": "markdown",
   "metadata": {},
   "source": [
    "## Gegevens bekijken als json"
   ]
  },
  {
   "cell_type": "code",
   "execution_count": 3,
   "metadata": {},
   "outputs": [
    {
     "data": {
      "application/json": {
       "concept": [
        {
         "community": [
          {
           "data": [
            {
             "content": "Lichaamsgewicht (groep)",
             "datatype": "enum",
             "label": "zib 2017",
             "type": "zib2017type"
            }
           ],
           "name": "zibmapper2017"
          }
         ],
         "concept": [
          {
           "community": [
            {
             "data": [
              {
               "content": "Lichaamsgewicht.GewichtWaarde",
               "datatype": "enum",
               "label": "zib 2017",
               "type": "zib2017type"
              }
             ],
             "name": "zibmapper2017"
            }
           ],
           "conformance": "M",
           "desc": [
            {
             "content": "Lichaamsgewicht",
             "language": "nl-NL"
            }
           ],
           "effectiveDate": "2011-01-28T00:00:00",
           "id": "2.16.840.1.113883.3.1937.99.62.3.2.3",
           "iddisplay": "demo1-dataelement-3",
           "implementation": [
            {
             "shortName": "gewicht"
            }
           ],
           "isMandatory": "true",
           "maximumMultiplicity": "1",
           "minimumMultiplicity": "1",
           "name": [
            {
             "content": "Gewicht",
             "language": "nl-NL"
            }
           ],
           "relationship": [
            {
             "datasetEffectiveDate": "2017-12-31T00:00:00",
             "datasetId": "2.16.840.1.113883.2.4.3.11.60.40.3.12.1",
             "datasetStatusCode": "final",
             "datasetVersionLabel": "3.1",
             "flexibility": "2017-12-31T00:00:00",
             "iEffectiveDate": "2017-12-31T00:00:00",
             "iStatusCode": "final",
             "iType": "group",
             "name": [
              {
               "content": "Lichaamsgewicht",
               "language": "nl-NL"
              },
              {
               "content": "BodyWeight",
               "language": "en-US"
              }
             ],
             "prefix": "zib2017bbr-",
             "ref": "2.16.840.1.113883.2.4.3.11.60.40.1.12.1.1",
             "refdisplay": "NL-CM-12.1.1",
             "type": "EQUIV"
            }
           ],
           "shortName": "gewicht",
           "statusCode": "draft",
           "terminologyAssociation": [
            {
             "code": "27113001",
             "codeSystem": "2.16.840.1.113883.6.96",
             "codeSystemName": "SNOMED CT",
             "conceptId": "2.16.840.1.113883.3.1937.99.62.3.2.3",
             "displayName": "Body weight"
            }
           ],
           "type": "item",
           "valueDomain": [
            {
             "property": [
              {
               "maxInclude": "240",
               "minInclude": "25",
               "unit": "kg"
              }
             ],
             "type": "quantity"
            }
           ]
          },
          {
           "desc": [
            {
             "content": "Is er sprake van gewichtstoename?",
             "language": "nl-NL"
            }
           ],
           "effectiveDate": "2011-01-28T00:00:00",
           "id": "2.16.840.1.113883.3.1937.99.62.3.2.13",
           "iddisplay": "demo1-dataelement-13",
           "implementation": [
            {
             "shortName": "gewichtstoename"
            }
           ],
           "isMandatory": "false",
           "maximumMultiplicity": "1",
           "minimumMultiplicity": "0",
           "name": [
            {
             "content": "Gewichtstoename",
             "language": "nl-NL"
            }
           ],
           "shortName": "gewichtstoename",
           "statusCode": "draft",
           "type": "item",
           "valueDomain": [
            {
             "type": "boolean"
            }
           ]
          },
          {
           "concept": [
            {
             "community": [
              {
               "data": [
                {
                 "content": "AlgemeneMeting.MeetUitslag.UitslagWaarde",
                 "datatype": "enum",
                 "label": "zib 2017",
                 "type": "zib2017type"
                }
               ],
               "name": "zibmapper2017"
              }
             ],
             "conformance": "R",
             "desc": [
              {
               "content": "-",
               "language": "nl-NL"
              }
             ],
             "effectiveDate": "2011-01-28T00:00:00",
             "id": "2.16.840.1.113883.3.1937.99.62.3.2.19",
             "iddisplay": "demo1-dataelement-19",
             "implementation": [
              {
               "shortName": "grootte_gewichtstoename"
              }
             ],
             "isMandatory": "false",
             "maximumMultiplicity": "1",
             "minimumMultiplicity": "0",
             "name": [
              {
               "content": "Grootte gewichtstoename",
               "language": "nl-NL"
              }
             ],
             "shortName": "grootte_gewichtstoename",
             "statusCode": "draft",
             "type": "item",
             "valueDomain": [
              {
               "property": [
                {
                 "unit": "gram"
                }
               ],
               "type": "quantity"
              }
             ]
            },
            {
             "community": [
              {
               "data": [
                {
                 "content": "TekstUitslag.TekstResultaat",
                 "datatype": "enum",
                 "label": "zib 2017",
                 "type": "zib2017type"
                }
               ],
               "name": "zibmapper2017"
              }
             ],
             "conformance": "R",
             "desc": [
              {
               "content": "-",
               "language": "nl-NL"
              }
             ],
             "effectiveDate": "2011-01-28T00:00:00",
             "id": "2.16.840.1.113883.3.1937.99.62.3.2.20",
             "iddisplay": "demo1-dataelement-20",
             "implementation": [
              {
               "shortName": "oorzaak_gewichtstoename"
              }
             ],
             "isMandatory": "false",
             "maximumMultiplicity": "1",
             "minimumMultiplicity": "0",
             "name": [
              {
               "content": "Oorzaak gewichtstoename",
               "language": "nl-NL"
              }
             ],
             "shortName": "oorzaak_gewichtstoename",
             "statusCode": "draft",
             "type": "item",
             "valueDomain": [
              {
               "type": "string"
              }
             ]
            }
           ],
           "conformance": "R",
           "desc": [
            {
             "content": "Gegevens gewichtstoename",
             "language": "nl-NL"
            }
           ],
           "effectiveDate": "2011-01-28T00:00:00",
           "id": "2.16.840.1.113883.3.1937.99.62.3.2.18",
           "iddisplay": "demo1-dataelement-18",
           "implementation": [
            {
             "shortName": "gegevens_gewichtstoename"
            }
           ],
           "isMandatory": "false",
           "maximumMultiplicity": "1",
           "minimumMultiplicity": "0",
           "name": [
            {
             "content": "Gegevens gewichtstoename",
             "language": "nl-NL"
            }
           ],
           "shortName": "gegevens_gewichtstoename",
           "statusCode": "draft",
           "type": "group"
          },
          {
           "community": [
            {
             "data": [
              {
               "content": "Lichaamslengte.LengteWaarde",
               "datatype": "enum",
               "label": "zib 2017",
               "type": "zib2017type"
              }
             ],
             "name": "zibmapper2017"
            }
           ],
           "desc": [
            {
             "content": "Lichaamslengte",
             "language": "nl-NL"
            }
           ],
           "effectiveDate": "2011-01-28T00:00:00",
           "id": "2.16.840.1.113883.3.1937.99.62.3.2.15",
           "iddisplay": "demo1-dataelement-15",
           "implementation": [
            {
             "shortName": "lengte"
            }
           ],
           "isMandatory": "false",
           "maximumMultiplicity": "1",
           "minimumMultiplicity": "0",
           "name": [
            {
             "content": "Lengte",
             "language": "nl-NL"
            }
           ],
           "shortName": "lengte",
           "statusCode": "draft",
           "type": "item",
           "valueDomain": [
            {
             "property": [
              {
               "fractionDigits": "2",
               "maxInclude": "3",
               "minInclude": "0",
               "unit": "m"
              },
              {
               "fractionDigits": "0!",
               "maxInclude": "300",
               "minInclude": "0",
               "unit": "cm"
              }
             ],
             "type": "quantity"
            }
           ]
          },
          {
           "community": [
            {
             "data": [
              {
               "content": "Lichaamsgewicht.GewichtDatumTijd",
               "datatype": "enum",
               "label": "zib 2017",
               "type": "zib2017type"
              }
             ],
             "name": "zibmapper2017"
            }
           ],
           "desc": [
            {
             "content": "Datum meting lichaamsgewicht",
             "language": "nl-NL"
            }
           ],
           "effectiveDate": "2011-01-28T00:00:00",
           "id": "2.16.840.1.113883.3.1937.99.62.3.2.2",
           "iddisplay": "demo1-dataelement-2",
           "implementation": [
            {
             "shortName": "datum_en_tijd_meting"
            }
           ],
           "isMandatory": "false",
           "maximumMultiplicity": "1",
           "minimumMultiplicity": "0",
           "name": [
            {
             "content": "Datum en tijd meting",
             "language": "nl-NL"
            }
           ],
           "shortName": "datum_en_tijd_meting",
           "statusCode": "draft",
           "terminologyAssociation": [
            {
             "code": "DM",
             "codeSystem": "2.16.840.1.113883.3.1937.99.62.3.5.2",
             "codeSystemName": "cs-meting-door",
             "conceptId": "2.16.840.1.113883.3.1937.99.62.3.2.2",
             "displayName": "Datum meting"
            }
           ],
           "type": "item",
           "valueDomain": [
            {
             "type": "datetime"
            }
           ]
          },
          {
           "community": [
            {
             "data": [
              {
               "content": "Zorgverlener.Specialisme",
               "datatype": "enum",
               "label": "zib 2017",
               "type": "zib2017type"
              }
             ],
             "name": "zibmapper2017"
            }
           ],
           "desc": [
            {
             "content": "Persoon die de meting verricht heeft",
             "language": "nl-NL"
            }
           ],
           "effectiveDate": "2011-01-28T00:00:00",
           "id": "2.16.840.1.113883.3.1937.99.62.3.2.5",
           "iddisplay": "demo1-dataelement-5",
           "implementation": [
            {
             "shortName": "meting_door"
            }
           ],
           "isMandatory": "false",
           "maximumMultiplicity": "1",
           "minimumMultiplicity": "0",
           "name": [
            {
             "content": "Meting door",
             "language": "nl-NL"
            }
           ],
           "shortName": "meting_door",
           "statusCode": "draft",
           "terminologyAssociation": [
            {
             "conceptId": "2.16.840.1.113883.3.1937.99.62.3.2.5.0",
             "flexibility": "dynamic",
             "valueSet": "2.16.840.1.113883.3.1937.99.62.3.11.5"
            },
            {
             "code": "P",
             "codeSystem": "2.16.840.1.113883.3.1937.99.62.3.5.1",
             "codeSystemName": "cs-meting-door",
             "conceptId": "2.16.840.1.113883.3.1937.99.62.3.2.5.1",
             "displayName": "Patiënt"
            },
            {
             "code": "T",
             "codeSystem": "2.16.840.1.113883.3.1937.99.62.3.5.1",
             "codeSystemName": "cs-meting-door",
             "conceptId": "2.16.840.1.113883.3.1937.99.62.3.2.5.2",
             "displayName": "Thuiszorg"
            },
            {
             "code": "H",
             "codeSystem": "2.16.840.1.113883.3.1937.99.62.3.5.1",
             "codeSystemName": "cs-meting-door",
             "conceptId": "2.16.840.1.113883.3.1937.99.62.3.2.5.3",
             "displayName": "Huisarts"
            },
            {
             "code": "M",
             "codeSystem": "2.16.840.1.113883.3.1937.99.62.3.5.1",
             "codeSystemName": "cs-meting-door",
             "conceptId": "2.16.840.1.113883.3.1937.99.62.3.2.5.4",
             "displayName": "Mantelzorg"
            },
            {
             "code": "MD",
             "codeSystem": "2.16.840.1.113883.3.1937.99.62.3.5.2",
             "codeSystemName": "cs-meting-door",
             "conceptId": "2.16.840.1.113883.3.1937.99.62.3.2.5",
             "displayName": "Meting door"
            }
           ],
           "type": "item",
           "valueDomain": [
            {
             "conceptList": [
              {
               "concept": [
                {
                 "id": "2.16.840.1.113883.3.1937.99.62.3.2.5.1",
                 "name": [
                  {
                   "content": "Patiënt",
                   "language": "nl-NL"
                  }
                 ],
                 "ordinal": "0"
                },
                {
                 "id": "2.16.840.1.113883.3.1937.99.62.3.2.5.2",
                 "name": [
                  {
                   "content": "Thuiszorg",
                   "language": "nl-NL"
                  }
                 ],
                 "ordinal": "1"
                },
                {
                 "id": "2.16.840.1.113883.3.1937.99.62.3.2.5.3",
                 "name": [
                  {
                   "content": "Huisarts",
                   "language": "nl-NL"
                  }
                 ],
                 "ordinal": "2"
                },
                {
                 "id": "2.16.840.1.113883.3.1937.99.62.3.2.5.4",
                 "name": [
                  {
                   "content": "Mantelzorg",
                   "language": "nl-NL"
                  }
                 ],
                 "ordinal": "3"
                }
               ],
               "id": "2.16.840.1.113883.3.1937.99.62.3.2.5.0"
              }
             ],
             "type": "ordinal"
            }
           ],
           "valueSet": [
            {
             "conceptList": [
              {
               "concept": [
                {
                 "code": "P",
                 "codeSystem": "2.16.840.1.113883.3.1937.99.62.3.5.1",
                 "displayName": "Patiënt",
                 "level": "0",
                 "localId": "1",
                 "name": [
                  {
                   "content": "Patiënt",
                   "language": "nl-NL"
                  }
                 ],
                 "ordinal": "0",
                 "type": "L"
                },
                {
                 "code": "T",
                 "codeSystem": "2.16.840.1.113883.3.1937.99.62.3.5.1",
                 "displayName": "Thuiszorg",
                 "level": "0",
                 "localId": "2",
                 "name": [
                  {
                   "content": "Thuiszorg",
                   "language": "nl-NL"
                  }
                 ],
                 "ordinal": "1",
                 "type": "L"
                },
                {
                 "code": "H",
                 "codeSystem": "2.16.840.1.113883.3.1937.99.62.3.5.1",
                 "displayName": "Huisarts",
                 "level": "0",
                 "localId": "3",
                 "name": [
                  {
                   "content": "Huisarts",
                   "language": "nl-NL"
                  }
                 ],
                 "ordinal": "2",
                 "type": "L"
                },
                {
                 "code": "M",
                 "codeSystem": "2.16.840.1.113883.3.1937.99.62.3.5.1",
                 "displayName": "Mantelzorg",
                 "level": "0",
                 "localId": "4",
                 "name": [
                  {
                   "content": "Mantelzorg",
                   "language": "nl-NL"
                  }
                 ],
                 "ordinal": "3",
                 "type": "L"
                }
               ],
               "id": "2.16.840.1.113883.3.1937.99.62.3.2.5.0"
              }
             ],
             "displayName": "vs-measured-by",
             "effectiveDate": "2012-07-25T15:22:56",
             "id": "2.16.840.1.113883.3.1937.99.62.3.11.5",
             "name": "vs-measured-by",
             "publishingAuthority": [
              {
               "addrLine": [
                {
                 "content": "The ART-DECOR expert group"
                },
                {
                 "content": "E info@art-decor.org"
                },
                {
                 "content": "E contact@art-decor.org"
                }
               ],
               "name": "The ART-DECOR expert group"
              }
             ],
             "sourceCodeSystem": [
              {
               "canonicalUri": "urn:oid:2.16.840.1.113883.3.1937.99.62.3.5.1",
               "canonicalUriDSTU2": "http://example.org/my-code-system-1",
               "canonicalUriR4": "http://example.org/my-code-system-1",
               "canonicalUriSTU3": "http://example.org/my-code-system-1",
               "id": "2.16.840.1.113883.3.1937.99.62.3.5.1",
               "identifierName": "cs-meting-door"
              }
             ],
             "statusCode": "draft",
             "terminologyAssociation": [
              {
               "conceptId": "2.16.840.1.113883.3.1937.99.62.3.2.5.0",
               "flexibility": "dynamic",
               "valueSet": "2.16.840.1.113883.3.1937.99.62.3.11.5"
              }
             ]
            }
           ]
          },
          {
           "community": [
            {
             "data": [
              {
               "content": "Probleem (groep)",
               "datatype": "enum",
               "label": "zib 2017",
               "type": "zib2017type"
              },
              {
               "content": "NP",
               "datatype": "enum",
               "label": "Probleem.ProbleemAnatomischeLocatie",
               "type": "Probleem.ProbleemAnatomischeLocatie"
              },
              {
               "content": "NP",
               "datatype": "enum",
               "label": "Probleem.ProbleemLateraliteit",
               "type": "Probleem.ProbleemLateraliteit"
              },
              {
               "content": "=\"Diagnose\"",
               "datatype": "enum",
               "label": "Probleem.ProbleemType",
               "type": "Probleem.ProbleemType"
              },
              {
               "content": "ValueSetFromConcept",
               "datatype": "enum",
               "label": "Probleem.ProbleemNaam",
               "type": "Probleem.ProbleemNaam"
              },
              {
               "content": "=\"Actueel\"",
               "datatype": "enum",
               "label": "Probleem.ProbleemStatus",
               "type": "Probleem.ProbleemStatus"
              }
             ],
             "name": "zibmapper2017"
            }
           ],
           "conformance": "R",
           "desc": [
            {
             "language": "nl-NL"
            }
           ],
           "effectiveDate": "2019-10-07T16:53:10",
           "id": "2.16.840.1.113883.3.1937.99.62.3.2.22",
           "iddisplay": "demo1-dataelement-22",
           "implementation": [
            {
             "shortName": "beoordeling"
            }
           ],
           "isMandatory": "false",
           "maximumMultiplicity": "1",
           "minimumMultiplicity": "0",
           "name": [
            {
             "content": "Beoordeling",
             "language": "nl-NL"
            }
           ],
           "shortName": "beoordeling",
           "statusCode": "draft",
           "terminologyAssociation": [
            {
             "conceptId": "2.16.840.1.113883.3.1937.99.62.3.2.22.20191007165310.0",
             "effectiveDate": "2019-10-07T17:02:04",
             "flexibility": "dynamic",
             "strength": "required",
             "valueSet": "2.16.840.1.113883.3.1937.99.62.3.11.7"
            }
           ],
           "type": "item",
           "valueDomain": [
            {
             "conceptList": [
              {
               "id": "2.16.840.1.113883.3.1937.99.62.3.2.22.20191007165310.0"
              }
             ],
             "type": "code"
            }
           ],
           "valueSet": [
            {
             "conceptList": [
              {
               "concept": [
                {
                 "code": "43664005",
                 "codeSystem": "2.16.840.1.113883.6.96",
                 "desc": [
                  {
                   "div": [
                    {
                     "content": "Normaal gewicht"
                    }
                   ],
                   "language": "nl-NL"
                  }
                 ],
                 "displayName": "Normal weight (finding)",
                 "level": "0",
                 "localId": "1",
                 "name": [
                  {
                   "content": "Normal weight (finding)",
                   "language": "nl-NL"
                  }
                 ],
                 "type": "L"
                },
                {
                 "code": "238131007",
                 "codeSystem": "2.16.840.1.113883.6.96",
                 "codeSystemName": "SNOMED CT",
                 "desc": [
                  {
                   "div": [
                    {
                     "content": "Overgewicht"
                    }
                   ],
                   "language": "nl-NL"
                  }
                 ],
                 "displayName": "Overweight (finding)",
                 "level": "0",
                 "localId": "2",
                 "name": [
                  {
                   "content": "Overweight (finding)",
                   "language": "nl-NL"
                  }
                 ],
                 "type": "L"
                },
                {
                 "code": "414916001",
                 "codeSystem": "2.16.840.1.113883.6.96",
                 "codeSystemName": "SNOMED CT",
                 "desc": [
                  {
                   "div": [
                    {
                     "content": "Obesitas"
                    }
                   ],
                   "language": "nl-NL"
                  }
                 ],
                 "displayName": "Obesity (disorder)",
                 "level": "0",
                 "localId": "3",
                 "name": [
                  {
                   "content": "Obesity (disorder)",
                   "language": "nl-NL"
                  }
                 ],
                 "type": "L"
                },
                {
                 "code": "238136002",
                 "codeSystem": "2.16.840.1.113883.6.96",
                 "codeSystemName": "SNOMED CT",
                 "desc": [
                  {
                   "div": [
                    {
                     "content": "Morbide obesitas"
                    }
                   ],
                   "language": "nl-NL"
                  }
                 ],
                 "displayName": "Morbid obesity (disorder)",
                 "level": "0",
                 "localId": "4",
                 "name": [
                  {
                   "content": "Morbid obesity (disorder)",
                   "language": "nl-NL"
                  }
                 ],
                 "type": "L"
                }
               ],
               "id": "2.16.840.1.113883.3.1937.99.62.3.2.22.20191007165310.0"
              }
             ],
             "copyright": [
              {
               "content": "This artefact includes content from SNOMED Clinical Terms® (SNOMED CT®) which is copyright of the International Health Terminology Standards Development Organisation (IHTSDO). Implementers of these artefacts must have the appropriate SNOMED CT Affiliate license - for more information contact http://www.snomed.org/snomed-ct/getsnomed-ct or info@snomed.org.",
               "language": "en-US"
              }
             ],
             "displayName": "Weight Assesment",
             "effectiveDate": "2019-10-07T17:01:14",
             "id": "2.16.840.1.113883.3.1937.99.62.3.11.7",
             "name": "weight-assesment",
             "publishingAuthority": [
              {
               "addrLine": [
                {
                 "content": "The ART-DECOR expert group"
                },
                {
                 "content": "E info@art-decor.org"
                },
                {
                 "content": "E contact@art-decor.org"
                }
               ],
               "name": "The ART-DECOR expert group"
              }
             ],
             "sourceCodeSystem": [
              {
               "canonicalUri": "http://snomed.info/sct",
               "canonicalUriDSTU2": "http://snomed.info/sct",
               "canonicalUriR4": "http://snomed.info/sct",
               "canonicalUriSTU3": "http://snomed.info/sct",
               "id": "2.16.840.1.113883.6.96",
               "identifierName": "SNOMED&#160;CT"
              }
             ],
             "statusCode": "draft",
             "strength": "required",
             "terminologyAssociation": [
              {
               "conceptId": "2.16.840.1.113883.3.1937.99.62.3.2.22.20191007165310.0",
               "effectiveDate": "2019-10-07T17:02:04",
               "flexibility": "dynamic",
               "strength": "required",
               "valueSet": "2.16.840.1.113883.3.1937.99.62.3.11.7"
              }
             ]
            }
           ]
          }
         ],
         "desc": [
          {
           "content": "Metingen die op locatie bij de patiënt, veelal door de patiënt zelf, worden uitgevoerd.",
           "language": "nl-NL"
          }
         ],
         "effectiveDate": "2012-05-30T11:32:36",
         "id": "2.16.840.1.113883.3.1937.99.62.3.2.1",
         "iddisplay": "demo1-dataelement-1",
         "implementation": [
          {
           "shortName": "meetwaarden"
          }
         ],
         "isMandatory": "false",
         "maximumMultiplicity": "*",
         "minimumMultiplicity": "0",
         "name": [
          {
           "content": "Meetwaarden",
           "language": "nl-NL"
          }
         ],
         "shortName": "meetwaarden",
         "statusCode": "draft",
         "type": "group"
        },
        {
         "community": [
          {
           "data": [
            {
             "content": "Patient (groep)",
             "datatype": "enum",
             "label": "zib 2017",
             "type": "zib2017type"
            }
           ],
           "name": "zibmapper2017"
          }
         ],
         "concept": [
          {
           "community": [
            {
             "data": [
              {
               "content": "Patient.Identificatienummer",
               "datatype": "enum",
               "label": "zib 2017",
               "type": "zib2017type"
              }
             ],
             "name": "zibmapper2017"
            }
           ],
           "conformance": "M",
           "desc": [
            {
             "content": "Burgerservicenummer",
             "language": "nl-NL"
            }
           ],
           "effectiveDate": "2012-05-30T14:18:23",
           "id": "2.16.840.1.113883.3.1937.99.62.3.2.7",
           "iddisplay": "demo1-dataelement-7",
           "implementation": [
            {
             "shortName": "bsn"
            }
           ],
           "isMandatory": "true",
           "maximumMultiplicity": "1",
           "minimumMultiplicity": "1",
           "name": [
            {
             "content": "BSN",
             "language": "nl-NL"
            }
           ],
           "shortName": "bsn",
           "statusCode": "draft",
           "type": "item",
           "valueDomain": [
            {
             "type": "identifier"
            }
           ]
          }
         ],
         "conformance": "M",
         "desc": [
          {
           "content": "Persoon",
           "language": "nl-NL"
          }
         ],
         "effectiveDate": "2012-05-30T14:18:23",
         "id": "2.16.840.1.113883.3.1937.99.62.3.2.6",
         "iddisplay": "demo1-dataelement-6",
         "implementation": [
          {
           "shortName": "persoon"
          }
         ],
         "isMandatory": "true",
         "maximumMultiplicity": "1",
         "minimumMultiplicity": "1",
         "name": [
          {
           "content": "Persoon",
           "language": "nl-NL"
          }
         ],
         "shortName": "persoon",
         "statusCode": "draft",
         "type": "group"
        }
       ],
       "desc": [
        {
         "content": "Meting bericht",
         "language": "nl-NL"
        }
       ],
       "effectiveDate": "2012-05-30T11:32:36",
       "id": "2.16.840.1.113883.3.1937.99.62.3.1.1",
       "iddisplay": "demo1-1",
       "name": [
        {
         "content": "Meting op BSN",
         "language": "nl-NL"
        }
       ],
       "prefix": "demo1-",
       "shortName": "meting_op_bsn",
       "statusCode": "draft",
       "templateEffectiveDate": "dynamic",
       "templateId": "2.16.840.1.113883.3.1937.99.62.3.10.11",
       "transactionEffectiveDate": "2012-09-05T16:59:35",
       "transactionId": "2.16.840.1.113883.3.1937.99.62.3.4.5",
       "transactionIddisplay": "demo1-transactions-5",
       "transactionStatusCode": "draft",
       "transactionType": "initial"
      },
      "text/plain": [
       "<IPython.core.display.JSON object>"
      ]
     },
     "execution_count": 3,
     "metadata": {
      "application/json": {
       "expanded": false,
       "root": "root"
      }
     },
     "output_type": "execute_result"
    }
   ],
   "source": [
    "data = resp.json()\n",
    "dataset = data[\"dataset\"][0]\n",
    "name = dataset.get('shortName', 'sheet')\n",
    "JSON(dataset)"
   ]
  },
  {
   "cell_type": "markdown",
   "metadata": {},
   "source": [
    "## Conversie naar DataFrame\n",
    "De DECOR transaction wordt geconverteerd naar een pandas DataFrame."
   ]
  },
  {
   "cell_type": "code",
   "execution_count": 4,
   "metadata": {},
   "outputs": [
    {
     "data": {
      "text/html": [
       "<div>\n",
       "<style scoped>\n",
       "    .dataframe tbody tr th:only-of-type {\n",
       "        vertical-align: middle;\n",
       "    }\n",
       "\n",
       "    .dataframe tbody tr th {\n",
       "        vertical-align: top;\n",
       "    }\n",
       "\n",
       "    .dataframe thead th {\n",
       "        text-align: right;\n",
       "    }\n",
       "</style>\n",
       "<table border=\"1\" class=\"dataframe\">\n",
       "  <thead>\n",
       "    <tr style=\"text-align: right;\">\n",
       "      <th></th>\n",
       "      <th>id</th>\n",
       "      <th>statusCode</th>\n",
       "      <th>type</th>\n",
       "      <th>minimumMultiplicity</th>\n",
       "      <th>maximumMultiplicity</th>\n",
       "      <th>isMandatory</th>\n",
       "      <th>iddisplay</th>\n",
       "      <th>shortName</th>\n",
       "      <th>name</th>\n",
       "      <th>desc</th>\n",
       "      <th>level</th>\n",
       "      <th>toplevel</th>\n",
       "      <th>conformance</th>\n",
       "      <th>datatype</th>\n",
       "      <th>cc</th>\n",
       "      <th>valuesetDisplay</th>\n",
       "      <th>valuesetName</th>\n",
       "    </tr>\n",
       "  </thead>\n",
       "  <tbody>\n",
       "    <tr>\n",
       "      <th>2.16.840.1.113883.3.1937.99.62.3.2.1</th>\n",
       "      <td>2.16.840.1.113883.3.1937.99.62.3.2.1</td>\n",
       "      <td>draft</td>\n",
       "      <td>group</td>\n",
       "      <td>0</td>\n",
       "      <td>*</td>\n",
       "      <td>false</td>\n",
       "      <td>demo1-dataelement-1</td>\n",
       "      <td>meetwaarden</td>\n",
       "      <td>Meetwaarden</td>\n",
       "      <td>Metingen die op locatie bij de patiënt, veelal...</td>\n",
       "      <td>1</td>\n",
       "      <td>Meetwaarden</td>\n",
       "      <td>NaN</td>\n",
       "      <td>NaN</td>\n",
       "      <td>NaN</td>\n",
       "      <td>NaN</td>\n",
       "      <td>NaN</td>\n",
       "    </tr>\n",
       "    <tr>\n",
       "      <th>2.16.840.1.113883.3.1937.99.62.3.2.3</th>\n",
       "      <td>2.16.840.1.113883.3.1937.99.62.3.2.3</td>\n",
       "      <td>draft</td>\n",
       "      <td>item</td>\n",
       "      <td>1</td>\n",
       "      <td>1</td>\n",
       "      <td>true</td>\n",
       "      <td>demo1-dataelement-3</td>\n",
       "      <td>gewicht</td>\n",
       "      <td>Gewicht</td>\n",
       "      <td>Lichaamsgewicht</td>\n",
       "      <td>2</td>\n",
       "      <td>Meetwaarden</td>\n",
       "      <td>M</td>\n",
       "      <td>quantity</td>\n",
       "      <td>1..1 M</td>\n",
       "      <td>NaN</td>\n",
       "      <td>NaN</td>\n",
       "    </tr>\n",
       "    <tr>\n",
       "      <th>2.16.840.1.113883.3.1937.99.62.3.2.13</th>\n",
       "      <td>2.16.840.1.113883.3.1937.99.62.3.2.13</td>\n",
       "      <td>draft</td>\n",
       "      <td>item</td>\n",
       "      <td>0</td>\n",
       "      <td>1</td>\n",
       "      <td>false</td>\n",
       "      <td>demo1-dataelement-13</td>\n",
       "      <td>gewichtstoename</td>\n",
       "      <td>Gewichtstoename</td>\n",
       "      <td>Is er sprake van gewichtstoename?</td>\n",
       "      <td>2</td>\n",
       "      <td>Meetwaarden</td>\n",
       "      <td>NaN</td>\n",
       "      <td>boolean</td>\n",
       "      <td>0..1</td>\n",
       "      <td>NaN</td>\n",
       "      <td>NaN</td>\n",
       "    </tr>\n",
       "    <tr>\n",
       "      <th>2.16.840.1.113883.3.1937.99.62.3.2.18</th>\n",
       "      <td>2.16.840.1.113883.3.1937.99.62.3.2.18</td>\n",
       "      <td>draft</td>\n",
       "      <td>group</td>\n",
       "      <td>0</td>\n",
       "      <td>1</td>\n",
       "      <td>false</td>\n",
       "      <td>demo1-dataelement-18</td>\n",
       "      <td>gegevens_gewichtstoename</td>\n",
       "      <td>Gegevens gewichtstoename</td>\n",
       "      <td>Gegevens gewichtstoename</td>\n",
       "      <td>2</td>\n",
       "      <td>Meetwaarden</td>\n",
       "      <td>R</td>\n",
       "      <td>NaN</td>\n",
       "      <td>NaN</td>\n",
       "      <td>NaN</td>\n",
       "      <td>NaN</td>\n",
       "    </tr>\n",
       "    <tr>\n",
       "      <th>2.16.840.1.113883.3.1937.99.62.3.2.19</th>\n",
       "      <td>2.16.840.1.113883.3.1937.99.62.3.2.19</td>\n",
       "      <td>draft</td>\n",
       "      <td>item</td>\n",
       "      <td>0</td>\n",
       "      <td>1</td>\n",
       "      <td>false</td>\n",
       "      <td>demo1-dataelement-19</td>\n",
       "      <td>grootte_gewichtstoename</td>\n",
       "      <td>Grootte gewichtstoename</td>\n",
       "      <td>-</td>\n",
       "      <td>3</td>\n",
       "      <td>Meetwaarden</td>\n",
       "      <td>R</td>\n",
       "      <td>quantity</td>\n",
       "      <td>0..1 R</td>\n",
       "      <td>NaN</td>\n",
       "      <td>NaN</td>\n",
       "    </tr>\n",
       "    <tr>\n",
       "      <th>2.16.840.1.113883.3.1937.99.62.3.2.20</th>\n",
       "      <td>2.16.840.1.113883.3.1937.99.62.3.2.20</td>\n",
       "      <td>draft</td>\n",
       "      <td>item</td>\n",
       "      <td>0</td>\n",
       "      <td>1</td>\n",
       "      <td>false</td>\n",
       "      <td>demo1-dataelement-20</td>\n",
       "      <td>oorzaak_gewichtstoename</td>\n",
       "      <td>Oorzaak gewichtstoename</td>\n",
       "      <td>-</td>\n",
       "      <td>3</td>\n",
       "      <td>Meetwaarden</td>\n",
       "      <td>R</td>\n",
       "      <td>string</td>\n",
       "      <td>0..1 R</td>\n",
       "      <td>NaN</td>\n",
       "      <td>NaN</td>\n",
       "    </tr>\n",
       "    <tr>\n",
       "      <th>2.16.840.1.113883.3.1937.99.62.3.2.15</th>\n",
       "      <td>2.16.840.1.113883.3.1937.99.62.3.2.15</td>\n",
       "      <td>draft</td>\n",
       "      <td>item</td>\n",
       "      <td>0</td>\n",
       "      <td>1</td>\n",
       "      <td>false</td>\n",
       "      <td>demo1-dataelement-15</td>\n",
       "      <td>lengte</td>\n",
       "      <td>Lengte</td>\n",
       "      <td>Lichaamslengte</td>\n",
       "      <td>2</td>\n",
       "      <td>Meetwaarden</td>\n",
       "      <td>NaN</td>\n",
       "      <td>quantity</td>\n",
       "      <td>0..1</td>\n",
       "      <td>NaN</td>\n",
       "      <td>NaN</td>\n",
       "    </tr>\n",
       "    <tr>\n",
       "      <th>2.16.840.1.113883.3.1937.99.62.3.2.2</th>\n",
       "      <td>2.16.840.1.113883.3.1937.99.62.3.2.2</td>\n",
       "      <td>draft</td>\n",
       "      <td>item</td>\n",
       "      <td>0</td>\n",
       "      <td>1</td>\n",
       "      <td>false</td>\n",
       "      <td>demo1-dataelement-2</td>\n",
       "      <td>datum_en_tijd_meting</td>\n",
       "      <td>Datum en tijd meting</td>\n",
       "      <td>Datum meting lichaamsgewicht</td>\n",
       "      <td>2</td>\n",
       "      <td>Meetwaarden</td>\n",
       "      <td>NaN</td>\n",
       "      <td>datetime</td>\n",
       "      <td>0..1</td>\n",
       "      <td>NaN</td>\n",
       "      <td>NaN</td>\n",
       "    </tr>\n",
       "    <tr>\n",
       "      <th>2.16.840.1.113883.3.1937.99.62.3.2.5</th>\n",
       "      <td>2.16.840.1.113883.3.1937.99.62.3.2.5</td>\n",
       "      <td>draft</td>\n",
       "      <td>item</td>\n",
       "      <td>0</td>\n",
       "      <td>1</td>\n",
       "      <td>false</td>\n",
       "      <td>demo1-dataelement-5</td>\n",
       "      <td>meting_door</td>\n",
       "      <td>Meting door</td>\n",
       "      <td>Persoon die de meting verricht heeft</td>\n",
       "      <td>2</td>\n",
       "      <td>Meetwaarden</td>\n",
       "      <td>NaN</td>\n",
       "      <td>ordinal</td>\n",
       "      <td>0..1</td>\n",
       "      <td>vs-measured-by</td>\n",
       "      <td>vs-measured-by</td>\n",
       "    </tr>\n",
       "    <tr>\n",
       "      <th>2.16.840.1.113883.3.1937.99.62.3.2.22</th>\n",
       "      <td>2.16.840.1.113883.3.1937.99.62.3.2.22</td>\n",
       "      <td>draft</td>\n",
       "      <td>item</td>\n",
       "      <td>0</td>\n",
       "      <td>1</td>\n",
       "      <td>false</td>\n",
       "      <td>demo1-dataelement-22</td>\n",
       "      <td>beoordeling</td>\n",
       "      <td>Beoordeling</td>\n",
       "      <td>None</td>\n",
       "      <td>2</td>\n",
       "      <td>Meetwaarden</td>\n",
       "      <td>R</td>\n",
       "      <td>code</td>\n",
       "      <td>0..1 R</td>\n",
       "      <td>Weight Assesment</td>\n",
       "      <td>weight-assesment</td>\n",
       "    </tr>\n",
       "    <tr>\n",
       "      <th>2.16.840.1.113883.3.1937.99.62.3.2.6</th>\n",
       "      <td>2.16.840.1.113883.3.1937.99.62.3.2.6</td>\n",
       "      <td>draft</td>\n",
       "      <td>group</td>\n",
       "      <td>1</td>\n",
       "      <td>1</td>\n",
       "      <td>true</td>\n",
       "      <td>demo1-dataelement-6</td>\n",
       "      <td>persoon</td>\n",
       "      <td>Persoon</td>\n",
       "      <td>Persoon</td>\n",
       "      <td>1</td>\n",
       "      <td>Persoon</td>\n",
       "      <td>M</td>\n",
       "      <td>NaN</td>\n",
       "      <td>NaN</td>\n",
       "      <td>NaN</td>\n",
       "      <td>NaN</td>\n",
       "    </tr>\n",
       "    <tr>\n",
       "      <th>2.16.840.1.113883.3.1937.99.62.3.2.7</th>\n",
       "      <td>2.16.840.1.113883.3.1937.99.62.3.2.7</td>\n",
       "      <td>draft</td>\n",
       "      <td>item</td>\n",
       "      <td>1</td>\n",
       "      <td>1</td>\n",
       "      <td>true</td>\n",
       "      <td>demo1-dataelement-7</td>\n",
       "      <td>bsn</td>\n",
       "      <td>BSN</td>\n",
       "      <td>Burgerservicenummer</td>\n",
       "      <td>2</td>\n",
       "      <td>Persoon</td>\n",
       "      <td>M</td>\n",
       "      <td>identifier</td>\n",
       "      <td>1..1 M</td>\n",
       "      <td>NaN</td>\n",
       "      <td>NaN</td>\n",
       "    </tr>\n",
       "  </tbody>\n",
       "</table>\n",
       "</div>"
      ],
      "text/plain": [
       "                                                                          id  \\\n",
       "2.16.840.1.113883.3.1937.99.62.3.2.1    2.16.840.1.113883.3.1937.99.62.3.2.1   \n",
       "2.16.840.1.113883.3.1937.99.62.3.2.3    2.16.840.1.113883.3.1937.99.62.3.2.3   \n",
       "2.16.840.1.113883.3.1937.99.62.3.2.13  2.16.840.1.113883.3.1937.99.62.3.2.13   \n",
       "2.16.840.1.113883.3.1937.99.62.3.2.18  2.16.840.1.113883.3.1937.99.62.3.2.18   \n",
       "2.16.840.1.113883.3.1937.99.62.3.2.19  2.16.840.1.113883.3.1937.99.62.3.2.19   \n",
       "2.16.840.1.113883.3.1937.99.62.3.2.20  2.16.840.1.113883.3.1937.99.62.3.2.20   \n",
       "2.16.840.1.113883.3.1937.99.62.3.2.15  2.16.840.1.113883.3.1937.99.62.3.2.15   \n",
       "2.16.840.1.113883.3.1937.99.62.3.2.2    2.16.840.1.113883.3.1937.99.62.3.2.2   \n",
       "2.16.840.1.113883.3.1937.99.62.3.2.5    2.16.840.1.113883.3.1937.99.62.3.2.5   \n",
       "2.16.840.1.113883.3.1937.99.62.3.2.22  2.16.840.1.113883.3.1937.99.62.3.2.22   \n",
       "2.16.840.1.113883.3.1937.99.62.3.2.6    2.16.840.1.113883.3.1937.99.62.3.2.6   \n",
       "2.16.840.1.113883.3.1937.99.62.3.2.7    2.16.840.1.113883.3.1937.99.62.3.2.7   \n",
       "\n",
       "                                      statusCode   type minimumMultiplicity  \\\n",
       "2.16.840.1.113883.3.1937.99.62.3.2.1       draft  group                   0   \n",
       "2.16.840.1.113883.3.1937.99.62.3.2.3       draft   item                   1   \n",
       "2.16.840.1.113883.3.1937.99.62.3.2.13      draft   item                   0   \n",
       "2.16.840.1.113883.3.1937.99.62.3.2.18      draft  group                   0   \n",
       "2.16.840.1.113883.3.1937.99.62.3.2.19      draft   item                   0   \n",
       "2.16.840.1.113883.3.1937.99.62.3.2.20      draft   item                   0   \n",
       "2.16.840.1.113883.3.1937.99.62.3.2.15      draft   item                   0   \n",
       "2.16.840.1.113883.3.1937.99.62.3.2.2       draft   item                   0   \n",
       "2.16.840.1.113883.3.1937.99.62.3.2.5       draft   item                   0   \n",
       "2.16.840.1.113883.3.1937.99.62.3.2.22      draft   item                   0   \n",
       "2.16.840.1.113883.3.1937.99.62.3.2.6       draft  group                   1   \n",
       "2.16.840.1.113883.3.1937.99.62.3.2.7       draft   item                   1   \n",
       "\n",
       "                                      maximumMultiplicity isMandatory  \\\n",
       "2.16.840.1.113883.3.1937.99.62.3.2.1                    *       false   \n",
       "2.16.840.1.113883.3.1937.99.62.3.2.3                    1        true   \n",
       "2.16.840.1.113883.3.1937.99.62.3.2.13                   1       false   \n",
       "2.16.840.1.113883.3.1937.99.62.3.2.18                   1       false   \n",
       "2.16.840.1.113883.3.1937.99.62.3.2.19                   1       false   \n",
       "2.16.840.1.113883.3.1937.99.62.3.2.20                   1       false   \n",
       "2.16.840.1.113883.3.1937.99.62.3.2.15                   1       false   \n",
       "2.16.840.1.113883.3.1937.99.62.3.2.2                    1       false   \n",
       "2.16.840.1.113883.3.1937.99.62.3.2.5                    1       false   \n",
       "2.16.840.1.113883.3.1937.99.62.3.2.22                   1       false   \n",
       "2.16.840.1.113883.3.1937.99.62.3.2.6                    1        true   \n",
       "2.16.840.1.113883.3.1937.99.62.3.2.7                    1        true   \n",
       "\n",
       "                                                  iddisplay  \\\n",
       "2.16.840.1.113883.3.1937.99.62.3.2.1    demo1-dataelement-1   \n",
       "2.16.840.1.113883.3.1937.99.62.3.2.3    demo1-dataelement-3   \n",
       "2.16.840.1.113883.3.1937.99.62.3.2.13  demo1-dataelement-13   \n",
       "2.16.840.1.113883.3.1937.99.62.3.2.18  demo1-dataelement-18   \n",
       "2.16.840.1.113883.3.1937.99.62.3.2.19  demo1-dataelement-19   \n",
       "2.16.840.1.113883.3.1937.99.62.3.2.20  demo1-dataelement-20   \n",
       "2.16.840.1.113883.3.1937.99.62.3.2.15  demo1-dataelement-15   \n",
       "2.16.840.1.113883.3.1937.99.62.3.2.2    demo1-dataelement-2   \n",
       "2.16.840.1.113883.3.1937.99.62.3.2.5    demo1-dataelement-5   \n",
       "2.16.840.1.113883.3.1937.99.62.3.2.22  demo1-dataelement-22   \n",
       "2.16.840.1.113883.3.1937.99.62.3.2.6    demo1-dataelement-6   \n",
       "2.16.840.1.113883.3.1937.99.62.3.2.7    demo1-dataelement-7   \n",
       "\n",
       "                                                      shortName  \\\n",
       "2.16.840.1.113883.3.1937.99.62.3.2.1                meetwaarden   \n",
       "2.16.840.1.113883.3.1937.99.62.3.2.3                    gewicht   \n",
       "2.16.840.1.113883.3.1937.99.62.3.2.13           gewichtstoename   \n",
       "2.16.840.1.113883.3.1937.99.62.3.2.18  gegevens_gewichtstoename   \n",
       "2.16.840.1.113883.3.1937.99.62.3.2.19   grootte_gewichtstoename   \n",
       "2.16.840.1.113883.3.1937.99.62.3.2.20   oorzaak_gewichtstoename   \n",
       "2.16.840.1.113883.3.1937.99.62.3.2.15                    lengte   \n",
       "2.16.840.1.113883.3.1937.99.62.3.2.2       datum_en_tijd_meting   \n",
       "2.16.840.1.113883.3.1937.99.62.3.2.5                meting_door   \n",
       "2.16.840.1.113883.3.1937.99.62.3.2.22               beoordeling   \n",
       "2.16.840.1.113883.3.1937.99.62.3.2.6                    persoon   \n",
       "2.16.840.1.113883.3.1937.99.62.3.2.7                        bsn   \n",
       "\n",
       "                                                           name  \\\n",
       "2.16.840.1.113883.3.1937.99.62.3.2.1                Meetwaarden   \n",
       "2.16.840.1.113883.3.1937.99.62.3.2.3                    Gewicht   \n",
       "2.16.840.1.113883.3.1937.99.62.3.2.13           Gewichtstoename   \n",
       "2.16.840.1.113883.3.1937.99.62.3.2.18  Gegevens gewichtstoename   \n",
       "2.16.840.1.113883.3.1937.99.62.3.2.19   Grootte gewichtstoename   \n",
       "2.16.840.1.113883.3.1937.99.62.3.2.20   Oorzaak gewichtstoename   \n",
       "2.16.840.1.113883.3.1937.99.62.3.2.15                    Lengte   \n",
       "2.16.840.1.113883.3.1937.99.62.3.2.2       Datum en tijd meting   \n",
       "2.16.840.1.113883.3.1937.99.62.3.2.5                Meting door   \n",
       "2.16.840.1.113883.3.1937.99.62.3.2.22               Beoordeling   \n",
       "2.16.840.1.113883.3.1937.99.62.3.2.6                    Persoon   \n",
       "2.16.840.1.113883.3.1937.99.62.3.2.7                        BSN   \n",
       "\n",
       "                                                                                    desc  \\\n",
       "2.16.840.1.113883.3.1937.99.62.3.2.1   Metingen die op locatie bij de patiënt, veelal...   \n",
       "2.16.840.1.113883.3.1937.99.62.3.2.3                                     Lichaamsgewicht   \n",
       "2.16.840.1.113883.3.1937.99.62.3.2.13                  Is er sprake van gewichtstoename?   \n",
       "2.16.840.1.113883.3.1937.99.62.3.2.18                           Gegevens gewichtstoename   \n",
       "2.16.840.1.113883.3.1937.99.62.3.2.19                                                  -   \n",
       "2.16.840.1.113883.3.1937.99.62.3.2.20                                                  -   \n",
       "2.16.840.1.113883.3.1937.99.62.3.2.15                                     Lichaamslengte   \n",
       "2.16.840.1.113883.3.1937.99.62.3.2.2                        Datum meting lichaamsgewicht   \n",
       "2.16.840.1.113883.3.1937.99.62.3.2.5                Persoon die de meting verricht heeft   \n",
       "2.16.840.1.113883.3.1937.99.62.3.2.22                                               None   \n",
       "2.16.840.1.113883.3.1937.99.62.3.2.6                                             Persoon   \n",
       "2.16.840.1.113883.3.1937.99.62.3.2.7                                 Burgerservicenummer   \n",
       "\n",
       "                                       level     toplevel conformance  \\\n",
       "2.16.840.1.113883.3.1937.99.62.3.2.1       1  Meetwaarden         NaN   \n",
       "2.16.840.1.113883.3.1937.99.62.3.2.3       2  Meetwaarden           M   \n",
       "2.16.840.1.113883.3.1937.99.62.3.2.13      2  Meetwaarden         NaN   \n",
       "2.16.840.1.113883.3.1937.99.62.3.2.18      2  Meetwaarden           R   \n",
       "2.16.840.1.113883.3.1937.99.62.3.2.19      3  Meetwaarden           R   \n",
       "2.16.840.1.113883.3.1937.99.62.3.2.20      3  Meetwaarden           R   \n",
       "2.16.840.1.113883.3.1937.99.62.3.2.15      2  Meetwaarden         NaN   \n",
       "2.16.840.1.113883.3.1937.99.62.3.2.2       2  Meetwaarden         NaN   \n",
       "2.16.840.1.113883.3.1937.99.62.3.2.5       2  Meetwaarden         NaN   \n",
       "2.16.840.1.113883.3.1937.99.62.3.2.22      2  Meetwaarden           R   \n",
       "2.16.840.1.113883.3.1937.99.62.3.2.6       1      Persoon           M   \n",
       "2.16.840.1.113883.3.1937.99.62.3.2.7       2      Persoon           M   \n",
       "\n",
       "                                         datatype      cc   valuesetDisplay  \\\n",
       "2.16.840.1.113883.3.1937.99.62.3.2.1          NaN     NaN               NaN   \n",
       "2.16.840.1.113883.3.1937.99.62.3.2.3     quantity  1..1 M               NaN   \n",
       "2.16.840.1.113883.3.1937.99.62.3.2.13     boolean   0..1                NaN   \n",
       "2.16.840.1.113883.3.1937.99.62.3.2.18         NaN     NaN               NaN   \n",
       "2.16.840.1.113883.3.1937.99.62.3.2.19    quantity  0..1 R               NaN   \n",
       "2.16.840.1.113883.3.1937.99.62.3.2.20      string  0..1 R               NaN   \n",
       "2.16.840.1.113883.3.1937.99.62.3.2.15    quantity   0..1                NaN   \n",
       "2.16.840.1.113883.3.1937.99.62.3.2.2     datetime   0..1                NaN   \n",
       "2.16.840.1.113883.3.1937.99.62.3.2.5      ordinal   0..1     vs-measured-by   \n",
       "2.16.840.1.113883.3.1937.99.62.3.2.22        code  0..1 R  Weight Assesment   \n",
       "2.16.840.1.113883.3.1937.99.62.3.2.6          NaN     NaN               NaN   \n",
       "2.16.840.1.113883.3.1937.99.62.3.2.7   identifier  1..1 M               NaN   \n",
       "\n",
       "                                           valuesetName  \n",
       "2.16.840.1.113883.3.1937.99.62.3.2.1                NaN  \n",
       "2.16.840.1.113883.3.1937.99.62.3.2.3                NaN  \n",
       "2.16.840.1.113883.3.1937.99.62.3.2.13               NaN  \n",
       "2.16.840.1.113883.3.1937.99.62.3.2.18               NaN  \n",
       "2.16.840.1.113883.3.1937.99.62.3.2.19               NaN  \n",
       "2.16.840.1.113883.3.1937.99.62.3.2.20               NaN  \n",
       "2.16.840.1.113883.3.1937.99.62.3.2.15               NaN  \n",
       "2.16.840.1.113883.3.1937.99.62.3.2.2                NaN  \n",
       "2.16.840.1.113883.3.1937.99.62.3.2.5     vs-measured-by  \n",
       "2.16.840.1.113883.3.1937.99.62.3.2.22  weight-assesment  \n",
       "2.16.840.1.113883.3.1937.99.62.3.2.6                NaN  \n",
       "2.16.840.1.113883.3.1937.99.62.3.2.7                NaN  "
      ]
     },
     "execution_count": 4,
     "metadata": {},
     "output_type": "execute_result"
    }
   ],
   "source": [
    "def makeRows(parent, cols, valueSets, level=0, toplevel=None):\n",
    "    level += 1\n",
    "    frames = []\n",
    "    for concept in parent[\"concept\"]:\n",
    "        if (level == 1):\n",
    "            toplevel = concept['name'][0]['content']\n",
    "        dict = {key: concept[key] for key in concept.keys() if key in cols}\n",
    "        dict['name'] = concept['name'][0].get('content')\n",
    "        dict['desc'] = concept['desc'][0].get('content')\n",
    "        if 'valueDomain' in concept.keys():\n",
    "            dict['datatype'] = concept['valueDomain'][0].get('type')\n",
    "            dict['cc'] = concept.get('minimumMultiplicity', '') + '..' + concept.get('maximumMultiplicity', '') + ' ' + concept.get('conformance', '')\n",
    "        if 'valueSet' in concept.keys():\n",
    "            if ('name' in concept['valueSet'][0]):\n",
    "                dict['valuesetDisplay'] = concept['valueSet'][0].get('displayName')\n",
    "                dict['valuesetName'] = concept['valueSet'][0].get('name')\n",
    "                valueSets[concept['valueSet'][0].get('name')] = concept['valueSet'][0]\n",
    "        dict['level'] = level\n",
    "        dict['toplevel'] = toplevel\n",
    "        df = pd.DataFrame(dict, index=[dict['id']])\n",
    "        frames.append(df)\n",
    "        if 'concept' in concept.keys():\n",
    "            frames.append(makeRows(concept, cols, valueSets, level, toplevel))\n",
    "    return pd.concat(frames)\n",
    "\n",
    "# cols = ['id', 'statusCode', 'effectiveDate', 'type', 'datatype', 'minimumMultiplicity', 'maximumMultiplicity', 'isMandatory', 'iddisplay', 'shortName']\n",
    "cols = ['id', 'statusCode', 'type', 'datatype', 'minimumMultiplicity', 'maximumMultiplicity', 'conformance', 'isMandatory', 'iddisplay', 'shortName']\n",
    "valueSets = {}\n",
    "df = makeRows(dataset, cols, valueSets)\n",
    "status = ['draft', 'pending', 'active']\n",
    "df = df[df['statusCode'].isin(status)]\n",
    "df"
   ]
  },
  {
   "cell_type": "markdown",
   "metadata": {},
   "source": [
    "## Opslaan als Excel\n",
    "Het DataFrame exporteren naar Excel."
   ]
  },
  {
   "cell_type": "code",
   "execution_count": 5,
   "metadata": {},
   "outputs": [],
   "source": [
    "cols = ['name', 'iddisplay', 'statusCode', 'datatype', 'cc', 'desc', 'valuesetDisplay']\n",
    "writer = pd.ExcelWriter('Example_02_' + name + '.xlsx')\n",
    "workbook = writer.book\n",
    "bold_format = workbook.add_format({'bold': True})\n",
    "about = workbook.add_worksheet('About')\n",
    "about.write(1, 1, 'Name')\n",
    "about.write(1, 2, dataset['name'][0].get('content'))\n",
    "about.write(2, 1, 'Desc')\n",
    "about.write(2, 2, dataset['desc'][0].get('content'))\n",
    "about.write(2, 1, 'Created')\n",
    "about.write(2, 2, datetime.datetime.now().strftime('%c'))\n",
    "about.set_column('B:B', 30, bold_format)\n",
    "about.set_column('C:C', 30)\n",
    "row = 3\n",
    "for key in dataset.keys():\n",
    "    if (key in ['name', 'desc', 'concept']):\n",
    "        pass\n",
    "    else:\n",
    "        about.write(row, 1, key)\n",
    "        about.write(row, 2, dataset[key])\n",
    "        row += 1 \n",
    "for sheetname in df['toplevel'].drop_duplicates():\n",
    "    dfsheet = df[df[\"toplevel\"] == sheetname]\n",
    "    dfsheet[cols].to_excel(writer, index=False, sheet_name=sheetname)\n",
    "    worksheet = writer.sheets[sheetname]\n",
    "    worksheet.outline_settings(symbols_below=False)\n",
    "    worksheet.freeze_panes(1, 1)\n",
    "    worksheet.set_column('A:A', 30, bold_format)\n",
    "    worksheet.set_column('B:B', 30)\n",
    "    worksheet.set_column('C:C', 10)\n",
    "    worksheet.set_column('F:F', 100)\n",
    "    worksheet.set_column('G:G', 20)\n",
    "    i = 0\n",
    "    for level in dfsheet['level']:\n",
    "        i += 1\n",
    "        if (level > 1):\n",
    "            worksheet.set_row(i, None, None, {'level': level - 1 if level - 1 < 7 else 7})  # max 7 group levels in Excel\n",
    "for valueSet in sorted(valueSets):\n",
    "    worksheet =  workbook.add_worksheet(valueSet[0:31])\n",
    "    vs = valueSets[valueSet]\n",
    "    worksheet.write(0, 0, 'Id')\n",
    "    worksheet.write(0, 1, vs.get('id'))\n",
    "    worksheet.write(1, 0, 'Name')\n",
    "    worksheet.write(1, 1, vs.get('name'))\n",
    "    worksheet.write(2, 0, 'DisplayName')\n",
    "    worksheet.write(2, 1, vs.get('displayName'))\n",
    "    worksheet.write(3, 0, 'EffectiveDate')\n",
    "    worksheet.write(3, 1, vs.get('effectiveDate'))\n",
    "    worksheet.write(4, 0, 'StatusCode')\n",
    "    worksheet.write(4, 1, vs.get('statusCode'))\n",
    "    worksheet.write(6, 0, 'Code')\n",
    "    worksheet.write(6, 1, 'CodeSystem')\n",
    "    worksheet.write(6, 2, 'DisplayName')\n",
    "    worksheet.write(6, 3, 'Level')\n",
    "    worksheet.write(6, 4, 'Type')\n",
    "    worksheet.write(6, 5, 'Ordinal')\n",
    "    worksheet.set_row(6, 18, bold_format)\n",
    "    row = 7\n",
    "    try:\n",
    "        for concept in valueSets[valueSet]['conceptList'][0]['concept']:\n",
    "            worksheet.write(row, 0, concept.get('code'))\n",
    "            worksheet.write(row, 1, concept.get('codeSystem'))\n",
    "            worksheet.write(row, 2, concept.get('displayName'))\n",
    "            worksheet.write(row, 3, concept.get('level'))\n",
    "            worksheet.write(row, 4, concept.get('type'))\n",
    "            worksheet.write(row, 5, concept.get('ordinal'))\n",
    "            worksheet.set_column('A:A', 30)\n",
    "            worksheet.set_column('B:B', 60)\n",
    "            worksheet.set_column('C:C', 60)\n",
    "            row += 1\n",
    "    except KeyError:\n",
    "        pass\n",
    "writer.save()"
   ]
  }
 ],
 "metadata": {
  "hide_input": false,
  "kernelspec": {
   "display_name": "Python 3",
   "language": "python",
   "name": "python3"
  },
  "language_info": {
   "codemirror_mode": {
    "name": "ipython",
    "version": 3
   },
   "file_extension": ".py",
   "mimetype": "text/x-python",
   "name": "python",
   "nbconvert_exporter": "python",
   "pygments_lexer": "ipython3",
   "version": "3.7.7"
  }
 },
 "nbformat": 4,
 "nbformat_minor": 4
}
